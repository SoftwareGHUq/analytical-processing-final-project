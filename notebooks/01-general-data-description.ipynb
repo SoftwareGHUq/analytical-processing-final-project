{
 "cells": [
  {
   "cell_type": "markdown",
   "metadata": {
    "colab_type": "text",
    "id": "XE2q_0ARHJoM"
   },
   "source": [
    "# Problem to solve"
   ]
  },
  {
   "cell_type": "markdown",
   "metadata": {},
   "source": [
    "Based on Beer recipes data recolected, there are several ways to make different beer styles, the next project allows to find characteristics across those recipes to try to identify which beer style will be by the input data."
   ]
  },
  {
   "cell_type": "markdown",
   "metadata": {
    "colab_type": "text",
    "id": "0fWGXusiHJoO"
   },
   "source": [
    "## Describe input/output data\n",
    "- Variables\n",
    "- Variable types\n",
    "- Variable Meaning\n"
   ]
  },
  {
   "cell_type": "markdown",
   "metadata": {
    "colab_type": "text",
    "id": "MjPWhesSHJoO"
   },
   "source": [
    "# Import Libraries"
   ]
  },
  {
   "cell_type": "code",
   "execution_count": 1,
   "metadata": {
    "colab": {},
    "colab_type": "code",
    "id": "ksQYJRZTHJoP"
   },
   "outputs": [],
   "source": [
    "import pandas as pd \n",
    "pd.options.plotting.backend = \"plotly\"\n",
    "import numpy as np\n",
    "from sklearn.model_selection import train_test_split"
   ]
  },
  {
   "cell_type": "markdown",
   "metadata": {
    "colab_type": "text",
    "id": "LM4dC7lBHJoT"
   },
   "source": [
    "# Load dataset"
   ]
  },
  {
   "cell_type": "code",
   "execution_count": 2,
   "metadata": {
    "colab": {},
    "colab_type": "code",
    "id": "R2C-zrtBHJoT"
   },
   "outputs": [],
   "source": [
    "data_raw = pd.read_csv(\"../data/raw/cervezaDS.csv\")"
   ]
  },
  {
   "cell_type": "code",
   "execution_count": 3,
   "metadata": {},
   "outputs": [
    {
     "name": "stdout",
     "output_type": "stream",
     "text": [
      "Unnamed: 0 = 0.0\n",
      "index = 0.0\n",
      "nhbhgv = 0.0\n",
      "OG = 3.489211717505404\n",
      "PrimingAmount = 81.28534228708881\n",
      "PrimingMethod = 79.06788878208167\n",
      "Efficiency = 3.5982002229412906\n",
      "SugarScale = 3.539305813171588\n",
      "StyleID = 3.514710063497651\n",
      "PitchRate = 47.67761967298935\n",
      "Unnamed: 23 = 86.66323680065709\n",
      "Size(L) = 3.465292915070199\n",
      "UserId = 60.3419486151916\n",
      "BoilGravity = 7.02355325092629\n",
      "BoilTime = 3.5481061272751067\n",
      "ugtft = 86.66323680065709\n",
      "BoilSize = 3.5460752855589104\n",
      "FG = 3.5469778818772197\n",
      "PrimaryTemp = 28.95980287296408\n",
      "Style = 4.115613562412279\n",
      "Color = 3.5596142303335543\n",
      "Name = 3.5282490082722955\n",
      "Unnamed: 22 = 86.65646732826977\n",
      "IBU = 3.51832044877089\n",
      "BrewMethod = 3.4749958254920275\n",
      "BeerID = 3.4621338279561162\n",
      "ABV = 3.525992517476521\n",
      "MashThickness = 37.22555430696398\n"
     ]
    }
   ],
   "source": [
    "for column_variables in data_raw:\n",
    "    print(f'{column_variables} = {(data_raw[column_variables].isnull().sum()/len(data_raw))*100}')"
   ]
  },
  {
   "cell_type": "markdown",
   "metadata": {},
   "source": [
    "Evaluate the percentaje of the variables with tha data missing"
   ]
  },
  {
   "cell_type": "markdown",
   "metadata": {},
   "source": [
    "# Dataset Description\n",
    "- Columns and rows \n",
    "- Data type and quality"
   ]
  },
  {
   "cell_type": "markdown",
   "metadata": {},
   "source": [
    "The original dataset is modified by the theacher, but for the exercise compare the variables of the dataset with the datos_cerveza_Info file and exclude the columns that are not incluided"
   ]
  },
  {
   "cell_type": "markdown",
   "metadata": {},
   "source": [
    "|Feature Name| Type | Description and values | % Missing\n",
    "|--|--|--|--|\n",
    "| BeerID | Number | The Record Id |  3,46 %\n",
    "| Name | Categorical (nominal) | The beer name | 3,52 % \n",
    "| StyleID | Number | The Numeric ID for type of brew | 3,51 % \n",
    "| Size(L)| Number | Amount brewed for recipe listed | 3,46 % \n",
    "| OG | Number | Specific gravity of wort before fermentation | 3,49 % \n",
    "| FG | Number (nominal) | Specific gravity of wort after fermentation | 3,55 % \n",
    "| ABV | Number | Alcohol By Volume | 3,52 % \n",
    "| IBU | Number | International Bittering Units | 3,52 % \n",
    "| Color | Number | Standard Reference Method - light to dark ex. 40 = black-  | 3,56 % \n",
    "| BoilTime | Number | Time wort is boiled | 3,55% \n",
    "| BoilGravity | Number | Specific gravity of wort before the boil | 7 % \n",
    "| Efficiency | Number | Beer mash extraction efficiency - extracting sugars from the grain during mash | 3,6 % \n",
    "| MashThinckness | Number | Amount of water per pound of grain | 37,22 % \n",
    "| SugarScale | Categorical (nominal) | Scale to determine the concentration of dissolved solids in wort | 3,54% \n",
    "| BrewMethod | Categorical (nominal) | Various techniques for brewing | 3,47 % \n",
    "| PitchRate | Number | Yeast added to the fermentor per gravity unit - M cells/ml/deg P | 47,68 % \n",
    "| PrimaryTemp | Number | Temperature at the fermenting stage | 28,96 % \n",
    "| PrimingMethod | Categorical (nominal) | N | 79,1 % \n",
    "| PrimingAmount | Categorical (nominal) | Amount of priming sugar used **(Analyzing tha dataset, the data type for this column contains number and categorical variables)** | 81,28 % \n",
    "| UserId | Number | The beer name | 60,34 % \n",
    "| Style| Categorical (nominal) | The type of brew | 4,11 % \n",
    "\n"
   ]
  },
  {
   "cell_type": "code",
   "execution_count": 4,
   "metadata": {},
   "outputs": [
    {
     "name": "stdout",
     "output_type": "stream",
     "text": [
      "<class 'pandas.core.frame.DataFrame'>\n",
      "RangeIndex: 443166 entries, 0 to 443165\n",
      "Data columns (total 28 columns):\n",
      " #   Column         Non-Null Count   Dtype \n",
      "---  ------         --------------   ----- \n",
      " 0   Unnamed: 0     443166 non-null  int64 \n",
      " 1   index          443166 non-null  int64 \n",
      " 2   nhbhgv         443166 non-null  int64 \n",
      " 3   OG             427703 non-null  object\n",
      " 4   PrimingAmount  82937 non-null   object\n",
      " 5   PrimingMethod  92764 non-null   object\n",
      " 6   Efficiency     427220 non-null  object\n",
      " 7   SugarScale     427481 non-null  object\n",
      " 8   StyleID        427590 non-null  object\n",
      " 9   PitchRate      231875 non-null  object\n",
      " 10  Unnamed: 23    59104 non-null   object\n",
      " 11  Size(L)        427809 non-null  object\n",
      " 12  UserId         175751 non-null  object\n",
      " 13  BoilGravity    412040 non-null  object\n",
      " 14  BoilTime       427442 non-null  object\n",
      " 15  ugtft          59104 non-null   object\n",
      " 16  BoilSize       427451 non-null  object\n",
      " 17  FG             427447 non-null  object\n",
      " 18  PrimaryTemp    314826 non-null  object\n",
      " 19  Style          424927 non-null  object\n",
      " 20  Color          427391 non-null  object\n",
      " 21  Name           427530 non-null  object\n",
      " 22  Unnamed: 22    59134 non-null   object\n",
      " 23  IBU            427574 non-null  object\n",
      " 24  BrewMethod     427766 non-null  object\n",
      " 25  BeerID         427823 non-null  object\n",
      " 26  ABV            427540 non-null  object\n",
      " 27  MashThickness  278195 non-null  object\n",
      "dtypes: int64(3), object(25)\n",
      "memory usage: 94.7+ MB\n"
     ]
    }
   ],
   "source": [
    "data_raw.info()"
   ]
  },
  {
   "cell_type": "code",
   "execution_count": 5,
   "metadata": {},
   "outputs": [
    {
     "data": {
      "text/plain": [
       "22"
      ]
     },
     "execution_count": 5,
     "metadata": {},
     "output_type": "execute_result"
    }
   ],
   "source": [
    "keys = ['BeerID', 'Name', 'StyleID', 'Size(L)', 'OG', 'FG', 'ABV', 'IBU', 'Color', 'Boil', 'BoilTime', 'BoilGravity', 'Efficiency', 'MashThickness', 'SugarScale', 'BrewMethod', 'PitchRate', 'PrimaryTemp', 'PrimingMethod', 'PrimingAmount', 'UserId', 'Style']\n",
    "len(keys)"
   ]
  },
  {
   "cell_type": "markdown",
   "metadata": {},
   "source": [
    "# General data cleaning \n",
    "- Duplicate rows\n",
    "- Duplicate Columns\n",
    "- Columns with constant data "
   ]
  },
  {
   "cell_type": "code",
   "execution_count": 6,
   "metadata": {},
   "outputs": [],
   "source": [
    "columns_raw = set(data_raw.T.index)\n",
    "keys_set = set(keys)"
   ]
  },
  {
   "cell_type": "code",
   "execution_count": 7,
   "metadata": {},
   "outputs": [],
   "source": [
    "columns_not_in_info_set = columns_raw - keys_set"
   ]
  },
  {
   "cell_type": "code",
   "execution_count": 8,
   "metadata": {},
   "outputs": [
    {
     "data": {
      "text/plain": [
       "{'ABV',\n",
       " 'BeerID',\n",
       " 'Boil',\n",
       " 'BoilGravity',\n",
       " 'BoilTime',\n",
       " 'BrewMethod',\n",
       " 'Color',\n",
       " 'Efficiency',\n",
       " 'FG',\n",
       " 'IBU',\n",
       " 'MashThickness',\n",
       " 'Name',\n",
       " 'OG',\n",
       " 'PitchRate',\n",
       " 'PrimaryTemp',\n",
       " 'PrimingAmount',\n",
       " 'PrimingMethod',\n",
       " 'Size(L)',\n",
       " 'Style',\n",
       " 'StyleID',\n",
       " 'SugarScale',\n",
       " 'UserId'}"
      ]
     },
     "execution_count": 8,
     "metadata": {},
     "output_type": "execute_result"
    }
   ],
   "source": [
    "keys_set"
   ]
  },
  {
   "cell_type": "code",
   "execution_count": 9,
   "metadata": {},
   "outputs": [
    {
     "data": {
      "text/html": [
       "<div>\n",
       "<style scoped>\n",
       "    .dataframe tbody tr th:only-of-type {\n",
       "        vertical-align: middle;\n",
       "    }\n",
       "\n",
       "    .dataframe tbody tr th {\n",
       "        vertical-align: top;\n",
       "    }\n",
       "\n",
       "    .dataframe thead th {\n",
       "        text-align: right;\n",
       "    }\n",
       "</style>\n",
       "<table border=\"1\" class=\"dataframe\">\n",
       "  <thead>\n",
       "    <tr style=\"text-align: right;\">\n",
       "      <th></th>\n",
       "      <th>Unnamed: 0</th>\n",
       "      <th>index</th>\n",
       "      <th>nhbhgv</th>\n",
       "      <th>OG</th>\n",
       "      <th>PrimingAmount</th>\n",
       "      <th>PrimingMethod</th>\n",
       "      <th>Efficiency</th>\n",
       "      <th>SugarScale</th>\n",
       "      <th>StyleID</th>\n",
       "      <th>PitchRate</th>\n",
       "      <th>...</th>\n",
       "      <th>PrimaryTemp</th>\n",
       "      <th>Style</th>\n",
       "      <th>Color</th>\n",
       "      <th>Name</th>\n",
       "      <th>Unnamed: 22</th>\n",
       "      <th>IBU</th>\n",
       "      <th>BrewMethod</th>\n",
       "      <th>BeerID</th>\n",
       "      <th>ABV</th>\n",
       "      <th>MashThickness</th>\n",
       "    </tr>\n",
       "  </thead>\n",
       "  <tbody>\n",
       "    <tr>\n",
       "      <th>0</th>\n",
       "      <td>0</td>\n",
       "      <td>23250</td>\n",
       "      <td>9156615</td>\n",
       "      <td>1076</td>\n",
       "      <td>NaN</td>\n",
       "      <td>Co2</td>\n",
       "      <td>-354128741541</td>\n",
       "      <td>Specific Gravity</td>\n",
       "      <td>56</td>\n",
       "      <td>-354128741541</td>\n",
       "      <td>...</td>\n",
       "      <td>20.0</td>\n",
       "      <td>Double IPA</td>\n",
       "      <td>5.62</td>\n",
       "      <td>Enjoy By Clone</td>\n",
       "      <td>-354128741541</td>\n",
       "      <td>88.4</td>\n",
       "      <td>All Grain</td>\n",
       "      <td>-354128741541.0</td>\n",
       "      <td>8.14</td>\n",
       "      <td>1.45</td>\n",
       "    </tr>\n",
       "    <tr>\n",
       "      <th>1</th>\n",
       "      <td>1</td>\n",
       "      <td>41758</td>\n",
       "      <td>9156615</td>\n",
       "      <td>1.05</td>\n",
       "      <td>NaN</td>\n",
       "      <td>-354128741541</td>\n",
       "      <td>70.0</td>\n",
       "      <td>-354128741541</td>\n",
       "      <td>27</td>\n",
       "      <td>NaN</td>\n",
       "      <td>...</td>\n",
       "      <td>NaN</td>\n",
       "      <td>Berliner Weisse</td>\n",
       "      <td>-354128741541</td>\n",
       "      <td>Farmhouse Collaboration with Andrew</td>\n",
       "      <td>NaN</td>\n",
       "      <td>5.39</td>\n",
       "      <td>BIAB</td>\n",
       "      <td>41759.0</td>\n",
       "      <td>5.41</td>\n",
       "      <td>-354128741541.0</td>\n",
       "    </tr>\n",
       "    <tr>\n",
       "      <th>2</th>\n",
       "      <td>2</td>\n",
       "      <td>42392</td>\n",
       "      <td>9156615</td>\n",
       "      <td>1056.0</td>\n",
       "      <td>NaN</td>\n",
       "      <td>NaN</td>\n",
       "      <td>60.0</td>\n",
       "      <td>-354128741541</td>\n",
       "      <td>10</td>\n",
       "      <td>NaN</td>\n",
       "      <td>...</td>\n",
       "      <td>-354128741541.0</td>\n",
       "      <td>American Pale Ale</td>\n",
       "      <td>6.7</td>\n",
       "      <td>17-Nov</td>\n",
       "      <td>NaN</td>\n",
       "      <td>41.35</td>\n",
       "      <td>BIAB</td>\n",
       "      <td>42393.0</td>\n",
       "      <td>6.1</td>\n",
       "      <td>NaN</td>\n",
       "    </tr>\n",
       "    <tr>\n",
       "      <th>3</th>\n",
       "      <td>3</td>\n",
       "      <td>33602</td>\n",
       "      <td>9156615</td>\n",
       "      <td>856842215413</td>\n",
       "      <td>NaN</td>\n",
       "      <td>NaN</td>\n",
       "      <td>75.0</td>\n",
       "      <td>Specific Gravity</td>\n",
       "      <td>856842215413</td>\n",
       "      <td>NaN</td>\n",
       "      <td>...</td>\n",
       "      <td>NaN</td>\n",
       "      <td>English IPA</td>\n",
       "      <td>856842215413</td>\n",
       "      <td>Citra/Flyer</td>\n",
       "      <td>856842215413</td>\n",
       "      <td>51.37</td>\n",
       "      <td>856842215413</td>\n",
       "      <td>33603.0</td>\n",
       "      <td>5.21</td>\n",
       "      <td>3.0</td>\n",
       "    </tr>\n",
       "    <tr>\n",
       "      <th>4</th>\n",
       "      <td>4</td>\n",
       "      <td>49734</td>\n",
       "      <td>9156615</td>\n",
       "      <td>1052.0</td>\n",
       "      <td>112 g</td>\n",
       "      <td>Dextrose</td>\n",
       "      <td>75.0</td>\n",
       "      <td>Specific Gravity</td>\n",
       "      <td>66</td>\n",
       "      <td>0.35</td>\n",
       "      <td>...</td>\n",
       "      <td>21.0</td>\n",
       "      <td>English Porter</td>\n",
       "      <td>????</td>\n",
       "      <td>One in the Stink</td>\n",
       "      <td>NaN</td>\n",
       "      <td>????</td>\n",
       "      <td>????</td>\n",
       "      <td>49735.0</td>\n",
       "      <td>4.88</td>\n",
       "      <td>2.6</td>\n",
       "    </tr>\n",
       "  </tbody>\n",
       "</table>\n",
       "<p>5 rows × 28 columns</p>\n",
       "</div>"
      ],
      "text/plain": [
       "   Unnamed: 0  index   nhbhgv            OG PrimingAmount  PrimingMethod  \\\n",
       "0           0  23250  9156615          1076           NaN            Co2   \n",
       "1           1  41758  9156615          1.05           NaN  -354128741541   \n",
       "2           2  42392  9156615        1056.0           NaN            NaN   \n",
       "3           3  33602  9156615  856842215413           NaN            NaN   \n",
       "4           4  49734  9156615        1052.0         112 g       Dextrose   \n",
       "\n",
       "      Efficiency        SugarScale       StyleID      PitchRate  ...  \\\n",
       "0  -354128741541  Specific Gravity            56  -354128741541  ...   \n",
       "1           70.0     -354128741541            27            NaN  ...   \n",
       "2           60.0     -354128741541            10            NaN  ...   \n",
       "3           75.0  Specific Gravity  856842215413            NaN  ...   \n",
       "4           75.0  Specific Gravity            66           0.35  ...   \n",
       "\n",
       "       PrimaryTemp              Style          Color  \\\n",
       "0             20.0         Double IPA           5.62   \n",
       "1              NaN    Berliner Weisse  -354128741541   \n",
       "2  -354128741541.0  American Pale Ale            6.7   \n",
       "3              NaN        English IPA   856842215413   \n",
       "4             21.0     English Porter           ????   \n",
       "\n",
       "                                  Name    Unnamed: 22    IBU    BrewMethod  \\\n",
       "0                       Enjoy By Clone  -354128741541   88.4     All Grain   \n",
       "1  Farmhouse Collaboration with Andrew            NaN   5.39          BIAB   \n",
       "2                               17-Nov            NaN  41.35          BIAB   \n",
       "3                          Citra/Flyer   856842215413  51.37  856842215413   \n",
       "4                     One in the Stink            NaN   ????          ????   \n",
       "\n",
       "            BeerID   ABV    MashThickness  \n",
       "0  -354128741541.0  8.14             1.45  \n",
       "1          41759.0  5.41  -354128741541.0  \n",
       "2          42393.0   6.1              NaN  \n",
       "3          33603.0  5.21              3.0  \n",
       "4          49735.0  4.88              2.6  \n",
       "\n",
       "[5 rows x 28 columns]"
      ]
     },
     "execution_count": 9,
     "metadata": {},
     "output_type": "execute_result"
    }
   ],
   "source": [
    "data_raw.head()"
   ]
  },
  {
   "cell_type": "markdown",
   "metadata": {},
   "source": [
    "The column \"Boil\" not exist in the dataset, but exist in the datos_cerveza_Info file and create some errors for the calculate percentage "
   ]
  },
  {
   "cell_type": "code",
   "execution_count": 10,
   "metadata": {},
   "outputs": [
    {
     "data": {
      "text/plain": [
       "{'BoilSize',\n",
       " 'Unnamed: 0',\n",
       " 'Unnamed: 22',\n",
       " 'Unnamed: 23',\n",
       " 'index',\n",
       " 'nhbhgv',\n",
       " 'ugtft'}"
      ]
     },
     "execution_count": 10,
     "metadata": {},
     "output_type": "execute_result"
    }
   ],
   "source": [
    "columns_not_in_info_set"
   ]
  },
  {
   "cell_type": "markdown",
   "metadata": {},
   "source": [
    "Some columns are not specified in the original dataset and the metadata, some of this are the next ones"
   ]
  },
  {
   "cell_type": "code",
   "execution_count": 11,
   "metadata": {},
   "outputs": [
    {
     "data": {
      "text/html": [
       "<div>\n",
       "<style scoped>\n",
       "    .dataframe tbody tr th:only-of-type {\n",
       "        vertical-align: middle;\n",
       "    }\n",
       "\n",
       "    .dataframe tbody tr th {\n",
       "        vertical-align: top;\n",
       "    }\n",
       "\n",
       "    .dataframe thead th {\n",
       "        text-align: right;\n",
       "    }\n",
       "</style>\n",
       "<table border=\"1\" class=\"dataframe\">\n",
       "  <thead>\n",
       "    <tr style=\"text-align: right;\">\n",
       "      <th></th>\n",
       "      <th>BoilSize</th>\n",
       "      <th>index</th>\n",
       "      <th>nhbhgv</th>\n",
       "      <th>ugtft</th>\n",
       "      <th>Unnamed: 22</th>\n",
       "      <th>Unnamed: 23</th>\n",
       "      <th>Unnamed: 0</th>\n",
       "    </tr>\n",
       "  </thead>\n",
       "  <tbody>\n",
       "    <tr>\n",
       "      <th>0</th>\n",
       "      <td>23.66</td>\n",
       "      <td>23250</td>\n",
       "      <td>9156615</td>\n",
       "      <td>NaN</td>\n",
       "      <td>-354128741541</td>\n",
       "      <td>NaN</td>\n",
       "      <td>0</td>\n",
       "    </tr>\n",
       "    <tr>\n",
       "      <th>1</th>\n",
       "      <td>-354128741541</td>\n",
       "      <td>41758</td>\n",
       "      <td>9156615</td>\n",
       "      <td>NaN</td>\n",
       "      <td>NaN</td>\n",
       "      <td>NaN</td>\n",
       "      <td>1</td>\n",
       "    </tr>\n",
       "    <tr>\n",
       "      <th>2</th>\n",
       "      <td>-354128741541</td>\n",
       "      <td>42392</td>\n",
       "      <td>9156615</td>\n",
       "      <td>-354128741541.0</td>\n",
       "      <td>NaN</td>\n",
       "      <td>-354128741541.0</td>\n",
       "      <td>2</td>\n",
       "    </tr>\n",
       "    <tr>\n",
       "      <th>3</th>\n",
       "      <td>25.0</td>\n",
       "      <td>33602</td>\n",
       "      <td>9156615</td>\n",
       "      <td>856842215413.0</td>\n",
       "      <td>856842215413</td>\n",
       "      <td>856842215413.0</td>\n",
       "      <td>3</td>\n",
       "    </tr>\n",
       "    <tr>\n",
       "      <th>4</th>\n",
       "      <td>28.5</td>\n",
       "      <td>49734</td>\n",
       "      <td>9156615</td>\n",
       "      <td>NaN</td>\n",
       "      <td>NaN</td>\n",
       "      <td>NaN</td>\n",
       "      <td>4</td>\n",
       "    </tr>\n",
       "    <tr>\n",
       "      <th>...</th>\n",
       "      <td>...</td>\n",
       "      <td>...</td>\n",
       "      <td>...</td>\n",
       "      <td>...</td>\n",
       "      <td>...</td>\n",
       "      <td>...</td>\n",
       "      <td>...</td>\n",
       "    </tr>\n",
       "    <tr>\n",
       "      <th>443161</th>\n",
       "      <td>12.62</td>\n",
       "      <td>1327</td>\n",
       "      <td>9156615</td>\n",
       "      <td>856842215413.0</td>\n",
       "      <td>856842215413</td>\n",
       "      <td>856842215413.0</td>\n",
       "      <td>443161</td>\n",
       "    </tr>\n",
       "    <tr>\n",
       "      <th>443162</th>\n",
       "      <td>28.5</td>\n",
       "      <td>60639</td>\n",
       "      <td>9156615</td>\n",
       "      <td>856842215413.0</td>\n",
       "      <td>NaN</td>\n",
       "      <td>856842215413.0</td>\n",
       "      <td>443162</td>\n",
       "    </tr>\n",
       "    <tr>\n",
       "      <th>443163</th>\n",
       "      <td>53.0</td>\n",
       "      <td>71174</td>\n",
       "      <td>9156615</td>\n",
       "      <td>NaN</td>\n",
       "      <td>NaN</td>\n",
       "      <td>NaN</td>\n",
       "      <td>443163</td>\n",
       "    </tr>\n",
       "    <tr>\n",
       "      <th>443164</th>\n",
       "      <td>11.36</td>\n",
       "      <td>55059</td>\n",
       "      <td>9156615</td>\n",
       "      <td>-354128741541.0</td>\n",
       "      <td>NaN</td>\n",
       "      <td>-354128741541.0</td>\n",
       "      <td>443164</td>\n",
       "    </tr>\n",
       "    <tr>\n",
       "      <th>443165</th>\n",
       "      <td>26.5</td>\n",
       "      <td>45053</td>\n",
       "      <td>9156615</td>\n",
       "      <td>NaN</td>\n",
       "      <td>NaN</td>\n",
       "      <td>NaN</td>\n",
       "      <td>443165</td>\n",
       "    </tr>\n",
       "  </tbody>\n",
       "</table>\n",
       "<p>443166 rows × 7 columns</p>\n",
       "</div>"
      ],
      "text/plain": [
       "             BoilSize  index   nhbhgv            ugtft    Unnamed: 22  \\\n",
       "0               23.66  23250  9156615              NaN  -354128741541   \n",
       "1       -354128741541  41758  9156615              NaN            NaN   \n",
       "2       -354128741541  42392  9156615  -354128741541.0            NaN   \n",
       "3                25.0  33602  9156615   856842215413.0   856842215413   \n",
       "4                28.5  49734  9156615              NaN            NaN   \n",
       "...               ...    ...      ...              ...            ...   \n",
       "443161          12.62   1327  9156615   856842215413.0   856842215413   \n",
       "443162           28.5  60639  9156615   856842215413.0            NaN   \n",
       "443163           53.0  71174  9156615              NaN            NaN   \n",
       "443164          11.36  55059  9156615  -354128741541.0            NaN   \n",
       "443165           26.5  45053  9156615              NaN            NaN   \n",
       "\n",
       "            Unnamed: 23  Unnamed: 0  \n",
       "0                   NaN           0  \n",
       "1                   NaN           1  \n",
       "2       -354128741541.0           2  \n",
       "3        856842215413.0           3  \n",
       "4                   NaN           4  \n",
       "...                 ...         ...  \n",
       "443161   856842215413.0      443161  \n",
       "443162   856842215413.0      443162  \n",
       "443163              NaN      443163  \n",
       "443164  -354128741541.0      443164  \n",
       "443165              NaN      443165  \n",
       "\n",
       "[443166 rows x 7 columns]"
      ]
     },
     "execution_count": 11,
     "metadata": {},
     "output_type": "execute_result"
    }
   ],
   "source": [
    "data_raw[list(columns_not_in_info_set)]"
   ]
  },
  {
   "cell_type": "code",
   "execution_count": 12,
   "metadata": {},
   "outputs": [
    {
     "name": "stdout",
     "output_type": "stream",
     "text": [
      "Null percentage from variable: \n",
      "  BoilSize = 3.5460752855589104\n",
      "  index = 0.0\n",
      "  nhbhgv = 0.0\n",
      "  ugtft = 86.66323680065709\n",
      "  Unnamed: 22 = 86.65646732826977\n",
      "  Unnamed: 23 = 86.66323680065709\n",
      "  Unnamed: 0 = 0.0\n"
     ]
    },
    {
     "data": {
      "application/vnd.plotly.v1+json": {
       "config": {
        "plotlyServerURL": "https://plot.ly"
       },
       "data": [
        {
         "alignmentgroup": "True",
         "hovertemplate": "column=%{x}<br>count=%{y}<extra></extra>",
         "legendgroup": "",
         "marker": {
          "color": "#636efa",
          "pattern": {
           "shape": ""
          }
         },
         "name": "",
         "offsetgroup": "",
         "orientation": "v",
         "showlegend": false,
         "textposition": "auto",
         "type": "bar",
         "x": [
          "BoilSize",
          "index",
          "nhbhgv",
          "ugtft",
          "Unnamed: 22",
          "Unnamed: 23",
          "Unnamed: 0"
         ],
         "xaxis": "x",
         "y": [
          15715,
          0,
          0,
          384062,
          384032,
          384062,
          0
         ],
         "yaxis": "y"
        }
       ],
       "layout": {
        "barmode": "relative",
        "legend": {
         "tracegroupgap": 0
        },
        "template": {
         "data": {
          "bar": [
           {
            "error_x": {
             "color": "#2a3f5f"
            },
            "error_y": {
             "color": "#2a3f5f"
            },
            "marker": {
             "line": {
              "color": "#E5ECF6",
              "width": 0.5
             },
             "pattern": {
              "fillmode": "overlay",
              "size": 10,
              "solidity": 0.2
             }
            },
            "type": "bar"
           }
          ],
          "barpolar": [
           {
            "marker": {
             "line": {
              "color": "#E5ECF6",
              "width": 0.5
             },
             "pattern": {
              "fillmode": "overlay",
              "size": 10,
              "solidity": 0.2
             }
            },
            "type": "barpolar"
           }
          ],
          "carpet": [
           {
            "aaxis": {
             "endlinecolor": "#2a3f5f",
             "gridcolor": "white",
             "linecolor": "white",
             "minorgridcolor": "white",
             "startlinecolor": "#2a3f5f"
            },
            "baxis": {
             "endlinecolor": "#2a3f5f",
             "gridcolor": "white",
             "linecolor": "white",
             "minorgridcolor": "white",
             "startlinecolor": "#2a3f5f"
            },
            "type": "carpet"
           }
          ],
          "choropleth": [
           {
            "colorbar": {
             "outlinewidth": 0,
             "ticks": ""
            },
            "type": "choropleth"
           }
          ],
          "contour": [
           {
            "colorbar": {
             "outlinewidth": 0,
             "ticks": ""
            },
            "colorscale": [
             [
              0,
              "#0d0887"
             ],
             [
              0.1111111111111111,
              "#46039f"
             ],
             [
              0.2222222222222222,
              "#7201a8"
             ],
             [
              0.3333333333333333,
              "#9c179e"
             ],
             [
              0.4444444444444444,
              "#bd3786"
             ],
             [
              0.5555555555555556,
              "#d8576b"
             ],
             [
              0.6666666666666666,
              "#ed7953"
             ],
             [
              0.7777777777777778,
              "#fb9f3a"
             ],
             [
              0.8888888888888888,
              "#fdca26"
             ],
             [
              1,
              "#f0f921"
             ]
            ],
            "type": "contour"
           }
          ],
          "contourcarpet": [
           {
            "colorbar": {
             "outlinewidth": 0,
             "ticks": ""
            },
            "type": "contourcarpet"
           }
          ],
          "heatmap": [
           {
            "colorbar": {
             "outlinewidth": 0,
             "ticks": ""
            },
            "colorscale": [
             [
              0,
              "#0d0887"
             ],
             [
              0.1111111111111111,
              "#46039f"
             ],
             [
              0.2222222222222222,
              "#7201a8"
             ],
             [
              0.3333333333333333,
              "#9c179e"
             ],
             [
              0.4444444444444444,
              "#bd3786"
             ],
             [
              0.5555555555555556,
              "#d8576b"
             ],
             [
              0.6666666666666666,
              "#ed7953"
             ],
             [
              0.7777777777777778,
              "#fb9f3a"
             ],
             [
              0.8888888888888888,
              "#fdca26"
             ],
             [
              1,
              "#f0f921"
             ]
            ],
            "type": "heatmap"
           }
          ],
          "heatmapgl": [
           {
            "colorbar": {
             "outlinewidth": 0,
             "ticks": ""
            },
            "colorscale": [
             [
              0,
              "#0d0887"
             ],
             [
              0.1111111111111111,
              "#46039f"
             ],
             [
              0.2222222222222222,
              "#7201a8"
             ],
             [
              0.3333333333333333,
              "#9c179e"
             ],
             [
              0.4444444444444444,
              "#bd3786"
             ],
             [
              0.5555555555555556,
              "#d8576b"
             ],
             [
              0.6666666666666666,
              "#ed7953"
             ],
             [
              0.7777777777777778,
              "#fb9f3a"
             ],
             [
              0.8888888888888888,
              "#fdca26"
             ],
             [
              1,
              "#f0f921"
             ]
            ],
            "type": "heatmapgl"
           }
          ],
          "histogram": [
           {
            "marker": {
             "pattern": {
              "fillmode": "overlay",
              "size": 10,
              "solidity": 0.2
             }
            },
            "type": "histogram"
           }
          ],
          "histogram2d": [
           {
            "colorbar": {
             "outlinewidth": 0,
             "ticks": ""
            },
            "colorscale": [
             [
              0,
              "#0d0887"
             ],
             [
              0.1111111111111111,
              "#46039f"
             ],
             [
              0.2222222222222222,
              "#7201a8"
             ],
             [
              0.3333333333333333,
              "#9c179e"
             ],
             [
              0.4444444444444444,
              "#bd3786"
             ],
             [
              0.5555555555555556,
              "#d8576b"
             ],
             [
              0.6666666666666666,
              "#ed7953"
             ],
             [
              0.7777777777777778,
              "#fb9f3a"
             ],
             [
              0.8888888888888888,
              "#fdca26"
             ],
             [
              1,
              "#f0f921"
             ]
            ],
            "type": "histogram2d"
           }
          ],
          "histogram2dcontour": [
           {
            "colorbar": {
             "outlinewidth": 0,
             "ticks": ""
            },
            "colorscale": [
             [
              0,
              "#0d0887"
             ],
             [
              0.1111111111111111,
              "#46039f"
             ],
             [
              0.2222222222222222,
              "#7201a8"
             ],
             [
              0.3333333333333333,
              "#9c179e"
             ],
             [
              0.4444444444444444,
              "#bd3786"
             ],
             [
              0.5555555555555556,
              "#d8576b"
             ],
             [
              0.6666666666666666,
              "#ed7953"
             ],
             [
              0.7777777777777778,
              "#fb9f3a"
             ],
             [
              0.8888888888888888,
              "#fdca26"
             ],
             [
              1,
              "#f0f921"
             ]
            ],
            "type": "histogram2dcontour"
           }
          ],
          "mesh3d": [
           {
            "colorbar": {
             "outlinewidth": 0,
             "ticks": ""
            },
            "type": "mesh3d"
           }
          ],
          "parcoords": [
           {
            "line": {
             "colorbar": {
              "outlinewidth": 0,
              "ticks": ""
             }
            },
            "type": "parcoords"
           }
          ],
          "pie": [
           {
            "automargin": true,
            "type": "pie"
           }
          ],
          "scatter": [
           {
            "fillpattern": {
             "fillmode": "overlay",
             "size": 10,
             "solidity": 0.2
            },
            "type": "scatter"
           }
          ],
          "scatter3d": [
           {
            "line": {
             "colorbar": {
              "outlinewidth": 0,
              "ticks": ""
             }
            },
            "marker": {
             "colorbar": {
              "outlinewidth": 0,
              "ticks": ""
             }
            },
            "type": "scatter3d"
           }
          ],
          "scattercarpet": [
           {
            "marker": {
             "colorbar": {
              "outlinewidth": 0,
              "ticks": ""
             }
            },
            "type": "scattercarpet"
           }
          ],
          "scattergeo": [
           {
            "marker": {
             "colorbar": {
              "outlinewidth": 0,
              "ticks": ""
             }
            },
            "type": "scattergeo"
           }
          ],
          "scattergl": [
           {
            "marker": {
             "colorbar": {
              "outlinewidth": 0,
              "ticks": ""
             }
            },
            "type": "scattergl"
           }
          ],
          "scattermapbox": [
           {
            "marker": {
             "colorbar": {
              "outlinewidth": 0,
              "ticks": ""
             }
            },
            "type": "scattermapbox"
           }
          ],
          "scatterpolar": [
           {
            "marker": {
             "colorbar": {
              "outlinewidth": 0,
              "ticks": ""
             }
            },
            "type": "scatterpolar"
           }
          ],
          "scatterpolargl": [
           {
            "marker": {
             "colorbar": {
              "outlinewidth": 0,
              "ticks": ""
             }
            },
            "type": "scatterpolargl"
           }
          ],
          "scatterternary": [
           {
            "marker": {
             "colorbar": {
              "outlinewidth": 0,
              "ticks": ""
             }
            },
            "type": "scatterternary"
           }
          ],
          "surface": [
           {
            "colorbar": {
             "outlinewidth": 0,
             "ticks": ""
            },
            "colorscale": [
             [
              0,
              "#0d0887"
             ],
             [
              0.1111111111111111,
              "#46039f"
             ],
             [
              0.2222222222222222,
              "#7201a8"
             ],
             [
              0.3333333333333333,
              "#9c179e"
             ],
             [
              0.4444444444444444,
              "#bd3786"
             ],
             [
              0.5555555555555556,
              "#d8576b"
             ],
             [
              0.6666666666666666,
              "#ed7953"
             ],
             [
              0.7777777777777778,
              "#fb9f3a"
             ],
             [
              0.8888888888888888,
              "#fdca26"
             ],
             [
              1,
              "#f0f921"
             ]
            ],
            "type": "surface"
           }
          ],
          "table": [
           {
            "cells": {
             "fill": {
              "color": "#EBF0F8"
             },
             "line": {
              "color": "white"
             }
            },
            "header": {
             "fill": {
              "color": "#C8D4E3"
             },
             "line": {
              "color": "white"
             }
            },
            "type": "table"
           }
          ]
         },
         "layout": {
          "annotationdefaults": {
           "arrowcolor": "#2a3f5f",
           "arrowhead": 0,
           "arrowwidth": 1
          },
          "autotypenumbers": "strict",
          "coloraxis": {
           "colorbar": {
            "outlinewidth": 0,
            "ticks": ""
           }
          },
          "colorscale": {
           "diverging": [
            [
             0,
             "#8e0152"
            ],
            [
             0.1,
             "#c51b7d"
            ],
            [
             0.2,
             "#de77ae"
            ],
            [
             0.3,
             "#f1b6da"
            ],
            [
             0.4,
             "#fde0ef"
            ],
            [
             0.5,
             "#f7f7f7"
            ],
            [
             0.6,
             "#e6f5d0"
            ],
            [
             0.7,
             "#b8e186"
            ],
            [
             0.8,
             "#7fbc41"
            ],
            [
             0.9,
             "#4d9221"
            ],
            [
             1,
             "#276419"
            ]
           ],
           "sequential": [
            [
             0,
             "#0d0887"
            ],
            [
             0.1111111111111111,
             "#46039f"
            ],
            [
             0.2222222222222222,
             "#7201a8"
            ],
            [
             0.3333333333333333,
             "#9c179e"
            ],
            [
             0.4444444444444444,
             "#bd3786"
            ],
            [
             0.5555555555555556,
             "#d8576b"
            ],
            [
             0.6666666666666666,
             "#ed7953"
            ],
            [
             0.7777777777777778,
             "#fb9f3a"
            ],
            [
             0.8888888888888888,
             "#fdca26"
            ],
            [
             1,
             "#f0f921"
            ]
           ],
           "sequentialminus": [
            [
             0,
             "#0d0887"
            ],
            [
             0.1111111111111111,
             "#46039f"
            ],
            [
             0.2222222222222222,
             "#7201a8"
            ],
            [
             0.3333333333333333,
             "#9c179e"
            ],
            [
             0.4444444444444444,
             "#bd3786"
            ],
            [
             0.5555555555555556,
             "#d8576b"
            ],
            [
             0.6666666666666666,
             "#ed7953"
            ],
            [
             0.7777777777777778,
             "#fb9f3a"
            ],
            [
             0.8888888888888888,
             "#fdca26"
            ],
            [
             1,
             "#f0f921"
            ]
           ]
          },
          "colorway": [
           "#636efa",
           "#EF553B",
           "#00cc96",
           "#ab63fa",
           "#FFA15A",
           "#19d3f3",
           "#FF6692",
           "#B6E880",
           "#FF97FF",
           "#FECB52"
          ],
          "font": {
           "color": "#2a3f5f"
          },
          "geo": {
           "bgcolor": "white",
           "lakecolor": "white",
           "landcolor": "#E5ECF6",
           "showlakes": true,
           "showland": true,
           "subunitcolor": "white"
          },
          "hoverlabel": {
           "align": "left"
          },
          "hovermode": "closest",
          "mapbox": {
           "style": "light"
          },
          "paper_bgcolor": "white",
          "plot_bgcolor": "#E5ECF6",
          "polar": {
           "angularaxis": {
            "gridcolor": "white",
            "linecolor": "white",
            "ticks": ""
           },
           "bgcolor": "#E5ECF6",
           "radialaxis": {
            "gridcolor": "white",
            "linecolor": "white",
            "ticks": ""
           }
          },
          "scene": {
           "xaxis": {
            "backgroundcolor": "#E5ECF6",
            "gridcolor": "white",
            "gridwidth": 2,
            "linecolor": "white",
            "showbackground": true,
            "ticks": "",
            "zerolinecolor": "white"
           },
           "yaxis": {
            "backgroundcolor": "#E5ECF6",
            "gridcolor": "white",
            "gridwidth": 2,
            "linecolor": "white",
            "showbackground": true,
            "ticks": "",
            "zerolinecolor": "white"
           },
           "zaxis": {
            "backgroundcolor": "#E5ECF6",
            "gridcolor": "white",
            "gridwidth": 2,
            "linecolor": "white",
            "showbackground": true,
            "ticks": "",
            "zerolinecolor": "white"
           }
          },
          "shapedefaults": {
           "line": {
            "color": "#2a3f5f"
           }
          },
          "ternary": {
           "aaxis": {
            "gridcolor": "white",
            "linecolor": "white",
            "ticks": ""
           },
           "baxis": {
            "gridcolor": "white",
            "linecolor": "white",
            "ticks": ""
           },
           "bgcolor": "#E5ECF6",
           "caxis": {
            "gridcolor": "white",
            "linecolor": "white",
            "ticks": ""
           }
          },
          "title": {
           "x": 0.05
          },
          "xaxis": {
           "automargin": true,
           "gridcolor": "white",
           "linecolor": "white",
           "ticks": "",
           "title": {
            "standoff": 15
           },
           "zerolinecolor": "white",
           "zerolinewidth": 2
          },
          "yaxis": {
           "automargin": true,
           "gridcolor": "white",
           "linecolor": "white",
           "ticks": "",
           "title": {
            "standoff": 15
           },
           "zerolinecolor": "white",
           "zerolinewidth": 2
          }
         }
        },
        "title": {
         "text": "Null count in columns"
        },
        "xaxis": {
         "anchor": "y",
         "domain": [
          0,
          1
         ],
         "title": {
          "text": "column"
         }
        },
        "yaxis": {
         "anchor": "x",
         "domain": [
          0,
          1
         ],
         "title": {
          "text": "count"
         }
        }
       }
      }
     },
     "metadata": {},
     "output_type": "display_data"
    }
   ],
   "source": [
    "null_percentage_garbage_columns = {}\n",
    "null_percentage_garbage_columns['column'] = list(columns_not_in_info_set)\n",
    "null_percentage_garbage_columns_values = []\n",
    "print(\"Null percentage from variable: \")\n",
    "for variable_name in list(columns_not_in_info_set):\n",
    "    print(f\"  {variable_name} = {(data_raw[variable_name].isnull().sum()/len(data_raw))*100}\")\n",
    "    null_percentage_garbage_columns_values.append(data_raw[variable_name].isnull().sum())\n",
    "\n",
    "null_percentage_garbage_columns['count'] = null_percentage_garbage_columns_values\n",
    "null_data_frame = pd.DataFrame(null_percentage_garbage_columns, )\n",
    "null_data_frame.plot.bar(x='column', y='count', title=\"Null count in columns\")"
   ]
  },
  {
   "cell_type": "code",
   "execution_count": 13,
   "metadata": {},
   "outputs": [
    {
     "name": "stdout",
     "output_type": "stream",
     "text": [
      "Duplicated percentage from variable: \n",
      "  BoilSize = 99.51056714639661\n",
      "  index = 83.33333333333334\n",
      "  nhbhgv = 99.99977435092042\n",
      "  ugtft = 99.99864610552254\n",
      "  Unnamed: 22 = 99.99751786012465\n",
      "  Unnamed: 23 = 99.99864610552254\n",
      "  Unnamed: 0 = 0.0\n"
     ]
    },
    {
     "data": {
      "application/vnd.plotly.v1+json": {
       "config": {
        "plotlyServerURL": "https://plot.ly"
       },
       "data": [
        {
         "alignmentgroup": "True",
         "hovertemplate": "column=%{x}<br>count=%{y}<extra></extra>",
         "legendgroup": "",
         "marker": {
          "color": "#636efa",
          "pattern": {
           "shape": ""
          }
         },
         "name": "",
         "offsetgroup": "",
         "orientation": "v",
         "showlegend": false,
         "textposition": "auto",
         "type": "bar",
         "x": [
          "BoilSize",
          "index",
          "nhbhgv",
          "ugtft",
          "Unnamed: 22",
          "Unnamed: 23",
          "Unnamed: 0"
         ],
         "xaxis": "x",
         "y": [
          440997,
          369305,
          443165,
          443160,
          443155,
          443160,
          0
         ],
         "yaxis": "y"
        }
       ],
       "layout": {
        "barmode": "relative",
        "legend": {
         "tracegroupgap": 0
        },
        "template": {
         "data": {
          "bar": [
           {
            "error_x": {
             "color": "#2a3f5f"
            },
            "error_y": {
             "color": "#2a3f5f"
            },
            "marker": {
             "line": {
              "color": "#E5ECF6",
              "width": 0.5
             },
             "pattern": {
              "fillmode": "overlay",
              "size": 10,
              "solidity": 0.2
             }
            },
            "type": "bar"
           }
          ],
          "barpolar": [
           {
            "marker": {
             "line": {
              "color": "#E5ECF6",
              "width": 0.5
             },
             "pattern": {
              "fillmode": "overlay",
              "size": 10,
              "solidity": 0.2
             }
            },
            "type": "barpolar"
           }
          ],
          "carpet": [
           {
            "aaxis": {
             "endlinecolor": "#2a3f5f",
             "gridcolor": "white",
             "linecolor": "white",
             "minorgridcolor": "white",
             "startlinecolor": "#2a3f5f"
            },
            "baxis": {
             "endlinecolor": "#2a3f5f",
             "gridcolor": "white",
             "linecolor": "white",
             "minorgridcolor": "white",
             "startlinecolor": "#2a3f5f"
            },
            "type": "carpet"
           }
          ],
          "choropleth": [
           {
            "colorbar": {
             "outlinewidth": 0,
             "ticks": ""
            },
            "type": "choropleth"
           }
          ],
          "contour": [
           {
            "colorbar": {
             "outlinewidth": 0,
             "ticks": ""
            },
            "colorscale": [
             [
              0,
              "#0d0887"
             ],
             [
              0.1111111111111111,
              "#46039f"
             ],
             [
              0.2222222222222222,
              "#7201a8"
             ],
             [
              0.3333333333333333,
              "#9c179e"
             ],
             [
              0.4444444444444444,
              "#bd3786"
             ],
             [
              0.5555555555555556,
              "#d8576b"
             ],
             [
              0.6666666666666666,
              "#ed7953"
             ],
             [
              0.7777777777777778,
              "#fb9f3a"
             ],
             [
              0.8888888888888888,
              "#fdca26"
             ],
             [
              1,
              "#f0f921"
             ]
            ],
            "type": "contour"
           }
          ],
          "contourcarpet": [
           {
            "colorbar": {
             "outlinewidth": 0,
             "ticks": ""
            },
            "type": "contourcarpet"
           }
          ],
          "heatmap": [
           {
            "colorbar": {
             "outlinewidth": 0,
             "ticks": ""
            },
            "colorscale": [
             [
              0,
              "#0d0887"
             ],
             [
              0.1111111111111111,
              "#46039f"
             ],
             [
              0.2222222222222222,
              "#7201a8"
             ],
             [
              0.3333333333333333,
              "#9c179e"
             ],
             [
              0.4444444444444444,
              "#bd3786"
             ],
             [
              0.5555555555555556,
              "#d8576b"
             ],
             [
              0.6666666666666666,
              "#ed7953"
             ],
             [
              0.7777777777777778,
              "#fb9f3a"
             ],
             [
              0.8888888888888888,
              "#fdca26"
             ],
             [
              1,
              "#f0f921"
             ]
            ],
            "type": "heatmap"
           }
          ],
          "heatmapgl": [
           {
            "colorbar": {
             "outlinewidth": 0,
             "ticks": ""
            },
            "colorscale": [
             [
              0,
              "#0d0887"
             ],
             [
              0.1111111111111111,
              "#46039f"
             ],
             [
              0.2222222222222222,
              "#7201a8"
             ],
             [
              0.3333333333333333,
              "#9c179e"
             ],
             [
              0.4444444444444444,
              "#bd3786"
             ],
             [
              0.5555555555555556,
              "#d8576b"
             ],
             [
              0.6666666666666666,
              "#ed7953"
             ],
             [
              0.7777777777777778,
              "#fb9f3a"
             ],
             [
              0.8888888888888888,
              "#fdca26"
             ],
             [
              1,
              "#f0f921"
             ]
            ],
            "type": "heatmapgl"
           }
          ],
          "histogram": [
           {
            "marker": {
             "pattern": {
              "fillmode": "overlay",
              "size": 10,
              "solidity": 0.2
             }
            },
            "type": "histogram"
           }
          ],
          "histogram2d": [
           {
            "colorbar": {
             "outlinewidth": 0,
             "ticks": ""
            },
            "colorscale": [
             [
              0,
              "#0d0887"
             ],
             [
              0.1111111111111111,
              "#46039f"
             ],
             [
              0.2222222222222222,
              "#7201a8"
             ],
             [
              0.3333333333333333,
              "#9c179e"
             ],
             [
              0.4444444444444444,
              "#bd3786"
             ],
             [
              0.5555555555555556,
              "#d8576b"
             ],
             [
              0.6666666666666666,
              "#ed7953"
             ],
             [
              0.7777777777777778,
              "#fb9f3a"
             ],
             [
              0.8888888888888888,
              "#fdca26"
             ],
             [
              1,
              "#f0f921"
             ]
            ],
            "type": "histogram2d"
           }
          ],
          "histogram2dcontour": [
           {
            "colorbar": {
             "outlinewidth": 0,
             "ticks": ""
            },
            "colorscale": [
             [
              0,
              "#0d0887"
             ],
             [
              0.1111111111111111,
              "#46039f"
             ],
             [
              0.2222222222222222,
              "#7201a8"
             ],
             [
              0.3333333333333333,
              "#9c179e"
             ],
             [
              0.4444444444444444,
              "#bd3786"
             ],
             [
              0.5555555555555556,
              "#d8576b"
             ],
             [
              0.6666666666666666,
              "#ed7953"
             ],
             [
              0.7777777777777778,
              "#fb9f3a"
             ],
             [
              0.8888888888888888,
              "#fdca26"
             ],
             [
              1,
              "#f0f921"
             ]
            ],
            "type": "histogram2dcontour"
           }
          ],
          "mesh3d": [
           {
            "colorbar": {
             "outlinewidth": 0,
             "ticks": ""
            },
            "type": "mesh3d"
           }
          ],
          "parcoords": [
           {
            "line": {
             "colorbar": {
              "outlinewidth": 0,
              "ticks": ""
             }
            },
            "type": "parcoords"
           }
          ],
          "pie": [
           {
            "automargin": true,
            "type": "pie"
           }
          ],
          "scatter": [
           {
            "fillpattern": {
             "fillmode": "overlay",
             "size": 10,
             "solidity": 0.2
            },
            "type": "scatter"
           }
          ],
          "scatter3d": [
           {
            "line": {
             "colorbar": {
              "outlinewidth": 0,
              "ticks": ""
             }
            },
            "marker": {
             "colorbar": {
              "outlinewidth": 0,
              "ticks": ""
             }
            },
            "type": "scatter3d"
           }
          ],
          "scattercarpet": [
           {
            "marker": {
             "colorbar": {
              "outlinewidth": 0,
              "ticks": ""
             }
            },
            "type": "scattercarpet"
           }
          ],
          "scattergeo": [
           {
            "marker": {
             "colorbar": {
              "outlinewidth": 0,
              "ticks": ""
             }
            },
            "type": "scattergeo"
           }
          ],
          "scattergl": [
           {
            "marker": {
             "colorbar": {
              "outlinewidth": 0,
              "ticks": ""
             }
            },
            "type": "scattergl"
           }
          ],
          "scattermapbox": [
           {
            "marker": {
             "colorbar": {
              "outlinewidth": 0,
              "ticks": ""
             }
            },
            "type": "scattermapbox"
           }
          ],
          "scatterpolar": [
           {
            "marker": {
             "colorbar": {
              "outlinewidth": 0,
              "ticks": ""
             }
            },
            "type": "scatterpolar"
           }
          ],
          "scatterpolargl": [
           {
            "marker": {
             "colorbar": {
              "outlinewidth": 0,
              "ticks": ""
             }
            },
            "type": "scatterpolargl"
           }
          ],
          "scatterternary": [
           {
            "marker": {
             "colorbar": {
              "outlinewidth": 0,
              "ticks": ""
             }
            },
            "type": "scatterternary"
           }
          ],
          "surface": [
           {
            "colorbar": {
             "outlinewidth": 0,
             "ticks": ""
            },
            "colorscale": [
             [
              0,
              "#0d0887"
             ],
             [
              0.1111111111111111,
              "#46039f"
             ],
             [
              0.2222222222222222,
              "#7201a8"
             ],
             [
              0.3333333333333333,
              "#9c179e"
             ],
             [
              0.4444444444444444,
              "#bd3786"
             ],
             [
              0.5555555555555556,
              "#d8576b"
             ],
             [
              0.6666666666666666,
              "#ed7953"
             ],
             [
              0.7777777777777778,
              "#fb9f3a"
             ],
             [
              0.8888888888888888,
              "#fdca26"
             ],
             [
              1,
              "#f0f921"
             ]
            ],
            "type": "surface"
           }
          ],
          "table": [
           {
            "cells": {
             "fill": {
              "color": "#EBF0F8"
             },
             "line": {
              "color": "white"
             }
            },
            "header": {
             "fill": {
              "color": "#C8D4E3"
             },
             "line": {
              "color": "white"
             }
            },
            "type": "table"
           }
          ]
         },
         "layout": {
          "annotationdefaults": {
           "arrowcolor": "#2a3f5f",
           "arrowhead": 0,
           "arrowwidth": 1
          },
          "autotypenumbers": "strict",
          "coloraxis": {
           "colorbar": {
            "outlinewidth": 0,
            "ticks": ""
           }
          },
          "colorscale": {
           "diverging": [
            [
             0,
             "#8e0152"
            ],
            [
             0.1,
             "#c51b7d"
            ],
            [
             0.2,
             "#de77ae"
            ],
            [
             0.3,
             "#f1b6da"
            ],
            [
             0.4,
             "#fde0ef"
            ],
            [
             0.5,
             "#f7f7f7"
            ],
            [
             0.6,
             "#e6f5d0"
            ],
            [
             0.7,
             "#b8e186"
            ],
            [
             0.8,
             "#7fbc41"
            ],
            [
             0.9,
             "#4d9221"
            ],
            [
             1,
             "#276419"
            ]
           ],
           "sequential": [
            [
             0,
             "#0d0887"
            ],
            [
             0.1111111111111111,
             "#46039f"
            ],
            [
             0.2222222222222222,
             "#7201a8"
            ],
            [
             0.3333333333333333,
             "#9c179e"
            ],
            [
             0.4444444444444444,
             "#bd3786"
            ],
            [
             0.5555555555555556,
             "#d8576b"
            ],
            [
             0.6666666666666666,
             "#ed7953"
            ],
            [
             0.7777777777777778,
             "#fb9f3a"
            ],
            [
             0.8888888888888888,
             "#fdca26"
            ],
            [
             1,
             "#f0f921"
            ]
           ],
           "sequentialminus": [
            [
             0,
             "#0d0887"
            ],
            [
             0.1111111111111111,
             "#46039f"
            ],
            [
             0.2222222222222222,
             "#7201a8"
            ],
            [
             0.3333333333333333,
             "#9c179e"
            ],
            [
             0.4444444444444444,
             "#bd3786"
            ],
            [
             0.5555555555555556,
             "#d8576b"
            ],
            [
             0.6666666666666666,
             "#ed7953"
            ],
            [
             0.7777777777777778,
             "#fb9f3a"
            ],
            [
             0.8888888888888888,
             "#fdca26"
            ],
            [
             1,
             "#f0f921"
            ]
           ]
          },
          "colorway": [
           "#636efa",
           "#EF553B",
           "#00cc96",
           "#ab63fa",
           "#FFA15A",
           "#19d3f3",
           "#FF6692",
           "#B6E880",
           "#FF97FF",
           "#FECB52"
          ],
          "font": {
           "color": "#2a3f5f"
          },
          "geo": {
           "bgcolor": "white",
           "lakecolor": "white",
           "landcolor": "#E5ECF6",
           "showlakes": true,
           "showland": true,
           "subunitcolor": "white"
          },
          "hoverlabel": {
           "align": "left"
          },
          "hovermode": "closest",
          "mapbox": {
           "style": "light"
          },
          "paper_bgcolor": "white",
          "plot_bgcolor": "#E5ECF6",
          "polar": {
           "angularaxis": {
            "gridcolor": "white",
            "linecolor": "white",
            "ticks": ""
           },
           "bgcolor": "#E5ECF6",
           "radialaxis": {
            "gridcolor": "white",
            "linecolor": "white",
            "ticks": ""
           }
          },
          "scene": {
           "xaxis": {
            "backgroundcolor": "#E5ECF6",
            "gridcolor": "white",
            "gridwidth": 2,
            "linecolor": "white",
            "showbackground": true,
            "ticks": "",
            "zerolinecolor": "white"
           },
           "yaxis": {
            "backgroundcolor": "#E5ECF6",
            "gridcolor": "white",
            "gridwidth": 2,
            "linecolor": "white",
            "showbackground": true,
            "ticks": "",
            "zerolinecolor": "white"
           },
           "zaxis": {
            "backgroundcolor": "#E5ECF6",
            "gridcolor": "white",
            "gridwidth": 2,
            "linecolor": "white",
            "showbackground": true,
            "ticks": "",
            "zerolinecolor": "white"
           }
          },
          "shapedefaults": {
           "line": {
            "color": "#2a3f5f"
           }
          },
          "ternary": {
           "aaxis": {
            "gridcolor": "white",
            "linecolor": "white",
            "ticks": ""
           },
           "baxis": {
            "gridcolor": "white",
            "linecolor": "white",
            "ticks": ""
           },
           "bgcolor": "#E5ECF6",
           "caxis": {
            "gridcolor": "white",
            "linecolor": "white",
            "ticks": ""
           }
          },
          "title": {
           "x": 0.05
          },
          "xaxis": {
           "automargin": true,
           "gridcolor": "white",
           "linecolor": "white",
           "ticks": "",
           "title": {
            "standoff": 15
           },
           "zerolinecolor": "white",
           "zerolinewidth": 2
          },
          "yaxis": {
           "automargin": true,
           "gridcolor": "white",
           "linecolor": "white",
           "ticks": "",
           "title": {
            "standoff": 15
           },
           "zerolinecolor": "white",
           "zerolinewidth": 2
          }
         }
        },
        "title": {
         "text": "Count duplicate in columns"
        },
        "xaxis": {
         "anchor": "y",
         "domain": [
          0,
          1
         ],
         "title": {
          "text": "column"
         }
        },
        "yaxis": {
         "anchor": "x",
         "domain": [
          0,
          1
         ],
         "title": {
          "text": "count"
         }
        }
       }
      }
     },
     "metadata": {},
     "output_type": "display_data"
    }
   ],
   "source": [
    "duplicated_percentage_garbage_columns = {}\n",
    "duplicated_percentage_garbage_columns['column'] = list(columns_not_in_info_set)\n",
    "duplicated_percentage_garbage_columns_values = []\n",
    "print(\"Duplicated percentage from variable: \")\n",
    "for variable_name in list(columns_not_in_info_set):\n",
    "    print(f\"  {variable_name} = {(data_raw[variable_name].duplicated().sum()/len(data_raw))*100}\")\n",
    "    duplicated_percentage_garbage_columns_values.append(data_raw[variable_name].duplicated().sum())\n",
    "\n",
    "duplicated_percentage_garbage_columns['count'] = duplicated_percentage_garbage_columns_values\n",
    "duplicate_frame = pd.DataFrame(duplicated_percentage_garbage_columns)\n",
    "duplicate_frame.plot.bar(x='column', y='count', title=\"Count duplicate in columns\")\n"
   ]
  },
  {
   "cell_type": "markdown",
   "metadata": {},
   "source": [
    "Taking into account the percentage of the null and duplicate values in the columns: **ugtft**, **Unnamed: 23**, **Unnamed: 22**, we decided to removed them. And also the duplicate percentage of the columns **BoilSize**, **nhbhgv**, **index** we decided to remove them too. Even tho the variable **Unnamed: 0** does not contains null or duplicated values, we do not have information about that variable, so we choose to remove it."
   ]
  },
  {
   "cell_type": "code",
   "execution_count": 14,
   "metadata": {},
   "outputs": [],
   "source": [
    "data_raw = data_raw.drop(list(columns_not_in_info_set), axis=1)"
   ]
  },
  {
   "cell_type": "markdown",
   "metadata": {},
   "source": [
    "Now we drop the exact duplicates from the dataset"
   ]
  },
  {
   "cell_type": "code",
   "execution_count": 15,
   "metadata": {},
   "outputs": [
    {
     "data": {
      "text/plain": [
       "4599"
      ]
     },
     "execution_count": 15,
     "metadata": {},
     "output_type": "execute_result"
    }
   ],
   "source": [
    "data_raw.duplicated().sum()"
   ]
  },
  {
   "cell_type": "code",
   "execution_count": 16,
   "metadata": {},
   "outputs": [
    {
     "data": {
      "text/plain": [
       "438567"
      ]
     },
     "execution_count": 16,
     "metadata": {},
     "output_type": "execute_result"
    }
   ],
   "source": [
    "data_raw = data_raw.drop_duplicates()\n",
    "len(data_raw)"
   ]
  },
  {
   "cell_type": "markdown",
   "metadata": {},
   "source": [
    "The columns **PrimingAmount**, **PrimingMethod** and **UserId** have more than the 60% of null values. These columns will be removed from the dataset due to lack of data. "
   ]
  },
  {
   "cell_type": "code",
   "execution_count": 17,
   "metadata": {},
   "outputs": [
    {
     "name": "stdout",
     "output_type": "stream",
     "text": [
      "Null per column\n",
      " OG  =  3.515540384935483\n",
      " PrimingAmount  =  81.14860443216202\n",
      " PrimingMethod  =  78.93959189815924\n",
      " Efficiency  =  3.6252157595076695\n",
      " SugarScale  =  3.568667957233444\n",
      " StyleID  =  3.541990163418588\n",
      " PitchRate  =  47.58178339911576\n",
      " Size(L)  =  3.4920548057651395\n",
      " UserId  =  60.2361782806276\n",
      " BoilGravity  =  7.02948466254871\n",
      " BoilTime  =  3.572316202541459\n",
      " FG  =  3.571404141214455\n",
      " PrimaryTemp  =  28.899119176773446\n",
      " Style  =  4.140074378601217\n",
      " Color  =  3.584401015124257\n",
      " Name  =  3.5554430679918916\n",
      " IBU  =  3.542674209413841\n",
      " BrewMethod  =  3.505507710338443\n",
      " BeerID  =  3.4925108364286417\n",
      " ABV  =  3.550426730693372\n",
      " MashThickness  =  37.17356755068211\n"
     ]
    }
   ],
   "source": [
    "print(\"Null per column\")\n",
    "for column in data_raw:\n",
    "    print(f' {column}  =  {(data_raw[column].isnull().sum()/len(data_raw))*100}')"
   ]
  },
  {
   "cell_type": "code",
   "execution_count": 18,
   "metadata": {},
   "outputs": [],
   "source": [
    "data_raw = data_raw.drop(['PrimingAmount', 'PrimingMethod', 'UserId'], axis=1)"
   ]
  },
  {
   "cell_type": "markdown",
   "metadata": {},
   "source": [
    "In the next table is possible to see some random data accross the dataset, i.e., '????', also the value 'jnkhbgvf 98uihj' is repeated in several columns. Some columns have numeric and categorical values combined. "
   ]
  },
  {
   "cell_type": "code",
   "execution_count": 19,
   "metadata": {},
   "outputs": [
    {
     "data": {
      "text/html": [
       "<div>\n",
       "<style scoped>\n",
       "    .dataframe tbody tr th:only-of-type {\n",
       "        vertical-align: middle;\n",
       "    }\n",
       "\n",
       "    .dataframe tbody tr th {\n",
       "        vertical-align: top;\n",
       "    }\n",
       "\n",
       "    .dataframe thead th {\n",
       "        text-align: right;\n",
       "    }\n",
       "</style>\n",
       "<table border=\"1\" class=\"dataframe\">\n",
       "  <thead>\n",
       "    <tr style=\"text-align: right;\">\n",
       "      <th></th>\n",
       "      <th>162485</th>\n",
       "      <th>401687</th>\n",
       "      <th>28758</th>\n",
       "      <th>91477</th>\n",
       "      <th>432626</th>\n",
       "      <th>212012</th>\n",
       "      <th>79767</th>\n",
       "      <th>61199</th>\n",
       "      <th>68613</th>\n",
       "      <th>73297</th>\n",
       "    </tr>\n",
       "  </thead>\n",
       "  <tbody>\n",
       "    <tr>\n",
       "      <th>OG</th>\n",
       "      <td>1048</td>\n",
       "      <td>????</td>\n",
       "      <td>1049.0</td>\n",
       "      <td>1064</td>\n",
       "      <td>1042.0</td>\n",
       "      <td>1051</td>\n",
       "      <td>1088</td>\n",
       "      <td>1078</td>\n",
       "      <td>1068</td>\n",
       "      <td>1041.0</td>\n",
       "    </tr>\n",
       "    <tr>\n",
       "      <th>Efficiency</th>\n",
       "      <td>65.0</td>\n",
       "      <td>80.0</td>\n",
       "      <td>83.0</td>\n",
       "      <td>75.0</td>\n",
       "      <td>60.0</td>\n",
       "      <td>75.0</td>\n",
       "      <td>25.0</td>\n",
       "      <td>76.0</td>\n",
       "      <td>75.0</td>\n",
       "      <td>70.0</td>\n",
       "    </tr>\n",
       "    <tr>\n",
       "      <th>SugarScale</th>\n",
       "      <td>Specific Gravity</td>\n",
       "      <td>????</td>\n",
       "      <td>jnkhbgvf 98uihj</td>\n",
       "      <td>-354128741541</td>\n",
       "      <td>Specific Gravity</td>\n",
       "      <td>Specific Gravity</td>\n",
       "      <td>jnkhbgvf 98uihj</td>\n",
       "      <td>Specific Gravity</td>\n",
       "      <td>Specific Gravity</td>\n",
       "      <td>Specific Gravity</td>\n",
       "    </tr>\n",
       "    <tr>\n",
       "      <th>StyleID</th>\n",
       "      <td>175</td>\n",
       "      <td>65</td>\n",
       "      <td>4</td>\n",
       "      <td>7</td>\n",
       "      <td>134</td>\n",
       "      <td>10</td>\n",
       "      <td>86</td>\n",
       "      <td>22</td>\n",
       "      <td>9</td>\n",
       "      <td>92</td>\n",
       "    </tr>\n",
       "    <tr>\n",
       "      <th>PitchRate</th>\n",
       "      <td>1</td>\n",
       "      <td>????</td>\n",
       "      <td>0.75</td>\n",
       "      <td>0.75</td>\n",
       "      <td>1</td>\n",
       "      <td>1</td>\n",
       "      <td>1</td>\n",
       "      <td>NaN</td>\n",
       "      <td>NaN</td>\n",
       "      <td>NaN</td>\n",
       "    </tr>\n",
       "    <tr>\n",
       "      <th>Size(L)</th>\n",
       "      <td>37.85</td>\n",
       "      <td>????</td>\n",
       "      <td>24.0</td>\n",
       "      <td>19.68</td>\n",
       "      <td>????</td>\n",
       "      <td>25.0</td>\n",
       "      <td>20.82</td>\n",
       "      <td>27.0</td>\n",
       "      <td>21.0</td>\n",
       "      <td>8.0</td>\n",
       "    </tr>\n",
       "    <tr>\n",
       "      <th>BoilGravity</th>\n",
       "      <td>1037</td>\n",
       "      <td>????</td>\n",
       "      <td>1035.0</td>\n",
       "      <td>1051</td>\n",
       "      <td>1042.0</td>\n",
       "      <td>1041</td>\n",
       "      <td>1.12</td>\n",
       "      <td>1071</td>\n",
       "      <td>1.05</td>\n",
       "      <td>1037.0</td>\n",
       "    </tr>\n",
       "    <tr>\n",
       "      <th>BoilTime</th>\n",
       "      <td>75</td>\n",
       "      <td>60</td>\n",
       "      <td>60.0</td>\n",
       "      <td>60</td>\n",
       "      <td>0.0</td>\n",
       "      <td>70</td>\n",
       "      <td>jnkhbgvf 98uihj</td>\n",
       "      <td>60</td>\n",
       "      <td>60</td>\n",
       "      <td>60.0</td>\n",
       "    </tr>\n",
       "    <tr>\n",
       "      <th>FG</th>\n",
       "      <td>1011.0</td>\n",
       "      <td>1014.0</td>\n",
       "      <td>1008.0</td>\n",
       "      <td>1011.0</td>\n",
       "      <td>1005.0</td>\n",
       "      <td>1.01</td>\n",
       "      <td>1021.0</td>\n",
       "      <td>1024.0</td>\n",
       "      <td>1013.0</td>\n",
       "      <td>1.01</td>\n",
       "    </tr>\n",
       "    <tr>\n",
       "      <th>PrimaryTemp</th>\n",
       "      <td>18.89</td>\n",
       "      <td>????</td>\n",
       "      <td>18.0</td>\n",
       "      <td>17.78</td>\n",
       "      <td>28.0</td>\n",
       "      <td>20.0</td>\n",
       "      <td>22.22</td>\n",
       "      <td>18.0</td>\n",
       "      <td>NaN</td>\n",
       "      <td>NaN</td>\n",
       "    </tr>\n",
       "    <tr>\n",
       "      <th>Style</th>\n",
       "      <td>Witbier</td>\n",
       "      <td>English IPA</td>\n",
       "      <td>American Amber Ale</td>\n",
       "      <td>-354128741541</td>\n",
       "      <td>Saison</td>\n",
       "      <td>American Pale Ale</td>\n",
       "      <td>Imperial IPA</td>\n",
       "      <td>Belgian Dubbel</td>\n",
       "      <td>American Light Lager</td>\n",
       "      <td>Irish Red Ale</td>\n",
       "    </tr>\n",
       "    <tr>\n",
       "      <th>Color</th>\n",
       "      <td>3.87</td>\n",
       "      <td>14.2</td>\n",
       "      <td>11.65</td>\n",
       "      <td>7.97</td>\n",
       "      <td>????</td>\n",
       "      <td>5.31</td>\n",
       "      <td>jnkhbgvf 98uihj</td>\n",
       "      <td>17.61</td>\n",
       "      <td>????</td>\n",
       "      <td>12.86</td>\n",
       "    </tr>\n",
       "    <tr>\n",
       "      <th>Name</th>\n",
       "      <td>Blackberry Belgian Wit</td>\n",
       "      <td>India Brown Ale (Dogfish)</td>\n",
       "      <td>Worts &amp; All amber</td>\n",
       "      <td>Dead Ringer IPA</td>\n",
       "      <td>Honey oat Saison</td>\n",
       "      <td>Salway US Pale</td>\n",
       "      <td>Double IPA</td>\n",
       "      <td>Monk's beard</td>\n",
       "      <td>Dr. Lambic's Fireside Sour</td>\n",
       "      <td>#rood :)</td>\n",
       "    </tr>\n",
       "    <tr>\n",
       "      <th>IBU</th>\n",
       "      <td>856842215413</td>\n",
       "      <td>????</td>\n",
       "      <td>26.61</td>\n",
       "      <td>62.51</td>\n",
       "      <td>34.99</td>\n",
       "      <td>38.72</td>\n",
       "      <td>jnkhbgvf 98uihj</td>\n",
       "      <td>18.04</td>\n",
       "      <td>????</td>\n",
       "      <td>25.46</td>\n",
       "    </tr>\n",
       "    <tr>\n",
       "      <th>BrewMethod</th>\n",
       "      <td>856842215413</td>\n",
       "      <td>All Grain</td>\n",
       "      <td>jnkhbgvf 98uihj</td>\n",
       "      <td>BIAB</td>\n",
       "      <td>BIAB</td>\n",
       "      <td>BIAB</td>\n",
       "      <td>extract</td>\n",
       "      <td>All Grain</td>\n",
       "      <td>All Grain</td>\n",
       "      <td>BIAB</td>\n",
       "    </tr>\n",
       "    <tr>\n",
       "      <th>BeerID</th>\n",
       "      <td>856842215413.0</td>\n",
       "      <td>30587.0</td>\n",
       "      <td>35012.0</td>\n",
       "      <td>23844.0</td>\n",
       "      <td>53722.0</td>\n",
       "      <td>19386.0</td>\n",
       "      <td>6665.0</td>\n",
       "      <td>13489.0</td>\n",
       "      <td>????</td>\n",
       "      <td>-354128741541.0</td>\n",
       "    </tr>\n",
       "    <tr>\n",
       "      <th>ABV</th>\n",
       "      <td>4.95</td>\n",
       "      <td>6.02</td>\n",
       "      <td>5.33</td>\n",
       "      <td>6.87</td>\n",
       "      <td>4.93</td>\n",
       "      <td>5.33</td>\n",
       "      <td>9.52</td>\n",
       "      <td>7.2</td>\n",
       "      <td>7.19</td>\n",
       "      <td>-354128741541</td>\n",
       "    </tr>\n",
       "    <tr>\n",
       "      <th>MashThickness</th>\n",
       "      <td>1.5</td>\n",
       "      <td>????</td>\n",
       "      <td>3.0</td>\n",
       "      <td>NaN</td>\n",
       "      <td>NaN</td>\n",
       "      <td>NaN</td>\n",
       "      <td>jnkhbgvf 98uihj</td>\n",
       "      <td>NaN</td>\n",
       "      <td>3.0</td>\n",
       "      <td>-354128741541.0</td>\n",
       "    </tr>\n",
       "  </tbody>\n",
       "</table>\n",
       "</div>"
      ],
      "text/plain": [
       "                               162485                     401687  \\\n",
       "OG                               1048                       ????   \n",
       "Efficiency                       65.0                       80.0   \n",
       "SugarScale           Specific Gravity                       ????   \n",
       "StyleID                           175                         65   \n",
       "PitchRate                           1                       ????   \n",
       "Size(L)                         37.85                       ????   \n",
       "BoilGravity                      1037                       ????   \n",
       "BoilTime                           75                         60   \n",
       "FG                             1011.0                     1014.0   \n",
       "PrimaryTemp                     18.89                       ????   \n",
       "Style                         Witbier                English IPA   \n",
       "Color                            3.87                       14.2   \n",
       "Name           Blackberry Belgian Wit  India Brown Ale (Dogfish)   \n",
       "IBU                      856842215413                       ????   \n",
       "BrewMethod               856842215413                  All Grain   \n",
       "BeerID                 856842215413.0                    30587.0   \n",
       "ABV                              4.95                       6.02   \n",
       "MashThickness                     1.5                       ????   \n",
       "\n",
       "                           28758            91477             432626  \\\n",
       "OG                         1049.0             1064            1042.0   \n",
       "Efficiency                   83.0             75.0              60.0   \n",
       "SugarScale        jnkhbgvf 98uihj    -354128741541  Specific Gravity   \n",
       "StyleID                         4                7               134   \n",
       "PitchRate                    0.75             0.75                 1   \n",
       "Size(L)                      24.0            19.68              ????   \n",
       "BoilGravity                1035.0             1051            1042.0   \n",
       "BoilTime                     60.0               60               0.0   \n",
       "FG                         1008.0           1011.0            1005.0   \n",
       "PrimaryTemp                  18.0            17.78              28.0   \n",
       "Style          American Amber Ale    -354128741541            Saison   \n",
       "Color                       11.65             7.97              ????   \n",
       "Name            Worts & All amber  Dead Ringer IPA  Honey oat Saison   \n",
       "IBU                         26.61            62.51             34.99   \n",
       "BrewMethod        jnkhbgvf 98uihj             BIAB              BIAB   \n",
       "BeerID                    35012.0          23844.0           53722.0   \n",
       "ABV                          5.33             6.87              4.93   \n",
       "MashThickness                 3.0              NaN               NaN   \n",
       "\n",
       "                          212012           79767             61199   \\\n",
       "OG                          1051             1088              1078   \n",
       "Efficiency                  75.0             25.0              76.0   \n",
       "SugarScale      Specific Gravity  jnkhbgvf 98uihj  Specific Gravity   \n",
       "StyleID                       10               86                22   \n",
       "PitchRate                      1                1               NaN   \n",
       "Size(L)                     25.0            20.82              27.0   \n",
       "BoilGravity                 1041             1.12              1071   \n",
       "BoilTime                      70  jnkhbgvf 98uihj                60   \n",
       "FG                          1.01           1021.0            1024.0   \n",
       "PrimaryTemp                 20.0            22.22              18.0   \n",
       "Style          American Pale Ale     Imperial IPA    Belgian Dubbel   \n",
       "Color                       5.31  jnkhbgvf 98uihj             17.61   \n",
       "Name              Salway US Pale       Double IPA      Monk's beard   \n",
       "IBU                        38.72  jnkhbgvf 98uihj             18.04   \n",
       "BrewMethod                  BIAB          extract         All Grain   \n",
       "BeerID                   19386.0           6665.0           13489.0   \n",
       "ABV                         5.33             9.52               7.2   \n",
       "MashThickness                NaN  jnkhbgvf 98uihj               NaN   \n",
       "\n",
       "                                   68613             73297   \n",
       "OG                                   1068            1041.0  \n",
       "Efficiency                           75.0              70.0  \n",
       "SugarScale               Specific Gravity  Specific Gravity  \n",
       "StyleID                                 9                92  \n",
       "PitchRate                             NaN               NaN  \n",
       "Size(L)                              21.0               8.0  \n",
       "BoilGravity                          1.05            1037.0  \n",
       "BoilTime                               60              60.0  \n",
       "FG                                 1013.0              1.01  \n",
       "PrimaryTemp                           NaN               NaN  \n",
       "Style                American Light Lager     Irish Red Ale  \n",
       "Color                                ????             12.86  \n",
       "Name           Dr. Lambic's Fireside Sour          #rood :)  \n",
       "IBU                                  ????             25.46  \n",
       "BrewMethod                      All Grain              BIAB  \n",
       "BeerID                               ????   -354128741541.0  \n",
       "ABV                                  7.19     -354128741541  \n",
       "MashThickness                         3.0   -354128741541.0  "
      ]
     },
     "execution_count": 19,
     "metadata": {},
     "output_type": "execute_result"
    }
   ],
   "source": [
    "data_raw.sample(10).T"
   ]
  },
  {
   "cell_type": "markdown",
   "metadata": {},
   "source": [
    "### Analysis\n",
    "\n",
    "The value '*jnkhbgvf 98uihj*' is present in the columns: \n",
    "- Efficiency\n",
    "- SugarScale\n",
    "- StyleID\n",
    "- PitchRate\n",
    "- BoilGravity\n",
    "- BoilTime\n",
    "- PrimaryTemp\n",
    "- Style\n",
    "- BrewMethod\n",
    "- MashThickness\n",
    "\n",
    "The value '*????*' is present in the next columns:\n",
    "- Efficiency\n",
    "- SugarScale\n",
    "- StyleID\n",
    "- PitchRate\n",
    "- BoilGravity\n",
    "- BoilTime\n",
    "- PrimaryTemp\n",
    "- Style\n",
    "- BrewMethod\n",
    "- MashThickness\n",
    "\n",
    "Those values are going to be mapped as null for correct data pre process "
   ]
  },
  {
   "cell_type": "code",
   "execution_count": 20,
   "metadata": {},
   "outputs": [
    {
     "name": "stdout",
     "output_type": "stream",
     "text": [
      "OG = ['1076' '1.05' '1056.0' ... '14.0918' '13613' '14.9957']\n",
      "Efficiency = ['-354128741541' '70.0' '60.0' '75.0' '35.0' '65.0' '????' '78.0' '62'\n",
      " 'jnkhbgvf 98uihj' nan '67.0' '25.0' '68.0' '60' '35' '856842215413'\n",
      " '69.0' '82' '66.0' '66' '78.2' '61.0' '72' '70' '100.0' '82.0' '72.0'\n",
      " '63.0' '84.0' '75' '77.0' '80' '50.0' '65' '55.0' '85.0' '73.0' '80.0'\n",
      " '74.0' '53' '83.0' '64.0' '30.0' '86.2' '90.0' '76.0' '85' '76' '79.0'\n",
      " '58.0' '20.0' '73' '81.0' '66.6' '52' '55' '77' '71.0' '63' '62.0' '74'\n",
      " '37.5' '45.0' '87.0' '95.0' '63.4' '57.0' '83' '25' '89.0' '40.0' '62.5'\n",
      " '56.0' '93.0' '27.0' '88.0' '65.8' '86.0' '69' '84' '0' '53.0' '0.0'\n",
      " '47.0' '49.0' '1.06' '48.0' '40' '64.7' '66.4' '72.5' '52.0' '91.0' '100'\n",
      " '70.6' '90' '92.0' '50' '88' '97.47' '81' '68' '71.5' '1.0' '71' '86'\n",
      " '78' '38.0' '73.6' '54.0' '58' '67' '5.0' '59.0' '5' '77.7' '30' '47.5'\n",
      " '42.0' '54.5' '75.5' '69.5' '63.5' '99.0' '73.5' '46' '43.0' '72.3'\n",
      " '78.5' '51.0' '95' '59.5' '57' '61' '15.0' '24.0' '98.0' '77.5' '62.6'\n",
      " '58.8' '64' '82.3' '13.0' '49.4' '94.0' '37.0' '60.1' '83.6' '72.8' '49'\n",
      " '1056.0' '61.5' '45' '54' '99' '60.5' '87.1' '46.0' '74.7' '93' '66.7'\n",
      " '96' '44.0' '10.0' '32' '44' '33.0' '39.4' '73.9' '61.6' '75.9' '12.0'\n",
      " '62.7' '76.7' '66.5' '56' '68.67' '35.1' '68.1' '43.4' '79' '48' '84.3'\n",
      " '23.0' '32.0' '77.6' '55.5' '84.4' '97.0' '73.3' '67.5' '59' '53.6'\n",
      " '31.8' '73.4' '71.7' '87' '37' '88.5' '72.4' '56.5' '60.8' '67.2' '6.6'\n",
      " '92' '46.5' '79.5' '80.7' '64.6' '74.6' '81.5' '8.3' '64.5' '10' '79.8'\n",
      " '81.8' '96.1' '75.7' '51.5' '60.6' '63.1' '89.5' '58.9' '39.0' '66.8'\n",
      " '75.4' '51' '39.5' '70.5' '76.5' '77.81' '73.2' '96.0' '65.6' '68.5'\n",
      " '78.8' '15' '2.0' '61.3' '34.0' '75.8' '65.5' '23.5' '63.9' '68.2' '18.0'\n",
      " '66.3' '81.4' '80.1' '50.5' '31.0' '31' '22.0' '65.7' '20' '33' 'fad'\n",
      " '72.9' '63.3' '73.15' '49.5' '77.3' '89.7' '63.2' '1.03' '1046.0' '97'\n",
      " '47' '85.7' '70.2' '69.8' '75.2' '41.0' '68.3' '67.1' '64.3' '48.5'\n",
      " '43.5' '55.6' '85.5' '83.5' '57.5' '82.1' '83.8' '68.8' '58.5' '33.6'\n",
      " '66.9' '76.1' '91' '8' '80.5' '68.7' '70.3' '42.6' '47.3' '18.5' '48.3'\n",
      " '57.3' '74.8' '28.0' '71.4' '62.3' '85.1' '41' '68.9' '1044.0' '1086'\n",
      " '52.5' '65.3' '49.3' '50.24' '89' '83.7' '61.2' '0.8' '58.2' '87.5'\n",
      " '82.5' '75.6' '52.6' '71.3' '6.3' '21.0' '65.2' '72.7' '62.2' '68.4'\n",
      " '75.3' '77.1' '67.4' '53.5' '46.3' '52.4' '67.9' '82.4' '43' 'sf' '83.1'\n",
      " '1104.0' '69.6' '93.9' '71.1' '49.9' '84.7' '54.6' '83.9' '45.5' '2.4'\n",
      " '7.5' '70.4' '13.1' '84.5' '40.1' '67.7' '55.4' '36.5']\n",
      "SugarScale = ['Specific Gravity' '-354128741541' '????' nan 'Plato' 'jnkhbgvf 98uihj'\n",
      " '856842215413' '1.5' '23542' '678' '2.5' '52345' '4.61' '1.35']\n",
      "StyleID = ['56' '27' '10' '856842215413' '66' '39' '171' '147' '7' '86' '30' '4'\n",
      " 'jnkhbgvf 98uihj' '94' '15' '57' '175' '68' '14' '53' '9' '20' '????'\n",
      " '134' '85' '122' '18' '22' nan '26' '59' '155' '170' '42' '11' '23' '169'\n",
      " '72' '119' '161' '63' '93' '101' '105' '24' '167' '28' '45' '151' '35'\n",
      " '19' '12' '87' '-354128741541' '129' '108' '132' '109' '21' '145' '113'\n",
      " '37' '92' '61' '160' '162' '44' '137' '172' '25' '139' '114' '149' '81'\n",
      " '98' '6' '65' '143' '125' '31' '5' '157' '140' '8' '34' '60' '50' '150'\n",
      " '54' '148' '168' '51' '49' '116' '144' '58' '70' '159' '40' '78' '91'\n",
      " '111' '115' '118' '138' '112' '106' '165' '103' '3' '43' '90' '67' '100'\n",
      " '152' '124' '153' '102' '166' '74' '136' '158' '36' '97' '69' '82' '38'\n",
      " '142' '75' '133' '83' '107' '71' '29' '32' '176' '89' '128' '46'\n",
      " 'British Brown Ale' '174' '77' '13' '131' '17' '80' '41' '48' '1' '52'\n",
      " '135' '33' '120' '156' '84' '64' '163' '88' '130' '55' '96' '104' '126'\n",
      " '76' '154' '141' '121' '146' '62' '2' 'American IPA' '95' '173' '110'\n",
      " '79' '123' '117' '16' '47' '73' '127' 'Weizen/Weissbier' '99'\n",
      " 'Munich Dunkel' 'American Pale Ale' '164' 'rytew' 'Double IPA'\n",
      " 'Blonde Ale']\n",
      "PitchRate = ['-354128741541' nan '0.35' '0.75' '1.25' '????' '0.5' 'jnkhbgvf 98uihj'\n",
      " '1' '856842215413' '1.5' '2' '1.75' 'All Grain' '0' 'BIAB']\n",
      "Size(L) = ['19.87' '-354128741541.0' '25.0' ... '3.18' '52.16' '107.88']\n",
      "BoilGravity = ['1064' '1032.0' '1049.0' '1041.0' '????' '1048' '1059.0'\n",
      " 'jnkhbgvf 98uihj' '1045.0' '1063' '1166' '1034.0' '1042.0' '1038' '13.3'\n",
      " '1086' '1047.0' '1051.0' '1042' '1046.0' '1052' '1084.0' '1044.0' '1054'\n",
      " '1043.0' '1033' '1019' '1035.0' '1043' '1045' '1044' '1.09' '1058' '1041'\n",
      " '1103' '1.04' '1.05' '1053' '1027' '1029' '1097' '10.9' '1059' '1036'\n",
      " '1039' '1133' nan '1092' '1052.0' '1.06' '1066' '856842215413' '1056.0'\n",
      " '1111' '1074.0' '1065' '1051' '1038.0' '13.4' '1055.0' '1037.0' '1077.0'\n",
      " '1077' '1069.0' '1036.0' '1068' '1074' '1049' '1028' '19.8' '1071'\n",
      " '1066.0' '1035' '-354128741541' '6.9' '1083.0' '1039.0' '1087' '1069'\n",
      " '1062' '1082' '1057' '1083' '1067' '1057.0' '1054.0' '1072' '1027.0'\n",
      " '1034' '1072.0' '1029.0' '1025' '1017' '1132.0' '1032' '1096' '1053.0'\n",
      " '1073.0' '1064.0' '1067.0' '1023' '1037' '1094' '1055' '1078' '1.12'\n",
      " '1073' '1105.0' '1062.0' '1048.0' '1026' '6.5' '1095' '1121' '1155'\n",
      " '1085.0' '13.7' '1.15' '1.03' '1107' '14.3' '1031' '1196' '1046' '1095.0'\n",
      " '1019.0' '1071.0' '1078.0' '1056' '1085' '1047' '6.7' '1.07' '1094.0'\n",
      " '1109' '13' '1082.0' '1088' '25.3' '1.02' '1028.0' '12.7' '1031.0'\n",
      " '1093.0' '1076.0' '1.11' '11.1' '1105' '1112.0' '1.5' '1084' '1004.0'\n",
      " '9.4' '1088.0' '1081' '1109.0' '12.8' '1.08' '1128.0' '15.3' '1.0'\n",
      " '1058.0' '1018' '1106' '11.4' '1127' '1022' '1099' '14.1' '1033.0'\n",
      " '1115.0' '1113' '1.1' '1061.0' '1101.0' '1081.0' '1125.0' '1021.0'\n",
      " '1131.0' '1101' '1061' '1145' '1065.0' '1023.0' '16.2' '1154' '1092.0'\n",
      " '1021' '14.6' '1089.0' '11.3' '1102' '1089' '1124' '7.7' '1017.0' '11.6'\n",
      " '12.1' '1107.0' '1091' '14.4' '1137' '1102.0' '1068.0' '1098.0' '1125'\n",
      " '1075' '1087.0' '1018.0' '60' '1024.0' '9.0' '1013' '1079' '14.7'\n",
      " '1026.0' '15.7' '1093' '1106.0' '1155.0' '1063.0' '1438' '13.5' '1016.0'\n",
      " '1149' '10.8' '18.0' '12.2' '1096.0' '1097.0' '10.1' '1119.0' '1006.0'\n",
      " '1152' '12' '1124.0' '1123' '1159.0' '1129.0' '1011.0' '1117.0' '1111.0'\n",
      " '10.4' '1076' '11.2' '1258.0' '1022.0' '1126' '1149.0' '1144.0' '1159'\n",
      " '11' '1128' '1075.0' '1122.0' '1146' '28.8' '11.8' '9.9' '1112' '1135.0'\n",
      " '12.6' '8.7' '1016' '1.01' '1012' '1162.0' '14' '1135' '1115' '1005.0'\n",
      " '1127.0' '1005' '1104.0' '1188' '1114' '1024' '1162' '1296' '1117' '10.3'\n",
      " '1.26' '15.4' '1.14' '1014' '10' '1' '1086.0' '12.4' '12.9' '1151.0'\n",
      " '1119' '1011' '1.13' '12.3' '1099.0' '1165.0' '1138' '1116' '1007'\n",
      " '1079.0' '8.4' '1007.0' '1158' '1091.0' '1134.0' '11.7' '9.7' '1098'\n",
      " '1.17' '11.9' '1118.0' '9.3' '1143' '23.6' '9.6' '1025.0' '1202' '1198'\n",
      " '15.9' '7.2' '8.8' '1146.0' '18.4' '1108' '1176' '1147' '1131' '1014.0'\n",
      " '1142.0' '8.3' '8.5' '10.7' '1129' '1103.0' '1006' '1151' '1181' '14.2'\n",
      " '1104' '1182' '9.8' '1192.0' '5.6' '1168' '1136.0' '1121.0' '1199.0'\n",
      " '1191' '1108.0' '1147.0' '9.2' '1118' '1207' '1148' '21.6' '16.7' '1354'\n",
      " '1138.0' '1004' '10.0' '1139.0' '9.5' '1139' '1141' '1015' '0.0' '17.5'\n",
      " '14.9' '1154.0' '1247.0' '1144' '12.5' '1184' '24.3' '1167' '1141.0'\n",
      " '8.1' '10.2' '1136' '15' '1.19' '15.5' '1132' '90' '1123.0' '14.0' '1.29'\n",
      " '13.8' '38.3' '1153' '1012.0' '7.5' '16.3' '1264' '1003' '1133.0' '14.5'\n",
      " '13.9' '1178' '16.5' '15.6' '1171.0' '1165' '1002' '1113.0' '1015.0'\n",
      " '1114.0' '13.0' '1009.0' '16' '1122' '8.9' '21.2' '10.5' '17.9' '1179'\n",
      " '1156.0' '13.2' '5.5' '11.5' '9.1' '10.6' '13.6' '12.0' '14.8' '1184.0'\n",
      " '7.1' '1174' '1143.0' '1183.0' '1177.0' '1174.0' '11.0' '1189.0' '5'\n",
      " '1276' '16.9' '1272' '7' '13.1' '1163' '1202.0' '1345' '1137.0' '1209'\n",
      " '1148.0' '19.3' '1169' '1134' '1116.0' '1158.0' '1223' '20.1' '1161.0'\n",
      " '16.8' '1001' '1013.0' '8.6' '8.2' '1186' '1403' '16.6' '1173' '1194'\n",
      " '1185' '1.33' '1.43' '1126.0' '16.1' '4.0' '1203.0' '20.2' '1238'\n",
      " '1145.0' '1.23' '1175' '1179.0' '17.1' '1163.0' '23.7' '17.3' '19.5'\n",
      " '1259' '1193' '1239.0' '4.6' '1189' '22.9' '1215' '1.16' '16.4' '19.4'\n",
      " '0' '22.7' '5.9' '15.0' '15.8' '1001.0' '1156' '1142' '1181.0' '18.8'\n",
      " '20.8' '1164' '1201.0' '1167.0' '17.7' '1176.0' '1172' '19.2' '1003.0'\n",
      " '1.32' '6.3' '1233.0' '1172.0' '1009' '1204.0' '25' '26.2' '1471' '1218'\n",
      " '1183' '7.9' '1229' '1187.0' '21.3' '1171' '1.22' '52.6' '1358' '1214'\n",
      " '1182.0' '21.5' '1157' '1168.0' '7.3' '1169.0' '18.2' '1.2' '1157.0'\n",
      " '5.2' '1323' '8' '1224' '23.0' 'afds' '1257' '1296.0' '1178.0' '1222'\n",
      " '36' '1187' '1.21' '15.2' '1265.0' '1221.0' '1242' '18.9' '1173.0'\n",
      " '1294.0' '2.3' '1209.0' '1225.0' '15.1' '38.4' '6.8' '17.8' '1246' '5.4'\n",
      " '4.2' '30.6' '1008' '6.2' '1199' '27.9' '18.5' '7.8' '1352.0' '1203'\n",
      " '6.6' '1252.0' '1236' '1282.0' '1224.0' '17.4' '1.28' '1364' '1204' '6.4'\n",
      " '1177' '1161' '20.3' '1008.0' '1325.0' '1216' '20' '1213' '1234.0'\n",
      " '1219.0' '1206' '1208.0' '1238.0' '1205' '1153.0' '1175.0' '1414'\n",
      " '1191.0' '20.6' '1195.0' '1283' '23.2' '1002.0' 'dafsdgh' '1248' '1.31'\n",
      " '1306.0' '23.4' '1185.0' '1188.0' '22' '1.25' '1215.0' '7.6' '4.8' '1231'\n",
      " '1233' '1377' '1273' '17.2' '1201' '1219' '1164.0' '23.1' '25.1' '1.37'\n",
      " '5.3' '9' '60.0' '1213.0' '24.7' '1198.0' '1197' '1403.0' '6' '21.7'\n",
      " '3.2' '1.18' '18.6' '1281' '20.4' '1232' '17.6' '18.3' '21.4' '1212.0'\n",
      " '20.7' '25.5' '1377.0' '1491.0' '1292.0' '7.4' '1152.0' '1239' '8.0'\n",
      " '1228' '1217.0' '1317.0' '1336' '1258' '18.7' '19.6' '1196.0' '1214.0'\n",
      " '5.1' '18.1' '33.9' '1266' '27.5' '19.9' '24.6' '1248.0' '1.34' '1279'\n",
      " '1237' '20.5' '1333' '19.1' '23.9' '1401' '1268.0' '1212' '1211.0' '26.6'\n",
      " '26.0' '1166.0' '2' '1227.0' '25.9' '1259.0' '1326.0' '24.4' '1186.0'\n",
      " '1355.0' '1252' '22.3' '27.4' '45.9' '1228.0' '19.0' '1247' 'wyet' '7.0'\n",
      " '1208' '1282' '1192' '1389' '1426' '1241' '6.1' '1245.0' '30' '1278.0'\n",
      " '1273.0' '17' '1298.0' '1195' '1.38' '26' '33.3' '1269.0' '31.2' '1309'\n",
      " '1218.0' '1286' '1.36' '22.8' '90.0']\n",
      "BoilTime = ['90' '-354128741541' '60.0' '60' '????' nan '75' 'jnkhbgvf 98uihj' '70'\n",
      " '90.0' '30.0' '30' '45' '1' '120' '856842215413' '75.0' '20.0' '20'\n",
      " '70.0' '120.0' '180.0' '15.0' '65' '80' '130.0' '15' '45.0' '0' '0.0'\n",
      " '150' '85.0' '100.0' '30.28' '72.0' '10' '50' '100' '240' '40' '40.0'\n",
      " '10.0' '35' '67.0' '65.0' '80.0' '50.0' '35.0' '78.0' '150.0' '110.0'\n",
      " '240.0' '5' '68.0' '55.0' '67' '95.0' '5.0' '180' '135.0' '25' '105'\n",
      " '160.0' '32' '85' '55' '61' '107' '210.0' '95' '1.0' '59' '105.0' '210'\n",
      " '190.0' '68' '130' '62' '77' '66.0' '25.0' '23' '110' '155.0' '62.0' '2'\n",
      " '91' '9' '48.0' '135' '6' '22' '31' '145' '69' '72' '63.0' '96.0' 'adsf'\n",
      " '125' '6.0' '84.0' '123' '14' '140.0' '12.0' '81' '99.0' '93' '1262.81'\n",
      " '76' 'ytew' '140' '83.0' '47' '66' '63' '16.0' '28.39' '2.0' '56.0'\n",
      " '69.0' 'wyet' '73' '89' '190' '92' '170' '57.0' 'adf' '15.14' '228.0'\n",
      " '200' '26.5' '78']\n",
      "FG = ['1014.0' '1009.0' '1.01' ... '2.97537' '2.86248' '3.5278']\n",
      "PrimaryTemp = ['20.0' nan '-354128741541.0' '21.0' '23.33' '????' '21.11'\n",
      " 'jnkhbgvf 98uihj' '18.0' '19.0' '26.0' '856842215413.0' '18.33' '18.89'\n",
      " '23.89' '19.44' '22.0' '22.78' '24.0' '17.78' '14.44' '17.0' '25.56'\n",
      " '15.0' '28.0' '16.67' '16.0' '12.0' '23.0' '10.0' '17.22' '20.56' '12.22'\n",
      " '10.5' '15.56' '38.0' '8.89' '22.22' '9.0' '11.11' '18.5' '16.11' '25.0'\n",
      " '13.89' '26.67' '77.0' '14.0' '13.0' '65.56' '21.67' '9.5' '16.94' '35.0'\n",
      " '19.4' '27.0' '13.33' '-12.22' '19.5' '12.78' '24.44' '31.11' '11.0'\n",
      " '16.6' '0.0' '17.5' '-6.67' '10.56' '74.0' '18.3' '64.44' '18.6' '29.44'\n",
      " '-14.44' '18.2' '20.5' '9.44' '7.22' '11.67' '7.78' '32.0' '32.22'\n",
      " '63.89' '68.0' '-5.56' '30.0' '80.0' '8.33' '70.0' '8.0' '21.5' '29.0'\n",
      " '5.56' '36.0' '-9.44' '18.11' '66.0' '12.5' '23.5' '-17.78' '16.5'\n",
      " '28.33' '39.0' '-7.22' '-1.11' '26.1' '-7.78' '95.0' '7.0' '6.0' '-4.44'\n",
      " '19.17' '20.28' '17.7' '22.5' '11.5' '50.0' '19.8' '4.44' '27.78' '15.17'\n",
      " '114.0' '71.6' '26.11' '34.0' '64.0' '22.8' '15.5' '26.4' '21.1' '23.9'\n",
      " '-6.11' '7.8' '16.39' '19.06' '2.0' '18.61' '21.39' '0.75' '33.0' '40.0'\n",
      " '18.4' '27.22' '65.0' '17.8' '18.8' '13.61' '60.0' '31.67' '72.0' '28.89'\n",
      " '21.8' '24.72' '16.7' '6.67' '43.33' '20.2' '20.78' '19.72' '9.8' '37.78'\n",
      " '48.89' '67.0' '5.0' '13.5' '-0.56' '-5.0' '12.2' '14.5' '18.72' '19.3'\n",
      " '33.33' '-8.89' '45.0' '75.0' '0.35' '-13.89' '46.11' '-8.33' '85.0'\n",
      " '11.8' '37.0' '14.72' '-3.89' '40.56' '30.56' '17.2' '-10.56' '1.0'\n",
      " '63.33' '15.22' '4.0' '26.5' '22.2' '18.7' '81.0' '18.9' '6.11' '28.5'\n",
      " '14.78' '13.9' '23.3' '112.0' '17.67' '8.5' '24.5' '12.3' '18.06' '16.56'\n",
      " '13.3' '11.1' '3.0' '16.8' '21.54' '1.67' '21.7' '0.5' '29.5' '61.0'\n",
      " '11.39' '15.11' '-3.33' '69.0' '62.22' '19.2' '52.22']\n",
      "Style = ['Double IPA' 'Berliner Weisse' 'American Pale Ale' 'English IPA'\n",
      " 'English Porter' 'California Common Beer' 'Weizenbock'\n",
      " 'Specialty IPA: Belgian IPA' 'American IPA' 'Imperial IPA'\n",
      " '-354128741541' 'Blonde Ale' 'American Amber Ale' 'K�lsch'\n",
      " 'jnkhbgvf 98uihj' nan 'Dry Mead' '????'\n",
      " 'Extra Special/Strong Bitter (ESB)' 'Dark Mild' 'American Light Lager'\n",
      " 'American Stout' 'Saison' 'Holiday/Winter Special Spiced Beer'\n",
      " 'Belgian Blond Ale' 'Oud Bruin' '856842215413' 'Belgian Dubbel' 'Witbier'\n",
      " 'American Porter' 'Belgian Tripel' 'Weizen/Weissbier' 'Flanders Red Ale'\n",
      " 'American Brown Ale' 'Weissbier' 'Foreign Extra Stout'\n",
      " 'Other Fruit Melomel' 'Sweet Mead' 'English Barleywine' 'Irish Stout'\n",
      " 'London Brown Ale' 'Mild' 'Vienna Lager' 'Best Bitter' 'Cream Ale'\n",
      " 'Spice  Herb  or Vegetable Beer' 'Specialty IPA: Rye IPA' 'Robust Porter'\n",
      " 'British Golden Ale' 'Baltic Porter' 'German Pils'\n",
      " 'Northern English Brown' 'Munich Dunkel' 'Russian Imperial Stout'\n",
      " 'Munich Helles' 'Belgian Dark Strong Ale' 'Brown Porter' 'Imperial Stout'\n",
      " 'Irish Red Ale' 'Dunkles Weissbier' 'Strong Scotch Ale' 'Sweet Stout'\n",
      " 'Common Cider' 'Doppelbock' 'Dry Stout' 'Scottish Export 80/-'\n",
      " 'Wheatwine' 'Scottish Heavy 70/-' 'Specialty IPA: Black IPA'\n",
      " 'Light American Lager' 'Oatmeal Stout' 'Specialty IPA: Brown IPA'\n",
      " 'Lambic' 'American Wheat or Rye Beer' 'Specialty Beer'\n",
      " 'Pre-Prohibition Lager' 'Bohemian Pilsener' 'American Barleywine'\n",
      " 'Standard/Ordinary Bitter' 'British Strong Ale' 'Scottish Light'\n",
      " 'Belgian Specialty Ale' 'M�rzen' 'German Pilsner (Pils)' 'American Lager'\n",
      " 'British Brown Ale' 'Dunkles Bock' 'German Leichtbier'\n",
      " 'Maibock/Helles Bock' 'Czech Premium Pale Lager'\n",
      " 'Belgian Golden Strong Ale' 'Specialty IPA: Red IPA' 'Czech Pale Lager'\n",
      " 'Old Ale' 'Special/Best/Premium Bitter' 'Flanders Brown Ale/Oud Bruin'\n",
      " 'American Wheat Beer' 'Strong Bitter' 'Classic American Pilsner'\n",
      " 'Belgian Pale Ale' 'Dusseldorf Altbier' 'German Helles Exportbier'\n",
      " 'Irish Extra Stout' 'Oktoberfest/M�rzen' 'Ordinary Bitter'\n",
      " 'Scottish Heavy' 'Wee Heavy' 'North German Altbier'\n",
      " 'Mixed-Fermentation Sour Beer' 'Trappist Single' 'Clone Beer'\n",
      " 'International Pale Lager' 'Experimental Beer' 'Specialty IPA: White IPA'\n",
      " 'Altbier' 'Tropical Stout' 'Fruit and Spice Beer'\n",
      " 'Straight (Unblended) Lambic' 'Kentucky Common' 'Gueuze' 'Festbier'\n",
      " 'Gose' 'California Common' 'Semi-Sweet Mead' 'Fruit Beer'\n",
      " 'Scottish Export' 'Mixed-Style Beer' 'Bi�re de Garde'\n",
      " 'International Dark Lager' 'Braggot' 'Wood-Aged Beer'\n",
      " 'Specialty Fruit Beer' 'Rauchbier' 'Cyser (Apple Melomel)'\n",
      " 'Southern English Brown' 'Fruit Lambic' 'American Strong Ale'\n",
      " 'Dunkelweizen' 'Roggenbier (German Rye Beer)' 'Autumn Seasonal Beer'\n",
      " 'Australian Sparkling Ale' 'Classic Rauchbier'\n",
      " 'Classic Style Smoked Beer' 'Czech Dark Lager' 'Premium American Lager'\n",
      " '4566543' 'Specialty Smoked Beer' 'Dark American Lager' 'Schwarzbier'\n",
      " 'Traditional Bock' 'Other Smoked Beer' 'Standard American Lager'\n",
      " 'Helles Bock' 'Brett Beer' 'Wild Specialty Beer' 'English Cider'\n",
      " 'International Amber Lager' 'Roggenbier' 'Dortmunder Export'\n",
      " 'Kellerbier: Pale Kellerbier' 'Winter Seasonal Beer'\n",
      " 'Pre-Prohibition Porter' 'Fruit Cider' 'Specialty Wood-Aged Beer'\n",
      " 'Scottish Light 60/-' 'Other Specialty Cider or Perry'\n",
      " 'Kellerbier: Amber Kellerbier' 'Alternative Grain Beer'\n",
      " '/homebrew/recipe/view/249256/black-ipa-an-ode-to-vegard'\n",
      " 'New England Cider' 'Lichtenhainer' 'Sahti' 'Piwo Grodziskie'\n",
      " 'Alternative Sugar Beer' 'Open Category Mead' 'Apple Wine' 'Metheglin'\n",
      " 'Czech Amber Lager' 'Eisbock' 'French Cider'\n",
      " '/homebrew/recipe/view/354071/summer-s-w-h-eat-' 'Pyment (Grape Melomel)'\n",
      " '/homebrew/recipe/view/297910/doonkel-' 'Traditional Perry'\n",
      " 'Imperial Nut Brown Maple Chai'\n",
      " '/homebrew/recipe/view/435411/dipa-mango-smoothie' 'Maple Brown Ale'\n",
      " '/homebrew/recipe/view/257731/blond-ale-call-me'\n",
      " 'Tempe Closet Oatmeal Milk Brown' '/homebrew/recipe/view/476147/-']\n",
      "Color = ['5.62' '-354128741541' '6.7' ... '33' '43.08' '44.76']\n",
      "Name = ['Enjoy By Clone' 'Farmhouse Collaboration with Andrew' '17-Nov' ...\n",
      " 'Psenka' 'Cleaning out my Closet' 'Weekend Warrior Wheat']\n",
      "IBU = ['88.4' '5.39' '41.35' ... '91.41' '90.32' '202.12']\n",
      "BrewMethod = ['All Grain' 'BIAB' '856842215413' '????' 'extract' 'Partial Mash'\n",
      " 'jnkhbgvf 98uihj' nan '-354128741541' 'Specific Gravity' 'Plato' 'uyrter'\n",
      " '32454' '2343' '54' '7654']\n",
      "BeerID = ['-354128741541.0' '41759.0' '42393.0' ... '25182.0' '60925.0' '70833.0']\n",
      "ABV = ['8.14' '5.41' '6.1' ... '2.57' '11.51' '17.94']\n",
      "MashThickness = ['1.45' '-354128741541.0' nan '3.0' '2.6' '2.5' '1.4' 'jnkhbgvf 98uihj'\n",
      " '1.5' '1.2' '????' '3.1' '1.0' '2.0' '6.3' '2.9' '1.6' '1.31'\n",
      " '856842215413.0' '1.3' '1.33' '2.8' '1.75' '1.25' '2.7' '3.5' '4.0'\n",
      " '2.36' '3.4' '1.35' '4.4' '3.8' '2.1' '9.0' '8.3' '5.5' '1.29' '1.1'\n",
      " '0.33' '6.43' '1.83' '5.0' '1.7' '3.78' '1.38' '3.25' '1.71' '1.15'\n",
      " '3.12' '3.28' '5.2' '2.2' '3.9' '4583.0' '0.75' '3.18' '6097.0' '2.4'\n",
      " '1.36' '3.85' '1.46' '1.22' '3.75' '1333.0' '4.1' '4.5' '1.64' '2.3'\n",
      " '0.86' '3.6' '3.2' '0.4' '4.8' '3.3' '22.63' '3.7' '6.0' '2.26' '1286.0'\n",
      " '2.75' '2.61' '2.95' '25.0' '0.9' '1.57' '3.17' '2.15' '2.88' '1366.0'\n",
      " '1.16' '1.85' '1.44' '14.5' '7.4' '10.0' '24.0' '3.15' '4.2' '3.68'\n",
      " '1.19' '1.8' '5.7' '3.05' '1375.0' '1.07' '2.96' '4.3' '1192.0' '1.84'\n",
      " '1332.0' '14.0' '2.11' '1.74' '1.96' '1.13' '3.57' '1.66' '4.47' '2.66'\n",
      " '1.11' '1.68' '3575.0' '8.5' '1.32' '20.0' '21.8' '5.11' '4201.0' '3.48'\n",
      " '18.0' '5.9' '6.4' '2.57' '1.37' '1.69' '5.25' '1.72' '1.24' '5.4' '2.33'\n",
      " '30.0' '1.65' '3.66' '3.38' '3.53' '7.0' '12.0' '2.32' '8.0' '2.59'\n",
      " '3.33' '1.34' '1.55' '2.67' '1.47' '1077.0' '3.22' '1395.0' '2.81' '1.28'\n",
      " '2.25' '4.6' '80.0' '2.45' '1.89' '0.8' '1.39' '1.67' '13.5' '1.9' '5.6'\n",
      " '5.8' '3235.0' '1.39683' '2.65' '50.0' '2.18' '3.35' '3.63' '3.29'\n",
      " '2.60844' '0.87' '3.67' '16.0' '1.3559' '3.97' '3.13' '6.85' '1.18'\n",
      " '3.31' '36.0' '3.21' '3.41' '1.43' '1.82' '4.65' '1.86' '1125.0' '2.56'\n",
      " '1.77' '34.0' '1.56' '0.96' '3.43' '1.54' '9.1' '2285.0' '1.26' '4.95'\n",
      " '5.1' '1.58' '368.0' '3.46' '1765.0' '32.0' '1255.0' '1625.0' '0.77'\n",
      " '3.57143' '3.34' '0.3' '1525.0' '23.0' '7.5' '6.25' '19.0' '3.36' '2.77'\n",
      " '2.79' '4.06' '4.16' '3.44' '1668.0' '3.71' '3.16' '0.25' '2.43' '1877.0'\n",
      " '2.39' '1.48' '0.7' '4.38' '2.35' '4.9' '5.23' '4.25' '1.78' '3.45'\n",
      " '3.65' '2.62' '40.0' '0.72' '2.22' '2631.0' '1.53' '2.04' '1.05' '1584.0'\n",
      " '3.96' '5.77' '0.6' '2.09' '8.29' '3.19' '2913.0' '4.28' '4.7' '3125.0'\n",
      " '1.42' '3.08' '1.52' '1.79' '2.44' '1467.0' '0.5' '1435.0' '2.06' '7.6'\n",
      " '6153.0' '1.63' '4.22' '1.87' '2.23' '6.5' '6.24' '4182.0' '2.05' '1.23'\n",
      " '5319.0' '5.85' '4.21' '7.35' '1.01' '27.0' '2.41' '2.47' '3.24' '4.26'\n",
      " '5.47' '2.63' '2.54' '6.17' '15.0' '1.17' '3.8888' '4.18' '4.75' '4.4117'\n",
      " '8075.0' '5.14' '3.23' '4.41' '2.73' '23.75' '4.54' '2.83' '2.85'\n",
      " '1.3125' '9.41' '0.0' '2.98' '3.04' '1.41' '4.61' '35.0' '5.3' '1.92'\n",
      " '1.61' '2.78' '3273.0' '3336.0' '2.21' '4424.0' '31.0' '4.88' '22.0'\n",
      " '2095.0' '25.38' '5.04' '1617.0' '2075.0' '4.14' '11.5' '1.1675' '1.98'\n",
      " '2.42' '2.48' '27.5' '16.5' '1.14' '1.59' '3.37' '11.0' '5.56' '1725.0'\n",
      " '1.04' '1.12' '1.51' '4.27' '63.0' '2.17' '3.88' '2537.0' '1.33333'\n",
      " '4.42' '2.71' '3.47' '4867.0' '5376.0' '3.11' '3.51724' '3.55' '7.3'\n",
      " '2.68' '4.35' '3.39' '5.75' '3.64' '3.32' '17.0' '4.52' '3.14' '3.72'\n",
      " '6127.0' '1.02' '1.76' '6.7' '6747.0' '4.13' '3.27' '3.83' '2.38' '2.72'\n",
      " '4.67' '3.56069' '1225.0' '4.84' '3.58' '2973.0' '1.73' '2.74' '0.88'\n",
      " '1.66667' '4.07' '2.89' '1712.0' '7.2' '1675.0' '0.8625' '2.29' '6142.0'\n",
      " '2.91' '83.0' '7625.0' '2855.0' '3383.0' '4.63' '4.79' '2949.0' '4.04'\n",
      " '3461.0' '5694.0' '13.0' '1.7937' '3703.0' '6.42' '3.28333' '1257.0'\n",
      " '3.82' '3.49' '1.03' '2655.0' '1667.0' '3.98' '3.73' '5.1229' '4.23'\n",
      " '1254.0' '7.25' '4.43' '4.55' '7.52' '0.95' '4202.0' '2.97' '0.91' '2.08'\n",
      " '7354.0' '5.76' '10.75' '5.33' '3087.0' '1.27' '7.1555' '0.98' '4.44'\n",
      " '3.03' '2.94' '15.52' '12.5' '1479.0' '16.4' '1.08' '1288.0' '4.01'\n",
      " '3127.0' '5.87' '2.93' '1263.0' '4.15' '43.0' '70.0' '4464.0' '8.15'\n",
      " '65.0' '17.5' '1133.0' '3843.0' '3.51' '1.21' '1.09' '1.9639' '1.91'\n",
      " '6077.0' '2.4444' '1566.0' '2.55' '4.58' '1614.0' '4.36' '5.3571'\n",
      " '0.9816' '2625.0' '5555.0' '2.28' '4.53' '0.22' '7.31' '5.74' '1.95'\n",
      " '1.06' '2582.0' '2.86' '0.13' '54.0' '1111.0' '1579.0' '10.5' '3108.0'\n",
      " '2.31' '3413.0' '3.84' '4.46' '6.67761' '28.0' '3.91' '2.52' '4314.0'\n",
      " '14.25' '1336.0' '2.16' '1923.0' '22.5' '2532.0' '3.56' '2087.0' '3.81'\n",
      " '8.8' '1113.0' '3.1818' '3.06' '75.0' '0.64' '60.0' '3189.0' '7.85'\n",
      " '3245.0' '4325.0' '3.13013' '6.88' '1005.0' '3137.0' '4.69' '7.01'\n",
      " '100.0' '6666.0' '4.66666' '2.76' '3.54' '2065.0' '4.98' '4432.0' '923.0'\n",
      " '5.66' '55.0' '0.42' '1.62' '4.7111' '1265.0' '3.92' '3.93' '5.63' '2.64'\n",
      " '4.49' '1328.0' '5357.0' '4.05' '1411.0' '6715.0' '5154.0' '5747.0'\n",
      " '4.85' '0.85' '0.83' '2746.0' '1287.0']\n"
     ]
    }
   ],
   "source": [
    "for col in data_raw:\n",
    "    print(f\"{col} = {data_raw[col].unique()}\")"
   ]
  },
  {
   "cell_type": "code",
   "execution_count": 21,
   "metadata": {},
   "outputs": [],
   "source": [
    "data_raw.replace('????', np.nan, inplace=True)\n",
    "data_raw.replace('jnkhbgvf 98uihj', np.nan, inplace=True)"
   ]
  },
  {
   "cell_type": "code",
   "execution_count": 22,
   "metadata": {},
   "outputs": [
    {
     "data": {
      "application/vnd.plotly.v1+json": {
       "config": {
        "plotlyServerURL": "https://plot.ly"
       },
       "data": [
        {
         "alignmentgroup": "True",
         "hovertemplate": "color=OG<br>index=%{x}<br>value=%{y}<extra></extra>",
         "legendgroup": "OG",
         "marker": {
          "color": "#636efa",
          "pattern": {
           "shape": ""
          }
         },
         "name": "OG",
         "offsetgroup": "OG",
         "orientation": "v",
         "showlegend": true,
         "textposition": "auto",
         "type": "bar",
         "x": [
          "OG"
         ],
         "xaxis": "x",
         "y": [
          10.252025346184277
         ],
         "yaxis": "y"
        },
        {
         "alignmentgroup": "True",
         "hovertemplate": "color=Efficiency<br>index=%{x}<br>value=%{y}<extra></extra>",
         "legendgroup": "Efficiency",
         "marker": {
          "color": "#EF553B",
          "pattern": {
           "shape": ""
          }
         },
         "name": "Efficiency",
         "offsetgroup": "Efficiency",
         "orientation": "v",
         "showlegend": true,
         "textposition": "auto",
         "type": "bar",
         "x": [
          "Efficiency"
         ],
         "xaxis": "x",
         "y": [
          10.361700720756463
         ],
         "yaxis": "y"
        },
        {
         "alignmentgroup": "True",
         "hovertemplate": "color=SugarScale<br>index=%{x}<br>value=%{y}<extra></extra>",
         "legendgroup": "SugarScale",
         "marker": {
          "color": "#00cc96",
          "pattern": {
           "shape": ""
          }
         },
         "name": "SugarScale",
         "offsetgroup": "SugarScale",
         "orientation": "v",
         "showlegend": true,
         "textposition": "auto",
         "type": "bar",
         "x": [
          "SugarScale"
         ],
         "xaxis": "x",
         "y": [
          10.30515291848224
         ],
         "yaxis": "y"
        },
        {
         "alignmentgroup": "True",
         "hovertemplate": "color=StyleID<br>index=%{x}<br>value=%{y}<extra></extra>",
         "legendgroup": "StyleID",
         "marker": {
          "color": "#ab63fa",
          "pattern": {
           "shape": ""
          }
         },
         "name": "StyleID",
         "offsetgroup": "StyleID",
         "orientation": "v",
         "showlegend": true,
         "textposition": "auto",
         "type": "bar",
         "x": [
          "StyleID"
         ],
         "xaxis": "x",
         "y": [
          10.278475124667382
         ],
         "yaxis": "y"
        },
        {
         "alignmentgroup": "True",
         "hovertemplate": "color=PitchRate<br>index=%{x}<br>value=%{y}<extra></extra>",
         "legendgroup": "PitchRate",
         "marker": {
          "color": "#FFA15A",
          "pattern": {
           "shape": ""
          }
         },
         "name": "PitchRate",
         "offsetgroup": "PitchRate",
         "orientation": "v",
         "showlegend": true,
         "textposition": "auto",
         "type": "bar",
         "x": [
          "PitchRate"
         ],
         "xaxis": "x",
         "y": [
          54.31826836036455
         ],
         "yaxis": "y"
        },
        {
         "alignmentgroup": "True",
         "hovertemplate": "color=Size(L)<br>index=%{x}<br>value=%{y}<extra></extra>",
         "legendgroup": "Size(L)",
         "marker": {
          "color": "#19d3f3",
          "pattern": {
           "shape": ""
          }
         },
         "name": "Size(L)",
         "offsetgroup": "Size(L)",
         "orientation": "v",
         "showlegend": true,
         "textposition": "auto",
         "type": "bar",
         "x": [
          "Size(L)"
         ],
         "xaxis": "x",
         "y": [
          10.228539767013935
         ],
         "yaxis": "y"
        },
        {
         "alignmentgroup": "True",
         "hovertemplate": "color=BoilGravity<br>index=%{x}<br>value=%{y}<extra></extra>",
         "legendgroup": "BoilGravity",
         "marker": {
          "color": "#FF6692",
          "pattern": {
           "shape": ""
          }
         },
         "name": "BoilGravity",
         "offsetgroup": "BoilGravity",
         "orientation": "v",
         "showlegend": true,
         "textposition": "auto",
         "type": "bar",
         "x": [
          "BoilGravity"
         ],
         "xaxis": "x",
         "y": [
          13.765969623797504
         ],
         "yaxis": "y"
        },
        {
         "alignmentgroup": "True",
         "hovertemplate": "color=BoilTime<br>index=%{x}<br>value=%{y}<extra></extra>",
         "legendgroup": "BoilTime",
         "marker": {
          "color": "#B6E880",
          "pattern": {
           "shape": ""
          }
         },
         "name": "BoilTime",
         "offsetgroup": "BoilTime",
         "orientation": "v",
         "showlegend": true,
         "textposition": "auto",
         "type": "bar",
         "x": [
          "BoilTime"
         ],
         "xaxis": "x",
         "y": [
          10.308801163790253
         ],
         "yaxis": "y"
        },
        {
         "alignmentgroup": "True",
         "hovertemplate": "color=FG<br>index=%{x}<br>value=%{y}<extra></extra>",
         "legendgroup": "FG",
         "marker": {
          "color": "#FF97FF",
          "pattern": {
           "shape": ""
          }
         },
         "name": "FG",
         "offsetgroup": "FG",
         "orientation": "v",
         "showlegend": true,
         "textposition": "auto",
         "type": "bar",
         "x": [
          "FG"
         ],
         "xaxis": "x",
         "y": [
          10.30788910246325
         ],
         "yaxis": "y"
        },
        {
         "alignmentgroup": "True",
         "hovertemplate": "color=PrimaryTemp<br>index=%{x}<br>value=%{y}<extra></extra>",
         "legendgroup": "PrimaryTemp",
         "marker": {
          "color": "#FECB52",
          "pattern": {
           "shape": ""
          }
         },
         "name": "PrimaryTemp",
         "offsetgroup": "PrimaryTemp",
         "orientation": "v",
         "showlegend": true,
         "textposition": "auto",
         "type": "bar",
         "x": [
          "PrimaryTemp"
         ],
         "xaxis": "x",
         "y": [
          35.63560413802224
         ],
         "yaxis": "y"
        },
        {
         "alignmentgroup": "True",
         "hovertemplate": "color=Style<br>index=%{x}<br>value=%{y}<extra></extra>",
         "legendgroup": "Style",
         "marker": {
          "color": "#636efa",
          "pattern": {
           "shape": ""
          }
         },
         "name": "Style",
         "offsetgroup": "Style",
         "orientation": "v",
         "showlegend": true,
         "textposition": "auto",
         "type": "bar",
         "x": [
          "Style"
         ],
         "xaxis": "x",
         "y": [
          10.876559339850012
         ],
         "yaxis": "y"
        },
        {
         "alignmentgroup": "True",
         "hovertemplate": "color=Color<br>index=%{x}<br>value=%{y}<extra></extra>",
         "legendgroup": "Color",
         "marker": {
          "color": "#EF553B",
          "pattern": {
           "shape": ""
          }
         },
         "name": "Color",
         "offsetgroup": "Color",
         "orientation": "v",
         "showlegend": true,
         "textposition": "auto",
         "type": "bar",
         "x": [
          "Color"
         ],
         "xaxis": "x",
         "y": [
          10.32088597637305
         ],
         "yaxis": "y"
        },
        {
         "alignmentgroup": "True",
         "hovertemplate": "color=Name<br>index=%{x}<br>value=%{y}<extra></extra>",
         "legendgroup": "Name",
         "marker": {
          "color": "#00cc96",
          "pattern": {
           "shape": ""
          }
         },
         "name": "Name",
         "offsetgroup": "Name",
         "orientation": "v",
         "showlegend": true,
         "textposition": "auto",
         "type": "bar",
         "x": [
          "Name"
         ],
         "xaxis": "x",
         "y": [
          10.298996504524965
         ],
         "yaxis": "y"
        },
        {
         "alignmentgroup": "True",
         "hovertemplate": "color=IBU<br>index=%{x}<br>value=%{y}<extra></extra>",
         "legendgroup": "IBU",
         "marker": {
          "color": "#ab63fa",
          "pattern": {
           "shape": ""
          }
         },
         "name": "IBU",
         "offsetgroup": "IBU",
         "orientation": "v",
         "showlegend": true,
         "textposition": "auto",
         "type": "bar",
         "x": [
          "IBU"
         ],
         "xaxis": "x",
         "y": [
          10.279159170662636
         ],
         "yaxis": "y"
        },
        {
         "alignmentgroup": "True",
         "hovertemplate": "color=BrewMethod<br>index=%{x}<br>value=%{y}<extra></extra>",
         "legendgroup": "BrewMethod",
         "marker": {
          "color": "#FFA15A",
          "pattern": {
           "shape": ""
          }
         },
         "name": "BrewMethod",
         "offsetgroup": "BrewMethod",
         "orientation": "v",
         "showlegend": true,
         "textposition": "auto",
         "type": "bar",
         "x": [
          "BrewMethod"
         ],
         "xaxis": "x",
         "y": [
          10.241992671587237
         ],
         "yaxis": "y"
        },
        {
         "alignmentgroup": "True",
         "hovertemplate": "color=BeerID<br>index=%{x}<br>value=%{y}<extra></extra>",
         "legendgroup": "BeerID",
         "marker": {
          "color": "#19d3f3",
          "pattern": {
           "shape": ""
          }
         },
         "name": "BeerID",
         "offsetgroup": "BeerID",
         "orientation": "v",
         "showlegend": true,
         "textposition": "auto",
         "type": "bar",
         "x": [
          "BeerID"
         ],
         "xaxis": "x",
         "y": [
          10.228995797677436
         ],
         "yaxis": "y"
        },
        {
         "alignmentgroup": "True",
         "hovertemplate": "color=ABV<br>index=%{x}<br>value=%{y}<extra></extra>",
         "legendgroup": "ABV",
         "marker": {
          "color": "#FF6692",
          "pattern": {
           "shape": ""
          }
         },
         "name": "ABV",
         "offsetgroup": "ABV",
         "orientation": "v",
         "showlegend": true,
         "textposition": "auto",
         "type": "bar",
         "x": [
          "ABV"
         ],
         "xaxis": "x",
         "y": [
          10.286911691942166
         ],
         "yaxis": "y"
        },
        {
         "alignmentgroup": "True",
         "hovertemplate": "color=MashThickness<br>index=%{x}<br>value=%{y}<extra></extra>",
         "legendgroup": "MashThickness",
         "marker": {
          "color": "#B6E880",
          "pattern": {
           "shape": ""
          }
         },
         "name": "MashThickness",
         "offsetgroup": "MashThickness",
         "orientation": "v",
         "showlegend": true,
         "textposition": "auto",
         "type": "bar",
         "x": [
          "MashThickness"
         ],
         "xaxis": "x",
         "y": [
          43.9100525119309
         ],
         "yaxis": "y"
        }
       ],
       "layout": {
        "barmode": "relative",
        "legend": {
         "title": {
          "text": "color"
         },
         "tracegroupgap": 0
        },
        "template": {
         "data": {
          "bar": [
           {
            "error_x": {
             "color": "#2a3f5f"
            },
            "error_y": {
             "color": "#2a3f5f"
            },
            "marker": {
             "line": {
              "color": "#E5ECF6",
              "width": 0.5
             },
             "pattern": {
              "fillmode": "overlay",
              "size": 10,
              "solidity": 0.2
             }
            },
            "type": "bar"
           }
          ],
          "barpolar": [
           {
            "marker": {
             "line": {
              "color": "#E5ECF6",
              "width": 0.5
             },
             "pattern": {
              "fillmode": "overlay",
              "size": 10,
              "solidity": 0.2
             }
            },
            "type": "barpolar"
           }
          ],
          "carpet": [
           {
            "aaxis": {
             "endlinecolor": "#2a3f5f",
             "gridcolor": "white",
             "linecolor": "white",
             "minorgridcolor": "white",
             "startlinecolor": "#2a3f5f"
            },
            "baxis": {
             "endlinecolor": "#2a3f5f",
             "gridcolor": "white",
             "linecolor": "white",
             "minorgridcolor": "white",
             "startlinecolor": "#2a3f5f"
            },
            "type": "carpet"
           }
          ],
          "choropleth": [
           {
            "colorbar": {
             "outlinewidth": 0,
             "ticks": ""
            },
            "type": "choropleth"
           }
          ],
          "contour": [
           {
            "colorbar": {
             "outlinewidth": 0,
             "ticks": ""
            },
            "colorscale": [
             [
              0,
              "#0d0887"
             ],
             [
              0.1111111111111111,
              "#46039f"
             ],
             [
              0.2222222222222222,
              "#7201a8"
             ],
             [
              0.3333333333333333,
              "#9c179e"
             ],
             [
              0.4444444444444444,
              "#bd3786"
             ],
             [
              0.5555555555555556,
              "#d8576b"
             ],
             [
              0.6666666666666666,
              "#ed7953"
             ],
             [
              0.7777777777777778,
              "#fb9f3a"
             ],
             [
              0.8888888888888888,
              "#fdca26"
             ],
             [
              1,
              "#f0f921"
             ]
            ],
            "type": "contour"
           }
          ],
          "contourcarpet": [
           {
            "colorbar": {
             "outlinewidth": 0,
             "ticks": ""
            },
            "type": "contourcarpet"
           }
          ],
          "heatmap": [
           {
            "colorbar": {
             "outlinewidth": 0,
             "ticks": ""
            },
            "colorscale": [
             [
              0,
              "#0d0887"
             ],
             [
              0.1111111111111111,
              "#46039f"
             ],
             [
              0.2222222222222222,
              "#7201a8"
             ],
             [
              0.3333333333333333,
              "#9c179e"
             ],
             [
              0.4444444444444444,
              "#bd3786"
             ],
             [
              0.5555555555555556,
              "#d8576b"
             ],
             [
              0.6666666666666666,
              "#ed7953"
             ],
             [
              0.7777777777777778,
              "#fb9f3a"
             ],
             [
              0.8888888888888888,
              "#fdca26"
             ],
             [
              1,
              "#f0f921"
             ]
            ],
            "type": "heatmap"
           }
          ],
          "heatmapgl": [
           {
            "colorbar": {
             "outlinewidth": 0,
             "ticks": ""
            },
            "colorscale": [
             [
              0,
              "#0d0887"
             ],
             [
              0.1111111111111111,
              "#46039f"
             ],
             [
              0.2222222222222222,
              "#7201a8"
             ],
             [
              0.3333333333333333,
              "#9c179e"
             ],
             [
              0.4444444444444444,
              "#bd3786"
             ],
             [
              0.5555555555555556,
              "#d8576b"
             ],
             [
              0.6666666666666666,
              "#ed7953"
             ],
             [
              0.7777777777777778,
              "#fb9f3a"
             ],
             [
              0.8888888888888888,
              "#fdca26"
             ],
             [
              1,
              "#f0f921"
             ]
            ],
            "type": "heatmapgl"
           }
          ],
          "histogram": [
           {
            "marker": {
             "pattern": {
              "fillmode": "overlay",
              "size": 10,
              "solidity": 0.2
             }
            },
            "type": "histogram"
           }
          ],
          "histogram2d": [
           {
            "colorbar": {
             "outlinewidth": 0,
             "ticks": ""
            },
            "colorscale": [
             [
              0,
              "#0d0887"
             ],
             [
              0.1111111111111111,
              "#46039f"
             ],
             [
              0.2222222222222222,
              "#7201a8"
             ],
             [
              0.3333333333333333,
              "#9c179e"
             ],
             [
              0.4444444444444444,
              "#bd3786"
             ],
             [
              0.5555555555555556,
              "#d8576b"
             ],
             [
              0.6666666666666666,
              "#ed7953"
             ],
             [
              0.7777777777777778,
              "#fb9f3a"
             ],
             [
              0.8888888888888888,
              "#fdca26"
             ],
             [
              1,
              "#f0f921"
             ]
            ],
            "type": "histogram2d"
           }
          ],
          "histogram2dcontour": [
           {
            "colorbar": {
             "outlinewidth": 0,
             "ticks": ""
            },
            "colorscale": [
             [
              0,
              "#0d0887"
             ],
             [
              0.1111111111111111,
              "#46039f"
             ],
             [
              0.2222222222222222,
              "#7201a8"
             ],
             [
              0.3333333333333333,
              "#9c179e"
             ],
             [
              0.4444444444444444,
              "#bd3786"
             ],
             [
              0.5555555555555556,
              "#d8576b"
             ],
             [
              0.6666666666666666,
              "#ed7953"
             ],
             [
              0.7777777777777778,
              "#fb9f3a"
             ],
             [
              0.8888888888888888,
              "#fdca26"
             ],
             [
              1,
              "#f0f921"
             ]
            ],
            "type": "histogram2dcontour"
           }
          ],
          "mesh3d": [
           {
            "colorbar": {
             "outlinewidth": 0,
             "ticks": ""
            },
            "type": "mesh3d"
           }
          ],
          "parcoords": [
           {
            "line": {
             "colorbar": {
              "outlinewidth": 0,
              "ticks": ""
             }
            },
            "type": "parcoords"
           }
          ],
          "pie": [
           {
            "automargin": true,
            "type": "pie"
           }
          ],
          "scatter": [
           {
            "fillpattern": {
             "fillmode": "overlay",
             "size": 10,
             "solidity": 0.2
            },
            "type": "scatter"
           }
          ],
          "scatter3d": [
           {
            "line": {
             "colorbar": {
              "outlinewidth": 0,
              "ticks": ""
             }
            },
            "marker": {
             "colorbar": {
              "outlinewidth": 0,
              "ticks": ""
             }
            },
            "type": "scatter3d"
           }
          ],
          "scattercarpet": [
           {
            "marker": {
             "colorbar": {
              "outlinewidth": 0,
              "ticks": ""
             }
            },
            "type": "scattercarpet"
           }
          ],
          "scattergeo": [
           {
            "marker": {
             "colorbar": {
              "outlinewidth": 0,
              "ticks": ""
             }
            },
            "type": "scattergeo"
           }
          ],
          "scattergl": [
           {
            "marker": {
             "colorbar": {
              "outlinewidth": 0,
              "ticks": ""
             }
            },
            "type": "scattergl"
           }
          ],
          "scattermapbox": [
           {
            "marker": {
             "colorbar": {
              "outlinewidth": 0,
              "ticks": ""
             }
            },
            "type": "scattermapbox"
           }
          ],
          "scatterpolar": [
           {
            "marker": {
             "colorbar": {
              "outlinewidth": 0,
              "ticks": ""
             }
            },
            "type": "scatterpolar"
           }
          ],
          "scatterpolargl": [
           {
            "marker": {
             "colorbar": {
              "outlinewidth": 0,
              "ticks": ""
             }
            },
            "type": "scatterpolargl"
           }
          ],
          "scatterternary": [
           {
            "marker": {
             "colorbar": {
              "outlinewidth": 0,
              "ticks": ""
             }
            },
            "type": "scatterternary"
           }
          ],
          "surface": [
           {
            "colorbar": {
             "outlinewidth": 0,
             "ticks": ""
            },
            "colorscale": [
             [
              0,
              "#0d0887"
             ],
             [
              0.1111111111111111,
              "#46039f"
             ],
             [
              0.2222222222222222,
              "#7201a8"
             ],
             [
              0.3333333333333333,
              "#9c179e"
             ],
             [
              0.4444444444444444,
              "#bd3786"
             ],
             [
              0.5555555555555556,
              "#d8576b"
             ],
             [
              0.6666666666666666,
              "#ed7953"
             ],
             [
              0.7777777777777778,
              "#fb9f3a"
             ],
             [
              0.8888888888888888,
              "#fdca26"
             ],
             [
              1,
              "#f0f921"
             ]
            ],
            "type": "surface"
           }
          ],
          "table": [
           {
            "cells": {
             "fill": {
              "color": "#EBF0F8"
             },
             "line": {
              "color": "white"
             }
            },
            "header": {
             "fill": {
              "color": "#C8D4E3"
             },
             "line": {
              "color": "white"
             }
            },
            "type": "table"
           }
          ]
         },
         "layout": {
          "annotationdefaults": {
           "arrowcolor": "#2a3f5f",
           "arrowhead": 0,
           "arrowwidth": 1
          },
          "autotypenumbers": "strict",
          "coloraxis": {
           "colorbar": {
            "outlinewidth": 0,
            "ticks": ""
           }
          },
          "colorscale": {
           "diverging": [
            [
             0,
             "#8e0152"
            ],
            [
             0.1,
             "#c51b7d"
            ],
            [
             0.2,
             "#de77ae"
            ],
            [
             0.3,
             "#f1b6da"
            ],
            [
             0.4,
             "#fde0ef"
            ],
            [
             0.5,
             "#f7f7f7"
            ],
            [
             0.6,
             "#e6f5d0"
            ],
            [
             0.7,
             "#b8e186"
            ],
            [
             0.8,
             "#7fbc41"
            ],
            [
             0.9,
             "#4d9221"
            ],
            [
             1,
             "#276419"
            ]
           ],
           "sequential": [
            [
             0,
             "#0d0887"
            ],
            [
             0.1111111111111111,
             "#46039f"
            ],
            [
             0.2222222222222222,
             "#7201a8"
            ],
            [
             0.3333333333333333,
             "#9c179e"
            ],
            [
             0.4444444444444444,
             "#bd3786"
            ],
            [
             0.5555555555555556,
             "#d8576b"
            ],
            [
             0.6666666666666666,
             "#ed7953"
            ],
            [
             0.7777777777777778,
             "#fb9f3a"
            ],
            [
             0.8888888888888888,
             "#fdca26"
            ],
            [
             1,
             "#f0f921"
            ]
           ],
           "sequentialminus": [
            [
             0,
             "#0d0887"
            ],
            [
             0.1111111111111111,
             "#46039f"
            ],
            [
             0.2222222222222222,
             "#7201a8"
            ],
            [
             0.3333333333333333,
             "#9c179e"
            ],
            [
             0.4444444444444444,
             "#bd3786"
            ],
            [
             0.5555555555555556,
             "#d8576b"
            ],
            [
             0.6666666666666666,
             "#ed7953"
            ],
            [
             0.7777777777777778,
             "#fb9f3a"
            ],
            [
             0.8888888888888888,
             "#fdca26"
            ],
            [
             1,
             "#f0f921"
            ]
           ]
          },
          "colorway": [
           "#636efa",
           "#EF553B",
           "#00cc96",
           "#ab63fa",
           "#FFA15A",
           "#19d3f3",
           "#FF6692",
           "#B6E880",
           "#FF97FF",
           "#FECB52"
          ],
          "font": {
           "color": "#2a3f5f"
          },
          "geo": {
           "bgcolor": "white",
           "lakecolor": "white",
           "landcolor": "#E5ECF6",
           "showlakes": true,
           "showland": true,
           "subunitcolor": "white"
          },
          "hoverlabel": {
           "align": "left"
          },
          "hovermode": "closest",
          "mapbox": {
           "style": "light"
          },
          "paper_bgcolor": "white",
          "plot_bgcolor": "#E5ECF6",
          "polar": {
           "angularaxis": {
            "gridcolor": "white",
            "linecolor": "white",
            "ticks": ""
           },
           "bgcolor": "#E5ECF6",
           "radialaxis": {
            "gridcolor": "white",
            "linecolor": "white",
            "ticks": ""
           }
          },
          "scene": {
           "xaxis": {
            "backgroundcolor": "#E5ECF6",
            "gridcolor": "white",
            "gridwidth": 2,
            "linecolor": "white",
            "showbackground": true,
            "ticks": "",
            "zerolinecolor": "white"
           },
           "yaxis": {
            "backgroundcolor": "#E5ECF6",
            "gridcolor": "white",
            "gridwidth": 2,
            "linecolor": "white",
            "showbackground": true,
            "ticks": "",
            "zerolinecolor": "white"
           },
           "zaxis": {
            "backgroundcolor": "#E5ECF6",
            "gridcolor": "white",
            "gridwidth": 2,
            "linecolor": "white",
            "showbackground": true,
            "ticks": "",
            "zerolinecolor": "white"
           }
          },
          "shapedefaults": {
           "line": {
            "color": "#2a3f5f"
           }
          },
          "ternary": {
           "aaxis": {
            "gridcolor": "white",
            "linecolor": "white",
            "ticks": ""
           },
           "baxis": {
            "gridcolor": "white",
            "linecolor": "white",
            "ticks": ""
           },
           "bgcolor": "#E5ECF6",
           "caxis": {
            "gridcolor": "white",
            "linecolor": "white",
            "ticks": ""
           }
          },
          "title": {
           "x": 0.05
          },
          "xaxis": {
           "automargin": true,
           "gridcolor": "white",
           "linecolor": "white",
           "ticks": "",
           "title": {
            "standoff": 15
           },
           "zerolinecolor": "white",
           "zerolinewidth": 2
          },
          "yaxis": {
           "automargin": true,
           "gridcolor": "white",
           "linecolor": "white",
           "ticks": "",
           "title": {
            "standoff": 15
           },
           "zerolinecolor": "white",
           "zerolinewidth": 2
          }
         }
        },
        "title": {
         "text": "Percentage of Missing Values per column"
        },
        "xaxis": {
         "anchor": "y",
         "domain": [
          0,
          1
         ],
         "title": {
          "text": "index"
         }
        },
        "yaxis": {
         "anchor": "x",
         "domain": [
          0,
          1
         ],
         "title": {
          "text": "value"
         }
        }
       }
      }
     },
     "metadata": {},
     "output_type": "display_data"
    }
   ],
   "source": [
    "(data_raw.isnull().sum()*100/len(data_raw)).plot.bar(title = 'Percentage of Missing Values per column', color=data_raw.columns)\n"
   ]
  },
  {
   "cell_type": "markdown",
   "metadata": {},
   "source": [
    "After transform the data, the variables with higher null percentage are **PitchRate**, **MashThickness** and **PrimaryTemp**, taking into account that **PitchRate** and **MashThickness** have more than 44% of null data, those columns will be removed. "
   ]
  },
  {
   "cell_type": "code",
   "execution_count": 23,
   "metadata": {},
   "outputs": [
    {
     "name": "stdout",
     "output_type": "stream",
     "text": [
      "Null per column\n",
      " OG  =  10.252025346184277\n",
      " Efficiency  =  10.361700720756465\n",
      " SugarScale  =  10.305152918482237\n",
      " StyleID  =  10.278475124667382\n",
      " PitchRate  =  54.318268360364556\n",
      " Size(L)  =  10.228539767013935\n",
      " BoilGravity  =  13.765969623797506\n",
      " BoilTime  =  10.308801163790253\n",
      " FG  =  10.30788910246325\n",
      " PrimaryTemp  =  35.635604138022245\n",
      " Style  =  10.876559339850012\n",
      " Color  =  10.32088597637305\n",
      " Name  =  10.298996504524965\n",
      " IBU  =  10.279159170662636\n",
      " BrewMethod  =  10.241992671587237\n",
      " BeerID  =  10.228995797677436\n",
      " ABV  =  10.286911691942166\n",
      " MashThickness  =  43.9100525119309\n"
     ]
    }
   ],
   "source": [
    "print(\"Null per column\")\n",
    "for column in data_raw:\n",
    "    print(f' {column}  =  {(data_raw[column].isnull().sum()/len(data_raw))*100}')"
   ]
  },
  {
   "cell_type": "code",
   "execution_count": 24,
   "metadata": {},
   "outputs": [
    {
     "data": {
      "text/plain": [
       "OG                44962\n",
       "Efficiency        45443\n",
       "SugarScale        45195\n",
       "StyleID           45078\n",
       "PitchRate        238222\n",
       "Size(L)           44859\n",
       "BoilGravity       60373\n",
       "BoilTime          45211\n",
       "FG                45207\n",
       "PrimaryTemp      156286\n",
       "Style             47701\n",
       "Color             45264\n",
       "Name              45168\n",
       "IBU               45081\n",
       "BrewMethod        44918\n",
       "BeerID            44861\n",
       "ABV               45115\n",
       "MashThickness    192575\n",
       "dtype: int64"
      ]
     },
     "execution_count": 24,
     "metadata": {},
     "output_type": "execute_result"
    }
   ],
   "source": [
    "data_raw.isnull().sum()"
   ]
  },
  {
   "cell_type": "markdown",
   "metadata": {},
   "source": [
    "In additional we remove the StyleID, BeerID, and Name since it does not have interest information to the analysis"
   ]
  },
  {
   "cell_type": "code",
   "execution_count": 25,
   "metadata": {},
   "outputs": [],
   "source": [
    "data_raw.drop(['PitchRate', 'MashThickness', 'BeerID', 'StyleID', 'Name'], axis=1, inplace=True)"
   ]
  },
  {
   "cell_type": "code",
   "execution_count": 26,
   "metadata": {},
   "outputs": [],
   "source": [
    "data_raw.to_parquet(\"../data/interim/beer_general_data_clean.parquet\", index = False)"
   ]
  },
  {
   "cell_type": "markdown",
   "metadata": {},
   "source": [
    "Split data into 2 datasets \n",
    "- 70% to Train \n",
    "- 30% to Test\n",
    " "
   ]
  },
  {
   "cell_type": "code",
   "execution_count": 27,
   "metadata": {},
   "outputs": [
    {
     "data": {
      "text/plain": [
       "438567"
      ]
     },
     "execution_count": 27,
     "metadata": {},
     "output_type": "execute_result"
    }
   ],
   "source": [
    "len(data_raw)"
   ]
  },
  {
   "cell_type": "markdown",
   "metadata": {},
   "source": [
    "Before we save the data, we set the correct variable types to the columns "
   ]
  },
  {
   "cell_type": "code",
   "execution_count": 28,
   "metadata": {},
   "outputs": [
    {
     "data": {
      "text/plain": [
       "OG             object\n",
       "Efficiency     object\n",
       "SugarScale     object\n",
       "Size(L)        object\n",
       "BoilGravity    object\n",
       "BoilTime       object\n",
       "FG             object\n",
       "PrimaryTemp    object\n",
       "Style          object\n",
       "Color          object\n",
       "IBU            object\n",
       "BrewMethod     object\n",
       "ABV            object\n",
       "dtype: object"
      ]
     },
     "execution_count": 28,
     "metadata": {},
     "output_type": "execute_result"
    }
   ],
   "source": [
    "data_raw.dtypes"
   ]
  },
  {
   "cell_type": "markdown",
   "metadata": {},
   "source": [
    "For Numeric columns"
   ]
  },
  {
   "cell_type": "code",
   "execution_count": 29,
   "metadata": {},
   "outputs": [],
   "source": [
    "data_raw['Efficiency'].replace('fad', np.nan, inplace=True)\n",
    "data_raw['Efficiency'].replace('sf', np.nan, inplace=True)\n",
    "data_raw['Efficiency'] = data_raw['Efficiency'].astype('float')\n",
    "\n",
    "\n",
    "data_raw['OG'].replace('twyey', np.nan, inplace=True)\n",
    "data_raw['OG'] = data_raw['OG'].astype('float')\n",
    "\n",
    "data_raw['Size(L)'] = data_raw['Size(L)'].astype('float')\n",
    "\n",
    "data_raw['BoilGravity'].replace('afds', np.nan, inplace=True)\n",
    "data_raw['BoilGravity'].replace('dafsdgh', np.nan, inplace=True)\n",
    "data_raw['BoilGravity'].replace('wyet', np.nan, inplace=True)\n",
    "data_raw['BoilGravity'] = data_raw['BoilGravity'].astype('float')\n",
    "\n",
    "data_raw['FG'] = data_raw['FG'].astype('float')\n",
    "\n",
    "data_raw['PrimaryTemp'] = data_raw['PrimaryTemp'].astype('float')\n",
    "\n",
    "data_raw['Color'].replace('tewtye', np.nan, inplace=True)\n",
    "data_raw['Color'] = data_raw['Color'].astype('float')\n",
    "\n",
    "\n",
    "data_raw['IBU'].replace('wtyeywte', np.nan, inplace=True)\n",
    "data_raw['IBU'] = data_raw['IBU'].astype('float')\n",
    "\n",
    "\n",
    "data_raw['ABV'].replace('ywet', np.nan, inplace=True)\n",
    "data_raw['ABV'] = data_raw['ABV'].astype('float')\n",
    "\n",
    "data_raw['BoilTime'].replace('adsf', np.nan, inplace=True)\n",
    "data_raw['BoilTime'].replace('ytew', np.nan, inplace=True)\n",
    "data_raw['BoilTime'].replace('wyet', np.nan, inplace=True)\n",
    "data_raw['BoilTime'].replace('adf', np.nan, inplace=True)\n",
    "data_raw['BoilTime'] = data_raw['BoilTime'].astype('float')\n"
   ]
  },
  {
   "cell_type": "markdown",
   "metadata": {},
   "source": [
    "For Categorical columns"
   ]
  },
  {
   "cell_type": "markdown",
   "metadata": {},
   "source": [
    "For the variable SugarScale, exists 2 possible values *Plato* or *SpecificGravity* however, we have numeric values in the column, in this phase we will set this column to the default type *Category*"
   ]
  },
  {
   "cell_type": "code",
   "execution_count": 30,
   "metadata": {},
   "outputs": [
    {
     "data": {
      "text/plain": [
       "385399    Specific Gravity\n",
       "437783               Plato\n",
       "442141    Specific Gravity\n",
       "238114    Specific Gravity\n",
       "318902                 NaN\n",
       "337314    Specific Gravity\n",
       "293255                 NaN\n",
       "409551    Specific Gravity\n",
       "331516    Specific Gravity\n",
       "101296    Specific Gravity\n",
       "124787                 NaN\n",
       "235632    Specific Gravity\n",
       "Name: SugarScale, dtype: object"
      ]
     },
     "execution_count": 30,
     "metadata": {},
     "output_type": "execute_result"
    }
   ],
   "source": [
    "data_raw['SugarScale'].sample(12)\n",
    "\n"
   ]
  },
  {
   "cell_type": "markdown",
   "metadata": {},
   "source": [
    "Exist weird values different to 'Plato' and 'Specific Gravity' that doesn't have possible explanation. for those values we set them to null"
   ]
  },
  {
   "cell_type": "code",
   "execution_count": 31,
   "metadata": {},
   "outputs": [
    {
     "data": {
      "text/plain": [
       "['-354128741541',\n",
       " '1.5',\n",
       " '678',\n",
       " '52345',\n",
       " nan,\n",
       " '23542',\n",
       " '4.61',\n",
       " '1.35',\n",
       " '2.5',\n",
       " '856842215413']"
      ]
     },
     "execution_count": 31,
     "metadata": {},
     "output_type": "execute_result"
    }
   ],
   "source": [
    "unique_sugar_scale_set = set (data_raw['SugarScale'].unique())\n",
    "unique_sugar_scale_set.add('23542')\n",
    "real_sugar_scale_values_set = {'Specific Gravity', 'Plato'}\n",
    "weird_sugar_scale_values = list(unique_sugar_scale_set - real_sugar_scale_values_set)\n",
    "\n",
    "weird_sugar_scale_values"
   ]
  },
  {
   "cell_type": "code",
   "execution_count": 32,
   "metadata": {},
   "outputs": [],
   "source": [
    "data_raw['SugarScale'].replace(weird_sugar_scale_values, np.nan, inplace=True)\n",
    "data_raw['SugarScale'] = data_raw['SugarScale'].astype('category')"
   ]
  },
  {
   "cell_type": "code",
   "execution_count": 33,
   "metadata": {},
   "outputs": [],
   "source": [
    "\n",
    "unique_brewmethod_unique_no_weird_values_list = list(filter(lambda x: str(x).isdigit(), list(data_raw['BrewMethod'].unique())))\n",
    "unique_brewmethod_unique_no_weird_values_list.append('uyrter')\n",
    "unique_brewmethod_unique_no_weird_values_list.append('-354128741541')\n",
    "##unique_brewmethod_unique_no_weird_values_list.append('NaN')\n",
    "data_raw['BrewMethod'].replace(unique_brewmethod_unique_no_weird_values_list, np.nan, inplace=True)\n",
    "\n"
   ]
  },
  {
   "cell_type": "code",
   "execution_count": 34,
   "metadata": {},
   "outputs": [
    {
     "data": {
      "text/plain": [
       "array(['All Grain', 'BIAB', nan, 'extract', 'Partial Mash',\n",
       "       'Specific Gravity', 'Plato'], dtype=object)"
      ]
     },
     "execution_count": 34,
     "metadata": {},
     "output_type": "execute_result"
    }
   ],
   "source": [
    "(data_raw['BrewMethod'].unique())"
   ]
  },
  {
   "cell_type": "code",
   "execution_count": 35,
   "metadata": {},
   "outputs": [],
   "source": [
    "data_raw['Style'].replace('/homebrew/recipe/view/249256/black-ipa-an-ode-to-vegard', np.nan, inplace=True)\n",
    "data_raw['Style'].replace('/homebrew/recipe/view/354071/summer-s-w-h-eat-', np.nan, inplace=True)\n",
    "data_raw['Style'].replace('/homebrew/recipe/view/297910/doonkel-', np.nan, inplace=True)\n",
    "data_raw['Style'].replace('/homebrew/recipe/view/435411/dipa-mango-smoothie', np.nan, inplace=True)\n",
    "data_raw['Style'].replace('/homebrew/recipe/view/257731/blond-ale-call-me', np.nan, inplace=True)\n",
    "data_raw['Style'].replace('/homebrew/recipe/view/476147/-', np.nan, inplace=True)\n",
    "data_raw['Style'].replace('/homebrew/recipe/view/476147/-', np.nan, inplace=True)\n",
    "data_raw['Style'].replace('856842215413', np.nan, inplace=True)\n",
    "data_raw['Style'].replace('-354128741541', np.nan, inplace=True)\n",
    "data_raw['Style'].replace('4566543', np.nan, inplace=True)"
   ]
  },
  {
   "cell_type": "code",
   "execution_count": 36,
   "metadata": {},
   "outputs": [
    {
     "data": {
      "text/plain": [
       "array(['Double IPA', 'Berliner Weisse', 'American Pale Ale',\n",
       "       'English IPA', 'English Porter', 'California Common Beer',\n",
       "       'Weizenbock', 'Specialty IPA: Belgian IPA', 'American IPA',\n",
       "       'Imperial IPA', nan, 'Blonde Ale', 'American Amber Ale', 'K�lsch',\n",
       "       'Dry Mead', 'Extra Special/Strong Bitter (ESB)', 'Dark Mild',\n",
       "       'American Light Lager', 'American Stout', 'Saison',\n",
       "       'Holiday/Winter Special Spiced Beer', 'Belgian Blond Ale',\n",
       "       'Oud Bruin', 'Belgian Dubbel', 'Witbier', 'American Porter',\n",
       "       'Belgian Tripel', 'Weizen/Weissbier', 'Flanders Red Ale',\n",
       "       'American Brown Ale', 'Weissbier', 'Foreign Extra Stout',\n",
       "       'Other Fruit Melomel', 'Sweet Mead', 'English Barleywine',\n",
       "       'Irish Stout', 'London Brown Ale', 'Mild', 'Vienna Lager',\n",
       "       'Best Bitter', 'Cream Ale', 'Spice  Herb  or Vegetable Beer',\n",
       "       'Specialty IPA: Rye IPA', 'Robust Porter', 'British Golden Ale',\n",
       "       'Baltic Porter', 'German Pils', 'Northern English Brown',\n",
       "       'Munich Dunkel', 'Russian Imperial Stout', 'Munich Helles',\n",
       "       'Belgian Dark Strong Ale', 'Brown Porter', 'Imperial Stout',\n",
       "       'Irish Red Ale', 'Dunkles Weissbier', 'Strong Scotch Ale',\n",
       "       'Sweet Stout', 'Common Cider', 'Doppelbock', 'Dry Stout',\n",
       "       'Scottish Export 80/-', 'Wheatwine', 'Scottish Heavy 70/-',\n",
       "       'Specialty IPA: Black IPA', 'Light American Lager',\n",
       "       'Oatmeal Stout', 'Specialty IPA: Brown IPA', 'Lambic',\n",
       "       'American Wheat or Rye Beer', 'Specialty Beer',\n",
       "       'Pre-Prohibition Lager', 'Bohemian Pilsener',\n",
       "       'American Barleywine', 'Standard/Ordinary Bitter',\n",
       "       'British Strong Ale', 'Scottish Light', 'Belgian Specialty Ale',\n",
       "       'M�rzen', 'German Pilsner (Pils)', 'American Lager',\n",
       "       'British Brown Ale', 'Dunkles Bock', 'German Leichtbier',\n",
       "       'Maibock/Helles Bock', 'Czech Premium Pale Lager',\n",
       "       'Belgian Golden Strong Ale', 'Specialty IPA: Red IPA',\n",
       "       'Czech Pale Lager', 'Old Ale', 'Special/Best/Premium Bitter',\n",
       "       'Flanders Brown Ale/Oud Bruin', 'American Wheat Beer',\n",
       "       'Strong Bitter', 'Classic American Pilsner', 'Belgian Pale Ale',\n",
       "       'Dusseldorf Altbier', 'German Helles Exportbier',\n",
       "       'Irish Extra Stout', 'Oktoberfest/M�rzen', 'Ordinary Bitter',\n",
       "       'Scottish Heavy', 'Wee Heavy', 'North German Altbier',\n",
       "       'Mixed-Fermentation Sour Beer', 'Trappist Single', 'Clone Beer',\n",
       "       'International Pale Lager', 'Experimental Beer',\n",
       "       'Specialty IPA: White IPA', 'Altbier', 'Tropical Stout',\n",
       "       'Fruit and Spice Beer', 'Straight (Unblended) Lambic',\n",
       "       'Kentucky Common', 'Gueuze', 'Festbier', 'Gose',\n",
       "       'California Common', 'Semi-Sweet Mead', 'Fruit Beer',\n",
       "       'Scottish Export', 'Mixed-Style Beer', 'Bi�re de Garde',\n",
       "       'International Dark Lager', 'Braggot', 'Wood-Aged Beer',\n",
       "       'Specialty Fruit Beer', 'Rauchbier', 'Cyser (Apple Melomel)',\n",
       "       'Southern English Brown', 'Fruit Lambic', 'American Strong Ale',\n",
       "       'Dunkelweizen', 'Roggenbier (German Rye Beer)',\n",
       "       'Autumn Seasonal Beer', 'Australian Sparkling Ale',\n",
       "       'Classic Rauchbier', 'Classic Style Smoked Beer',\n",
       "       'Czech Dark Lager', 'Premium American Lager',\n",
       "       'Specialty Smoked Beer', 'Dark American Lager', 'Schwarzbier',\n",
       "       'Traditional Bock', 'Other Smoked Beer', 'Standard American Lager',\n",
       "       'Helles Bock', 'Brett Beer', 'Wild Specialty Beer',\n",
       "       'English Cider', 'International Amber Lager', 'Roggenbier',\n",
       "       'Dortmunder Export', 'Kellerbier: Pale Kellerbier',\n",
       "       'Winter Seasonal Beer', 'Pre-Prohibition Porter', 'Fruit Cider',\n",
       "       'Specialty Wood-Aged Beer', 'Scottish Light 60/-',\n",
       "       'Other Specialty Cider or Perry', 'Kellerbier: Amber Kellerbier',\n",
       "       'Alternative Grain Beer', 'New England Cider', 'Lichtenhainer',\n",
       "       'Sahti', 'Piwo Grodziskie', 'Alternative Sugar Beer',\n",
       "       'Open Category Mead', 'Apple Wine', 'Metheglin',\n",
       "       'Czech Amber Lager', 'Eisbock', 'French Cider',\n",
       "       'Pyment (Grape Melomel)', 'Traditional Perry',\n",
       "       'Imperial Nut Brown Maple Chai', 'Maple Brown Ale',\n",
       "       'Tempe Closet Oatmeal Milk Brown'], dtype=object)"
      ]
     },
     "execution_count": 36,
     "metadata": {},
     "output_type": "execute_result"
    }
   ],
   "source": [
    "(data_raw['Style'].unique())"
   ]
  },
  {
   "cell_type": "code",
   "execution_count": 37,
   "metadata": {},
   "outputs": [],
   "source": [
    "data_raw['Style'] = data_raw['Style'].astype('category')\n",
    "\n",
    "data_raw['BrewMethod'] = data_raw['BrewMethod'].astype('category')"
   ]
  },
  {
   "cell_type": "code",
   "execution_count": 38,
   "metadata": {},
   "outputs": [],
   "source": [
    "data_raw = data_raw.dropna()"
   ]
  },
  {
   "cell_type": "code",
   "execution_count": 39,
   "metadata": {},
   "outputs": [
    {
     "data": {
      "text/plain": [
       "111378"
      ]
     },
     "execution_count": 39,
     "metadata": {},
     "output_type": "execute_result"
    }
   ],
   "source": [
    "len(data_raw)"
   ]
  },
  {
   "cell_type": "code",
   "execution_count": 40,
   "metadata": {},
   "outputs": [],
   "source": [
    "label = {'Style'}\n",
    "columns_set = set(data_raw.columns.values)\n",
    "x = data_raw[list(columns_set-label)]\n",
    "y = data_raw[list(label)]\n",
    "X_train, X_test, y_train, y_test = train_test_split(x, y, test_size=0.3, random_state=0)"
   ]
  },
  {
   "cell_type": "code",
   "execution_count": 41,
   "metadata": {},
   "outputs": [],
   "source": [
    "data_train = pd.concat([X_train, y_train], axis=1)\n",
    "data_test = pd.concat([X_test, y_test], axis=1)"
   ]
  },
  {
   "cell_type": "code",
   "execution_count": 42,
   "metadata": {},
   "outputs": [
    {
     "data": {
      "text/plain": [
       "True"
      ]
     },
     "execution_count": 42,
     "metadata": {},
     "output_type": "execute_result"
    }
   ],
   "source": [
    "len(data_test) + len(data_train) == len(data_raw)"
   ]
  },
  {
   "cell_type": "code",
   "execution_count": 43,
   "metadata": {},
   "outputs": [],
   "source": [
    "data_train.to_parquet('../data/interim/data_train.parquet', index=False)\n",
    "data_test.to_parquet('../data/interim/data_test.parquet', index=False)"
   ]
  }
 ],
 "metadata": {
  "colab": {
   "collapsed_sections": [
    "mXQHmtMbHJoh",
    "3aVUkwJVHJom",
    "9SfZHh6oHJor",
    "1S_iRK8rHJo0",
    "Ey5Lk8evHJo3",
    "0Y0UV-GVHJo6",
    "he4lxsEUHJpM",
    "h0FKIrJHHJpO",
    "jYPdefrhHJpS",
    "zUundEM6HJpT",
    "2GNrgJzHHJpW",
    "uRwep7LjHJpZ",
    "JCcM4XFbHJpd"
   ],
   "name": "Trabajo_Preparacion_Datos_JoseR_Zapata.ipynb",
   "provenance": []
  },
  "kernelspec": {
   "display_name": "Python 3.10.7 64-bit (microsoft store)",
   "language": "python",
   "name": "python3"
  },
  "language_info": {
   "codemirror_mode": {
    "name": "ipython",
    "version": 3
   },
   "file_extension": ".py",
   "mimetype": "text/x-python",
   "name": "python",
   "nbconvert_exporter": "python",
   "pygments_lexer": "ipython3",
   "version": "3.10.7"
  },
  "nbTranslate": {
   "displayLangs": [
    "es",
    "en"
   ],
   "hotkey": "alt-t",
   "langInMainMenu": true,
   "sourceLang": "en",
   "targetLang": "es",
   "useGoogleTranslate": true
  },
  "toc": {
   "base_numbering": 1,
   "nav_menu": {},
   "number_sections": true,
   "sideBar": true,
   "skip_h1_title": false,
   "title_cell": "Contenido",
   "title_sidebar": "Contenido",
   "toc_cell": true,
   "toc_position": {},
   "toc_section_display": true,
   "toc_window_display": false
  },
  "varInspector": {
   "cols": {
    "lenName": 16,
    "lenType": 16,
    "lenVar": 40
   },
   "kernels_config": {
    "python": {
     "delete_cmd_postfix": "",
     "delete_cmd_prefix": "del ",
     "library": "var_list.py",
     "varRefreshCmd": "print(var_dic_list())"
    },
    "r": {
     "delete_cmd_postfix": ") ",
     "delete_cmd_prefix": "rm(",
     "library": "var_list.r",
     "varRefreshCmd": "cat(var_dic_list()) "
    }
   },
   "types_to_exclude": [
    "module",
    "function",
    "builtin_function_or_method",
    "instance",
    "_Feature"
   ],
   "window_display": false
  },
  "vscode": {
   "interpreter": {
    "hash": "3d0f526a75e70fa7259b5e36ab5fdbb650e38bac3f52c949b957a12e00162b0e"
   }
  }
 },
 "nbformat": 4,
 "nbformat_minor": 4
}
