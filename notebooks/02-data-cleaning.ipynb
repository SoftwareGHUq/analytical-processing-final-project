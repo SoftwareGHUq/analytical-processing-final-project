{
 "cells": [
  {
   "cell_type": "markdown",
   "metadata": {
    "colab_type": "text",
    "id": "MjPWhesSHJoO"
   },
   "source": [
    "# Import Libraries"
   ]
  },
  {
   "cell_type": "code",
   "execution_count": 1,
   "metadata": {
    "colab": {},
    "colab_type": "code",
    "id": "ksQYJRZTHJoP"
   },
   "outputs": [],
   "source": [
    "import pandas as pd \n",
    "pd.options.plotting.backend = \"plotly\"\n",
    "import numpy as np"
   ]
  },
  {
   "cell_type": "markdown",
   "metadata": {
    "colab_type": "text",
    "id": "LM4dC7lBHJoT"
   },
   "source": [
    "# Load Datasets"
   ]
  },
  {
   "cell_type": "code",
   "execution_count": 2,
   "metadata": {
    "colab": {},
    "colab_type": "code",
    "id": "R2C-zrtBHJoT"
   },
   "outputs": [],
   "source": [
    "data_raw = pd.read_parquet(\"../data/interim/beer_general_data_clean.parquet\")"
   ]
  },
  {
   "cell_type": "code",
   "execution_count": 12,
   "metadata": {},
   "outputs": [
    {
     "name": "stdout",
     "output_type": "stream",
     "text": [
      "OG = 10.252025346184277\n",
      "Efficiency = 10.361700720756465\n",
      "SugarScale = 10.305152918482237\n",
      "StyleID = 10.278475124667382\n",
      "Size(L) = 10.228539767013935\n",
      "BoilGravity = 13.765969623797506\n",
      "BoilTime = 10.308801163790253\n",
      "FG = 10.30788910246325\n",
      "PrimaryTemp = 35.635604138022245\n",
      "Style = 10.876559339850012\n",
      "Color = 10.32088597637305\n",
      "Name = 10.298996504524965\n",
      "IBU = 10.279159170662636\n",
      "BrewMethod = 10.241992671587237\n",
      "BeerID = 10.228995797677436\n",
      "ABV = 10.286911691942166\n"
     ]
    }
   ],
   "source": [
    "for column in data_raw:\n",
    "    print(f'{column} = {(data_raw[column].isnull().sum()/len(data_raw))*100}')"
   ]
  },
  {
   "cell_type": "markdown",
   "metadata": {
    "colab_type": "text",
    "id": "5gnmm4vdHJoV"
   },
   "source": [
    "# Description and Data Cleaning"
   ]
  },
  {
   "cell_type": "markdown",
   "metadata": {
    "colab_type": "text",
    "id": "AFSKQY4Amzwv"
   },
   "source": [
    "## Variable definitions\n",
    "- Input/Output variables\n",
    "- Variable Types (Categorical or Numeric)\n",
    "- Data Types (int, float, string, factor, boolean, ...)"
   ]
  },
  {
   "cell_type": "markdown",
   "metadata": {},
   "source": [
    "|Feature Name| Type | Description and values | % Missing\n",
    "|--|--|--|--|\n",
    "| BeerID | Number | The Record Id |  10.22%\n",
    "| Name | Categorical (nominal) | The beer name | 10.30% \n",
    "| StyleID | Number | The Numeric ID for type of brew | 10.28% \n",
    "| Size(L)| Number | Amount brewed for recipe listed | 10.23% \n",
    "| OG | Number | Specific gravity of wort before fermentation | 10.25% \n",
    "| FG | Number (nominal) | Specific gravity of wort after fermentation | 10.30% \n",
    "| ABV | Number | Alcohol By Volume | 10.29% \n",
    "| IBU | Number | International Bittering Units | 10.28% \n",
    "| Color | Number | Standard Reference Method - light to dark ex. 40 = black-  | 10.32% \n",
    "| BoilTime | Number | Time wort is boiled | 10.38% \n",
    "| BoilGravity | Number | Specific gravity of wort before the boil | 13.76% \n",
    "| Efficiency | Number | Beer mash extraction efficiency - extracting sugars from the grain during mash | 10.36% \n",
    "| SugarScale | Categorical (nominal) | Scale to determine the concentration of dissolved solids in wort | 10.30%\n",
    "| BrewMethod | Categorical (nominal) | Various techniques for brewing | 10.24% \n",
    "| PrimaryTemp | Number | Temperature at the fermenting stage | 35.63% \n",
    "| Style| Categorical (nominal) | The type of brew | 10.87% \n",
    "\n"
   ]
  },
  {
   "cell_type": "code",
   "execution_count": 5,
   "metadata": {},
   "outputs": [
    {
     "data": {
      "text/html": [
       "<div>\n",
       "<style scoped>\n",
       "    .dataframe tbody tr th:only-of-type {\n",
       "        vertical-align: middle;\n",
       "    }\n",
       "\n",
       "    .dataframe tbody tr th {\n",
       "        vertical-align: top;\n",
       "    }\n",
       "\n",
       "    .dataframe thead th {\n",
       "        text-align: right;\n",
       "    }\n",
       "</style>\n",
       "<table border=\"1\" class=\"dataframe\">\n",
       "  <thead>\n",
       "    <tr style=\"text-align: right;\">\n",
       "      <th></th>\n",
       "      <th>OG</th>\n",
       "      <th>Efficiency</th>\n",
       "      <th>SugarScale</th>\n",
       "      <th>StyleID</th>\n",
       "      <th>Size(L)</th>\n",
       "      <th>BoilGravity</th>\n",
       "      <th>BoilTime</th>\n",
       "      <th>FG</th>\n",
       "      <th>PrimaryTemp</th>\n",
       "      <th>Style</th>\n",
       "      <th>Color</th>\n",
       "      <th>Name</th>\n",
       "      <th>IBU</th>\n",
       "      <th>BrewMethod</th>\n",
       "      <th>BeerID</th>\n",
       "      <th>ABV</th>\n",
       "    </tr>\n",
       "  </thead>\n",
       "  <tbody>\n",
       "    <tr>\n",
       "      <th>104009</th>\n",
       "      <td>1063.0</td>\n",
       "      <td>70</td>\n",
       "      <td>Specific Gravity</td>\n",
       "      <td>7</td>\n",
       "      <td>20.82</td>\n",
       "      <td>1053</td>\n",
       "      <td>60</td>\n",
       "      <td>1012.0</td>\n",
       "      <td>21.11</td>\n",
       "      <td>American IPA</td>\n",
       "      <td>6.66</td>\n",
       "      <td>BIAB IPA</td>\n",
       "      <td>73.8</td>\n",
       "      <td>BIAB</td>\n",
       "      <td>66796.0</td>\n",
       "      <td>6.65</td>\n",
       "    </tr>\n",
       "    <tr>\n",
       "      <th>30981</th>\n",
       "      <td>1063.0</td>\n",
       "      <td>75.0</td>\n",
       "      <td>Specific Gravity</td>\n",
       "      <td>7</td>\n",
       "      <td>37.85</td>\n",
       "      <td>1053.0</td>\n",
       "      <td>60.0</td>\n",
       "      <td>1013.0</td>\n",
       "      <td>21.11</td>\n",
       "      <td>American IPA</td>\n",
       "      <td>856842215413</td>\n",
       "      <td>856842215413</td>\n",
       "      <td>72.51</td>\n",
       "      <td>All Grain</td>\n",
       "      <td>46968.0</td>\n",
       "      <td>856842215413</td>\n",
       "    </tr>\n",
       "    <tr>\n",
       "      <th>409160</th>\n",
       "      <td>1043.0</td>\n",
       "      <td>70</td>\n",
       "      <td>Specific Gravity</td>\n",
       "      <td>10</td>\n",
       "      <td>10.0</td>\n",
       "      <td>1023</td>\n",
       "      <td>70</td>\n",
       "      <td>None</td>\n",
       "      <td>20.0</td>\n",
       "      <td>American Pale Ale</td>\n",
       "      <td>6.87</td>\n",
       "      <td>Oatmeal Pale Ale</td>\n",
       "      <td>25.08</td>\n",
       "      <td>None</td>\n",
       "      <td>72891.0</td>\n",
       "      <td>None</td>\n",
       "    </tr>\n",
       "    <tr>\n",
       "      <th>29743</th>\n",
       "      <td>1048.0</td>\n",
       "      <td>70.0</td>\n",
       "      <td>None</td>\n",
       "      <td>6</td>\n",
       "      <td>28.0</td>\n",
       "      <td>1044.0</td>\n",
       "      <td>60.0</td>\n",
       "      <td>None</td>\n",
       "      <td>21.0</td>\n",
       "      <td>None</td>\n",
       "      <td>21.59</td>\n",
       "      <td>On the Way Out</td>\n",
       "      <td>29.26</td>\n",
       "      <td>All Grain</td>\n",
       "      <td>59329.0</td>\n",
       "      <td>4.73</td>\n",
       "    </tr>\n",
       "    <tr>\n",
       "      <th>317286</th>\n",
       "      <td>1075</td>\n",
       "      <td>70.0</td>\n",
       "      <td>Specific Gravity</td>\n",
       "      <td>56</td>\n",
       "      <td>20.82</td>\n",
       "      <td>1064</td>\n",
       "      <td>60</td>\n",
       "      <td>1012.0</td>\n",
       "      <td>None</td>\n",
       "      <td>Double IPA</td>\n",
       "      <td>4.39</td>\n",
       "      <td>Cashmere DIPA</td>\n",
       "      <td>62.63</td>\n",
       "      <td>All Grain</td>\n",
       "      <td>31257.0</td>\n",
       "      <td>8.31</td>\n",
       "    </tr>\n",
       "    <tr>\n",
       "      <th>149860</th>\n",
       "      <td>None</td>\n",
       "      <td>65</td>\n",
       "      <td>None</td>\n",
       "      <td>9</td>\n",
       "      <td>57.0</td>\n",
       "      <td>None</td>\n",
       "      <td>60</td>\n",
       "      <td>1.01</td>\n",
       "      <td>None</td>\n",
       "      <td>American Light Lager</td>\n",
       "      <td>3.65</td>\n",
       "      <td>Awesome Recipe</td>\n",
       "      <td>None</td>\n",
       "      <td>All Grain</td>\n",
       "      <td>66367.0</td>\n",
       "      <td>None</td>\n",
       "    </tr>\n",
       "    <tr>\n",
       "      <th>249239</th>\n",
       "      <td>1061</td>\n",
       "      <td>70.0</td>\n",
       "      <td>Specific Gravity</td>\n",
       "      <td>7</td>\n",
       "      <td>39.75</td>\n",
       "      <td>None</td>\n",
       "      <td>60</td>\n",
       "      <td>1017.0</td>\n",
       "      <td>None</td>\n",
       "      <td>American IPA</td>\n",
       "      <td>9.67</td>\n",
       "      <td>Olympic  Tower Bridge  IPA  Pepper with New ...</td>\n",
       "      <td>180.42</td>\n",
       "      <td>All Grain</td>\n",
       "      <td>3895.0</td>\n",
       "      <td>5.8</td>\n",
       "    </tr>\n",
       "    <tr>\n",
       "      <th>309512</th>\n",
       "      <td>1059</td>\n",
       "      <td>70.0</td>\n",
       "      <td>Specific Gravity</td>\n",
       "      <td>10</td>\n",
       "      <td>20.82</td>\n",
       "      <td>1043</td>\n",
       "      <td>75</td>\n",
       "      <td>1012.0</td>\n",
       "      <td>20.0</td>\n",
       "      <td>American Pale Ale</td>\n",
       "      <td>7.69</td>\n",
       "      <td>Pittsburgh P.A.</td>\n",
       "      <td>29.77</td>\n",
       "      <td>All Grain</td>\n",
       "      <td>14167.0</td>\n",
       "      <td>6.09</td>\n",
       "    </tr>\n",
       "    <tr>\n",
       "      <th>25959</th>\n",
       "      <td>None</td>\n",
       "      <td>35.0</td>\n",
       "      <td>Specific Gravity</td>\n",
       "      <td>169</td>\n",
       "      <td>None</td>\n",
       "      <td>1109.0</td>\n",
       "      <td>60.0</td>\n",
       "      <td>1009.0</td>\n",
       "      <td>None</td>\n",
       "      <td>Weissbier</td>\n",
       "      <td>4.49</td>\n",
       "      <td>Lemon Coriander Weiss</td>\n",
       "      <td>13.3</td>\n",
       "      <td>extract</td>\n",
       "      <td>32817.0</td>\n",
       "      <td>7.37</td>\n",
       "    </tr>\n",
       "    <tr>\n",
       "      <th>397483</th>\n",
       "      <td>1052.0</td>\n",
       "      <td>70.0</td>\n",
       "      <td>None</td>\n",
       "      <td>165</td>\n",
       "      <td>None</td>\n",
       "      <td>1048.0</td>\n",
       "      <td>60.0</td>\n",
       "      <td>1012.0</td>\n",
       "      <td>18.33</td>\n",
       "      <td>Trappist Single</td>\n",
       "      <td>3.31</td>\n",
       "      <td>Belgian Single</td>\n",
       "      <td>32.19</td>\n",
       "      <td>All Grain</td>\n",
       "      <td>None</td>\n",
       "      <td>5.26</td>\n",
       "    </tr>\n",
       "  </tbody>\n",
       "</table>\n",
       "</div>"
      ],
      "text/plain": [
       "            OG Efficiency        SugarScale StyleID Size(L) BoilGravity  \\\n",
       "104009  1063.0         70  Specific Gravity       7   20.82        1053   \n",
       "30981   1063.0       75.0  Specific Gravity       7   37.85      1053.0   \n",
       "409160  1043.0         70  Specific Gravity      10    10.0        1023   \n",
       "29743   1048.0       70.0              None       6    28.0      1044.0   \n",
       "317286    1075       70.0  Specific Gravity      56   20.82        1064   \n",
       "149860    None         65              None       9    57.0        None   \n",
       "249239    1061       70.0  Specific Gravity       7   39.75        None   \n",
       "309512    1059       70.0  Specific Gravity      10   20.82        1043   \n",
       "25959     None       35.0  Specific Gravity     169    None      1109.0   \n",
       "397483  1052.0       70.0              None     165    None      1048.0   \n",
       "\n",
       "       BoilTime      FG PrimaryTemp                 Style         Color  \\\n",
       "104009       60  1012.0       21.11          American IPA          6.66   \n",
       "30981      60.0  1013.0       21.11          American IPA  856842215413   \n",
       "409160       70    None        20.0     American Pale Ale          6.87   \n",
       "29743      60.0    None        21.0                  None         21.59   \n",
       "317286       60  1012.0        None            Double IPA          4.39   \n",
       "149860       60    1.01        None  American Light Lager          3.65   \n",
       "249239       60  1017.0        None          American IPA          9.67   \n",
       "309512       75  1012.0        20.0     American Pale Ale          7.69   \n",
       "25959      60.0  1009.0        None             Weissbier          4.49   \n",
       "397483     60.0  1012.0       18.33       Trappist Single          3.31   \n",
       "\n",
       "                                                   Name     IBU BrewMethod  \\\n",
       "104009                                         BIAB IPA    73.8       BIAB   \n",
       "30981                                      856842215413   72.51  All Grain   \n",
       "409160                                 Oatmeal Pale Ale   25.08       None   \n",
       "29743                                    On the Way Out   29.26  All Grain   \n",
       "317286                                    Cashmere DIPA   62.63  All Grain   \n",
       "149860                                   Awesome Recipe    None  All Grain   \n",
       "249239  Olympic  Tower Bridge  IPA  Pepper with New ...  180.42  All Grain   \n",
       "309512                                  Pittsburgh P.A.   29.77  All Grain   \n",
       "25959                             Lemon Coriander Weiss    13.3    extract   \n",
       "397483                                   Belgian Single   32.19  All Grain   \n",
       "\n",
       "         BeerID           ABV  \n",
       "104009  66796.0          6.65  \n",
       "30981   46968.0  856842215413  \n",
       "409160  72891.0          None  \n",
       "29743   59329.0          4.73  \n",
       "317286  31257.0          8.31  \n",
       "149860  66367.0          None  \n",
       "249239   3895.0           5.8  \n",
       "309512  14167.0          6.09  \n",
       "25959   32817.0          7.37  \n",
       "397483     None          5.26  "
      ]
     },
     "execution_count": 5,
     "metadata": {},
     "output_type": "execute_result"
    }
   ],
   "source": [
    "data_raw.sample(10)"
   ]
  },
  {
   "cell_type": "code",
   "execution_count": 3,
   "metadata": {
    "colab": {},
    "colab_type": "code",
    "id": "ZYzna68bHJoW"
   },
   "outputs": [
    {
     "name": "stdout",
     "output_type": "stream",
     "text": [
      "<class 'pandas.core.frame.DataFrame'>\n",
      "RangeIndex: 438567 entries, 0 to 438566\n",
      "Data columns (total 16 columns):\n",
      " #   Column       Non-Null Count   Dtype \n",
      "---  ------       --------------   ----- \n",
      " 0   OG           393605 non-null  object\n",
      " 1   Efficiency   393124 non-null  object\n",
      " 2   SugarScale   393372 non-null  object\n",
      " 3   StyleID      393489 non-null  object\n",
      " 4   Size(L)      393708 non-null  object\n",
      " 5   BoilGravity  378194 non-null  object\n",
      " 6   BoilTime     393356 non-null  object\n",
      " 7   FG           393360 non-null  object\n",
      " 8   PrimaryTemp  282281 non-null  object\n",
      " 9   Style        390866 non-null  object\n",
      " 10  Color        393303 non-null  object\n",
      " 11  Name         393399 non-null  object\n",
      " 12  IBU          393486 non-null  object\n",
      " 13  BrewMethod   393649 non-null  object\n",
      " 14  BeerID       393706 non-null  object\n",
      " 15  ABV          393452 non-null  object\n",
      "dtypes: object(16)\n",
      "memory usage: 53.5+ MB\n"
     ]
    }
   ],
   "source": [
    "data_raw.info()"
   ]
  },
  {
   "cell_type": "markdown",
   "metadata": {},
   "source": [
    "Null Values"
   ]
  },
  {
   "cell_type": "code",
   "execution_count": 4,
   "metadata": {},
   "outputs": [
    {
     "data": {
      "text/plain": [
       "OG              44962\n",
       "Efficiency      45443\n",
       "SugarScale      45195\n",
       "StyleID         45078\n",
       "Size(L)         44859\n",
       "BoilGravity     60373\n",
       "BoilTime        45211\n",
       "FG              45207\n",
       "PrimaryTemp    156286\n",
       "Style           47701\n",
       "Color           45264\n",
       "Name            45168\n",
       "IBU             45081\n",
       "BrewMethod      44918\n",
       "BeerID          44861\n",
       "ABV             45115\n",
       "dtype: int64"
      ]
     },
     "execution_count": 4,
     "metadata": {},
     "output_type": "execute_result"
    }
   ],
   "source": [
    "data_raw.isnull().sum()"
   ]
  }
 ],
 "metadata": {
  "colab": {
   "collapsed_sections": [
    "mXQHmtMbHJoh",
    "3aVUkwJVHJom",
    "9SfZHh6oHJor",
    "1S_iRK8rHJo0",
    "Ey5Lk8evHJo3",
    "0Y0UV-GVHJo6",
    "he4lxsEUHJpM",
    "h0FKIrJHHJpO",
    "jYPdefrhHJpS",
    "zUundEM6HJpT",
    "2GNrgJzHHJpW",
    "uRwep7LjHJpZ",
    "JCcM4XFbHJpd"
   ],
   "name": "Trabajo_Preparacion_Datos_JoseR_Zapata.ipynb",
   "provenance": []
  },
  "kernelspec": {
   "display_name": "Python 3.10.6 64-bit",
   "language": "python",
   "name": "python3"
  },
  "language_info": {
   "codemirror_mode": {
    "name": "ipython",
    "version": 3
   },
   "file_extension": ".py",
   "mimetype": "text/x-python",
   "name": "python",
   "nbconvert_exporter": "python",
   "pygments_lexer": "ipython3",
   "version": "3.10.6"
  },
  "nbTranslate": {
   "displayLangs": [
    "es",
    "en"
   ],
   "hotkey": "alt-t",
   "langInMainMenu": true,
   "sourceLang": "en",
   "targetLang": "es",
   "useGoogleTranslate": true
  },
  "toc": {
   "base_numbering": 1,
   "nav_menu": {},
   "number_sections": true,
   "sideBar": true,
   "skip_h1_title": false,
   "title_cell": "Contenido",
   "title_sidebar": "Contenido",
   "toc_cell": true,
   "toc_position": {},
   "toc_section_display": true,
   "toc_window_display": false
  },
  "varInspector": {
   "cols": {
    "lenName": 16,
    "lenType": 16,
    "lenVar": 40
   },
   "kernels_config": {
    "python": {
     "delete_cmd_postfix": "",
     "delete_cmd_prefix": "del ",
     "library": "var_list.py",
     "varRefreshCmd": "print(var_dic_list())"
    },
    "r": {
     "delete_cmd_postfix": ") ",
     "delete_cmd_prefix": "rm(",
     "library": "var_list.r",
     "varRefreshCmd": "cat(var_dic_list()) "
    }
   },
   "types_to_exclude": [
    "module",
    "function",
    "builtin_function_or_method",
    "instance",
    "_Feature"
   ],
   "window_display": false
  },
  "vscode": {
   "interpreter": {
    "hash": "110fe3fb9777db4ce1f884af3cc527a40b2c98427ad17781c021ef692bd3d28d"
   }
  }
 },
 "nbformat": 4,
 "nbformat_minor": 4
}
