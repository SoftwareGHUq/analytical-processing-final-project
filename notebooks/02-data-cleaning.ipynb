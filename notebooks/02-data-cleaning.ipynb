{
 "cells": [
  {
   "cell_type": "markdown",
   "metadata": {
    "colab_type": "text",
    "id": "MjPWhesSHJoO"
   },
   "source": [
    "# Import Libraries"
   ]
  },
  {
   "cell_type": "code",
   "execution_count": 43,
   "metadata": {
    "colab": {},
    "colab_type": "code",
    "id": "ksQYJRZTHJoP"
   },
   "outputs": [],
   "source": [
    "import pandas as pd \n",
    "pd.options.plotting.backend = \"plotly\"\n",
    "import numpy as np\n",
    "import plotly.express as px"
   ]
  },
  {
   "cell_type": "markdown",
   "metadata": {
    "colab_type": "text",
    "id": "LM4dC7lBHJoT"
   },
   "source": [
    "# Load Datasets"
   ]
  },
  {
   "cell_type": "code",
   "execution_count": 36,
   "metadata": {
    "colab": {},
    "colab_type": "code",
    "id": "R2C-zrtBHJoT"
   },
   "outputs": [],
   "source": [
    "data_train = pd.read_parquet(\"../data/interim/data_train.parquet\")"
   ]
  },
  {
   "cell_type": "code",
   "execution_count": 37,
   "metadata": {},
   "outputs": [
    {
     "name": "stdout",
     "output_type": "stream",
     "text": [
      "Efficiency = 10.354532306609858\n",
      "BoilTime = 10.328473335157462\n",
      "Color = 10.331404969445856\n",
      "BoilGravity = 13.758485452579187\n",
      "OG = 10.235638249358297\n",
      "Name = 10.364630158047662\n",
      "Size(L) = 10.216419757912156\n",
      "PrimaryTemp = 35.62098528971062\n",
      "BrewMethod = 10.279287026541063\n",
      "SugarScale = 10.315443849431263\n",
      "ABV = 10.310883529427093\n",
      "FG = 10.32261006658067\n",
      "IBU = 10.29622535798512\n",
      "Style = 10.893627278531316\n"
     ]
    }
   ],
   "source": [
    "for column in data_train:\n",
    "    print(f'{column} = {(data_train[column].isnull().sum()/len(data_train))*100}')"
   ]
  },
  {
   "cell_type": "markdown",
   "metadata": {
    "colab_type": "text",
    "id": "5gnmm4vdHJoV"
   },
   "source": [
    "# Description and Data Cleaning"
   ]
  },
  {
   "cell_type": "markdown",
   "metadata": {
    "colab_type": "text",
    "id": "AFSKQY4Amzwv"
   },
   "source": [
    "## Variable definitions\n",
    "- Input/Output variables\n",
    "- Variable Types (Categorical or Numeric)\n",
    "- Data Types (int, float, string, factor, boolean, ...)"
   ]
  },
  {
   "cell_type": "markdown",
   "metadata": {},
   "source": [
    "|Feature Name| Type | Description and values | % Missing\n",
    "|--|--|--|--|\n",
    "| Name | Categorical (nominal) | The beer name | 10.30% \n",
    "| Size(L)| Number | Amount brewed for recipe listed | 10.23% \n",
    "| OG | Number | Specific gravity of wort before fermentation | 10.25% \n",
    "| FG | Number (nominal) | Specific gravity of wort after fermentation | 10.30% \n",
    "| ABV | Number | Alcohol By Volume | 10.29% \n",
    "| IBU | Number | International Bittering Units | 10.28% \n",
    "| Color | Number | Standard Reference Method - light to dark ex. 40 = black-  | 10.32% \n",
    "| BoilTime | Number | Time wort is boiled | 10.38% \n",
    "| BoilGravity | Number | Specific gravity of wort before the boil | 13.76% \n",
    "| Efficiency | Number | Beer mash extraction efficiency - extracting sugars from the grain during mash | 10.36% \n",
    "| SugarScale | Categorical (nominal) | Scale to determine the concentration of dissolved solids in wort | 10.30%\n",
    "| BrewMethod | Categorical (nominal) | Various techniques for brewing | 10.24% \n",
    "| PrimaryTemp | Number | Temperature at the fermenting stage | 35.63% \n",
    "| Style| Categorical (nominal) | The type of brew | 10.87% \n",
    "\n"
   ]
  },
  {
   "cell_type": "code",
   "execution_count": 38,
   "metadata": {},
   "outputs": [
    {
     "data": {
      "text/html": [
       "<div>\n",
       "<style scoped>\n",
       "    .dataframe tbody tr th:only-of-type {\n",
       "        vertical-align: middle;\n",
       "    }\n",
       "\n",
       "    .dataframe tbody tr th {\n",
       "        vertical-align: top;\n",
       "    }\n",
       "\n",
       "    .dataframe thead th {\n",
       "        text-align: right;\n",
       "    }\n",
       "</style>\n",
       "<table border=\"1\" class=\"dataframe\">\n",
       "  <thead>\n",
       "    <tr style=\"text-align: right;\">\n",
       "      <th></th>\n",
       "      <th>Efficiency</th>\n",
       "      <th>BoilTime</th>\n",
       "      <th>Color</th>\n",
       "      <th>BoilGravity</th>\n",
       "      <th>OG</th>\n",
       "      <th>Name</th>\n",
       "      <th>Size(L)</th>\n",
       "      <th>PrimaryTemp</th>\n",
       "      <th>BrewMethod</th>\n",
       "      <th>SugarScale</th>\n",
       "      <th>ABV</th>\n",
       "      <th>FG</th>\n",
       "      <th>IBU</th>\n",
       "      <th>Style</th>\n",
       "    </tr>\n",
       "  </thead>\n",
       "  <tbody>\n",
       "    <tr>\n",
       "      <th>121785</th>\n",
       "      <td>75.0</td>\n",
       "      <td>6.000000e+01</td>\n",
       "      <td>2.878000e+01</td>\n",
       "      <td>1.066000e+03</td>\n",
       "      <td>1076.00</td>\n",
       "      <td>Cool Calm Peat</td>\n",
       "      <td>3.500000e+01</td>\n",
       "      <td>1.800000e+01</td>\n",
       "      <td>All Grain</td>\n",
       "      <td>Specific Gravity</td>\n",
       "      <td>8.568422e+11</td>\n",
       "      <td>1017.00</td>\n",
       "      <td>3.962000e+01</td>\n",
       "      <td>Baltic Porter</td>\n",
       "    </tr>\n",
       "    <tr>\n",
       "      <th>252861</th>\n",
       "      <td>65.0</td>\n",
       "      <td>6.000000e+01</td>\n",
       "      <td>5.670000e+00</td>\n",
       "      <td>NaN</td>\n",
       "      <td>1066.00</td>\n",
       "      <td>Bells two hearted ipa</td>\n",
       "      <td>4.542000e+01</td>\n",
       "      <td>1.889000e+01</td>\n",
       "      <td>BIAB</td>\n",
       "      <td>NaN</td>\n",
       "      <td>6.720000e+00</td>\n",
       "      <td>NaN</td>\n",
       "      <td>6.558000e+01</td>\n",
       "      <td>NaN</td>\n",
       "    </tr>\n",
       "    <tr>\n",
       "      <th>33041</th>\n",
       "      <td>75.0</td>\n",
       "      <td>9.000000e+01</td>\n",
       "      <td>NaN</td>\n",
       "      <td>1.055000e+03</td>\n",
       "      <td>NaN</td>\n",
       "      <td>NaN</td>\n",
       "      <td>5.680000e+00</td>\n",
       "      <td>NaN</td>\n",
       "      <td>NaN</td>\n",
       "      <td>Specific Gravity</td>\n",
       "      <td>1.013000e+01</td>\n",
       "      <td>NaN</td>\n",
       "      <td>5.966000e+01</td>\n",
       "      <td>Specialty IPA: Rye IPA</td>\n",
       "    </tr>\n",
       "    <tr>\n",
       "      <th>105331</th>\n",
       "      <td>35.0</td>\n",
       "      <td>-3.541287e+11</td>\n",
       "      <td>-3.541287e+11</td>\n",
       "      <td>1.120000e+00</td>\n",
       "      <td>1065.00</td>\n",
       "      <td>White Zombie</td>\n",
       "      <td>2.082000e+01</td>\n",
       "      <td>1.833000e+01</td>\n",
       "      <td>-354128741541</td>\n",
       "      <td>Specific Gravity</td>\n",
       "      <td>6.420000e+00</td>\n",
       "      <td>1016.00</td>\n",
       "      <td>3.862000e+01</td>\n",
       "      <td>Blonde Ale</td>\n",
       "    </tr>\n",
       "    <tr>\n",
       "      <th>203407</th>\n",
       "      <td>70.0</td>\n",
       "      <td>6.000000e+01</td>\n",
       "      <td>3.970000e+00</td>\n",
       "      <td>1.037000e+03</td>\n",
       "      <td>1046.00</td>\n",
       "      <td>Dirty Wheat Boy</td>\n",
       "      <td>2.271000e+01</td>\n",
       "      <td>2.000000e+01</td>\n",
       "      <td>All Grain</td>\n",
       "      <td>Specific Gravity</td>\n",
       "      <td>5.300000e+00</td>\n",
       "      <td>1005.00</td>\n",
       "      <td>1.523000e+01</td>\n",
       "      <td>American Wheat Beer</td>\n",
       "    </tr>\n",
       "    <tr>\n",
       "      <th>189174</th>\n",
       "      <td>70.0</td>\n",
       "      <td>7.500000e+01</td>\n",
       "      <td>1.398000e+01</td>\n",
       "      <td>1.044000e+03</td>\n",
       "      <td>1.06</td>\n",
       "      <td>M.I.A. Amber</td>\n",
       "      <td>2.082000e+01</td>\n",
       "      <td>1.833000e+01</td>\n",
       "      <td>All Grain</td>\n",
       "      <td>Specific Gravity</td>\n",
       "      <td>5.880000e+00</td>\n",
       "      <td>1015.00</td>\n",
       "      <td>2.759000e+01</td>\n",
       "      <td>NaN</td>\n",
       "    </tr>\n",
       "    <tr>\n",
       "      <th>292439</th>\n",
       "      <td>70.0</td>\n",
       "      <td>6.000000e+01</td>\n",
       "      <td>7.970000e+00</td>\n",
       "      <td>1.054000e+03</td>\n",
       "      <td>1066.00</td>\n",
       "      <td>Maybe Pale Ale</td>\n",
       "      <td>4.500000e+01</td>\n",
       "      <td>1.700000e+01</td>\n",
       "      <td>All Grain</td>\n",
       "      <td>Specific Gravity</td>\n",
       "      <td>6.020000e+00</td>\n",
       "      <td>1.02</td>\n",
       "      <td>3.983000e+01</td>\n",
       "      <td>American Pale Ale</td>\n",
       "    </tr>\n",
       "    <tr>\n",
       "      <th>175208</th>\n",
       "      <td>76.0</td>\n",
       "      <td>6.000000e+01</td>\n",
       "      <td>5.550000e+00</td>\n",
       "      <td>1.045000e+03</td>\n",
       "      <td>1055.00</td>\n",
       "      <td>Motueka S.M.A.S.H</td>\n",
       "      <td>2.150000e+01</td>\n",
       "      <td>-3.541287e+11</td>\n",
       "      <td>All Grain</td>\n",
       "      <td>Specific Gravity</td>\n",
       "      <td>5.730000e+00</td>\n",
       "      <td>1011.00</td>\n",
       "      <td>2.978000e+01</td>\n",
       "      <td>American Light Lager</td>\n",
       "    </tr>\n",
       "    <tr>\n",
       "      <th>295536</th>\n",
       "      <td>70.0</td>\n",
       "      <td>9.000000e+01</td>\n",
       "      <td>2.182000e+01</td>\n",
       "      <td>1.049000e+03</td>\n",
       "      <td>1075.00</td>\n",
       "      <td>Belgian dubbel</td>\n",
       "      <td>2.082000e+01</td>\n",
       "      <td>8.568422e+11</td>\n",
       "      <td>All Grain</td>\n",
       "      <td>Specific Gravity</td>\n",
       "      <td>7.430000e+00</td>\n",
       "      <td>1019.00</td>\n",
       "      <td>8.568422e+11</td>\n",
       "      <td>Belgian Dubbel</td>\n",
       "    </tr>\n",
       "    <tr>\n",
       "      <th>143662</th>\n",
       "      <td>72.0</td>\n",
       "      <td>6.000000e+01</td>\n",
       "      <td>2.896000e+01</td>\n",
       "      <td>-3.541287e+11</td>\n",
       "      <td>1093.00</td>\n",
       "      <td>Pukin pumpkin ale</td>\n",
       "      <td>-3.541287e+11</td>\n",
       "      <td>2.111000e+01</td>\n",
       "      <td>All Grain</td>\n",
       "      <td>Specific Gravity</td>\n",
       "      <td>8.740000e+00</td>\n",
       "      <td>1026.00</td>\n",
       "      <td>7.120000e+01</td>\n",
       "      <td>Specialty Beer</td>\n",
       "    </tr>\n",
       "  </tbody>\n",
       "</table>\n",
       "</div>"
      ],
      "text/plain": [
       "        Efficiency      BoilTime         Color   BoilGravity       OG  \\\n",
       "121785        75.0  6.000000e+01  2.878000e+01  1.066000e+03  1076.00   \n",
       "252861        65.0  6.000000e+01  5.670000e+00           NaN  1066.00   \n",
       "33041         75.0  9.000000e+01           NaN  1.055000e+03      NaN   \n",
       "105331        35.0 -3.541287e+11 -3.541287e+11  1.120000e+00  1065.00   \n",
       "203407        70.0  6.000000e+01  3.970000e+00  1.037000e+03  1046.00   \n",
       "189174        70.0  7.500000e+01  1.398000e+01  1.044000e+03     1.06   \n",
       "292439        70.0  6.000000e+01  7.970000e+00  1.054000e+03  1066.00   \n",
       "175208        76.0  6.000000e+01  5.550000e+00  1.045000e+03  1055.00   \n",
       "295536        70.0  9.000000e+01  2.182000e+01  1.049000e+03  1075.00   \n",
       "143662        72.0  6.000000e+01  2.896000e+01 -3.541287e+11  1093.00   \n",
       "\n",
       "                         Name       Size(L)   PrimaryTemp     BrewMethod  \\\n",
       "121785         Cool Calm Peat  3.500000e+01  1.800000e+01      All Grain   \n",
       "252861  Bells two hearted ipa  4.542000e+01  1.889000e+01           BIAB   \n",
       "33041                     NaN  5.680000e+00           NaN            NaN   \n",
       "105331           White Zombie  2.082000e+01  1.833000e+01  -354128741541   \n",
       "203407        Dirty Wheat Boy  2.271000e+01  2.000000e+01      All Grain   \n",
       "189174           M.I.A. Amber  2.082000e+01  1.833000e+01      All Grain   \n",
       "292439         Maybe Pale Ale  4.500000e+01  1.700000e+01      All Grain   \n",
       "175208      Motueka S.M.A.S.H  2.150000e+01 -3.541287e+11      All Grain   \n",
       "295536         Belgian dubbel  2.082000e+01  8.568422e+11      All Grain   \n",
       "143662      Pukin pumpkin ale -3.541287e+11  2.111000e+01      All Grain   \n",
       "\n",
       "              SugarScale           ABV       FG           IBU  \\\n",
       "121785  Specific Gravity  8.568422e+11  1017.00  3.962000e+01   \n",
       "252861               NaN  6.720000e+00      NaN  6.558000e+01   \n",
       "33041   Specific Gravity  1.013000e+01      NaN  5.966000e+01   \n",
       "105331  Specific Gravity  6.420000e+00  1016.00  3.862000e+01   \n",
       "203407  Specific Gravity  5.300000e+00  1005.00  1.523000e+01   \n",
       "189174  Specific Gravity  5.880000e+00  1015.00  2.759000e+01   \n",
       "292439  Specific Gravity  6.020000e+00     1.02  3.983000e+01   \n",
       "175208  Specific Gravity  5.730000e+00  1011.00  2.978000e+01   \n",
       "295536  Specific Gravity  7.430000e+00  1019.00  8.568422e+11   \n",
       "143662  Specific Gravity  8.740000e+00  1026.00  7.120000e+01   \n",
       "\n",
       "                         Style  \n",
       "121785           Baltic Porter  \n",
       "252861                     NaN  \n",
       "33041   Specialty IPA: Rye IPA  \n",
       "105331              Blonde Ale  \n",
       "203407     American Wheat Beer  \n",
       "189174                     NaN  \n",
       "292439       American Pale Ale  \n",
       "175208    American Light Lager  \n",
       "295536          Belgian Dubbel  \n",
       "143662          Specialty Beer  "
      ]
     },
     "execution_count": 38,
     "metadata": {},
     "output_type": "execute_result"
    }
   ],
   "source": [
    "data_train.sample(10)"
   ]
  },
  {
   "cell_type": "code",
   "execution_count": 39,
   "metadata": {
    "colab": {},
    "colab_type": "code",
    "id": "ZYzna68bHJoW"
   },
   "outputs": [
    {
     "name": "stdout",
     "output_type": "stream",
     "text": [
      "<class 'pandas.core.frame.DataFrame'>\n",
      "RangeIndex: 306996 entries, 0 to 306995\n",
      "Data columns (total 14 columns):\n",
      " #   Column       Non-Null Count   Dtype   \n",
      "---  ------       --------------   -----   \n",
      " 0   Efficiency   275208 non-null  float64 \n",
      " 1   BoilTime     275288 non-null  float64 \n",
      " 2   Color        275279 non-null  float64 \n",
      " 3   BoilGravity  264758 non-null  float64 \n",
      " 4   OG           275573 non-null  float64 \n",
      " 5   Name         275177 non-null  category\n",
      " 6   Size(L)      275632 non-null  float64 \n",
      " 7   PrimaryTemp  197641 non-null  float64 \n",
      " 8   BrewMethod   275439 non-null  category\n",
      " 9   SugarScale   275328 non-null  category\n",
      " 10  ABV          275342 non-null  float64 \n",
      " 11  FG           275306 non-null  float64 \n",
      " 12  IBU          275387 non-null  float64 \n",
      " 13  Style        273553 non-null  category\n",
      "dtypes: category(4), float64(10)\n",
      "memory usage: 28.2 MB\n"
     ]
    }
   ],
   "source": [
    "data_train.info()"
   ]
  },
  {
   "cell_type": "markdown",
   "metadata": {},
   "source": [
    "Null Values\n",
    "- For null values, we decided to remove each row with null values"
   ]
  },
  {
   "cell_type": "code",
   "execution_count": 40,
   "metadata": {},
   "outputs": [
    {
     "data": {
      "text/plain": [
       "Efficiency      31788\n",
       "BoilTime        31708\n",
       "Color           31717\n",
       "BoilGravity     42238\n",
       "OG              31423\n",
       "Name            31819\n",
       "Size(L)         31364\n",
       "PrimaryTemp    109355\n",
       "BrewMethod      31557\n",
       "SugarScale      31668\n",
       "ABV             31654\n",
       "FG              31690\n",
       "IBU             31609\n",
       "Style           33443\n",
       "dtype: int64"
      ]
     },
     "execution_count": 40,
     "metadata": {},
     "output_type": "execute_result"
    }
   ],
   "source": [
    "data_train.isnull().sum()"
   ]
  },
  {
   "cell_type": "code",
   "execution_count": 61,
   "metadata": {},
   "outputs": [
    {
     "data": {
      "text/plain": [
       "Efficiency     0\n",
       "BoilTime       0\n",
       "Color          0\n",
       "BoilGravity    0\n",
       "OG             0\n",
       "Name           0\n",
       "Size(L)        0\n",
       "PrimaryTemp    0\n",
       "BrewMethod     0\n",
       "SugarScale     0\n",
       "ABV            0\n",
       "FG             0\n",
       "IBU            0\n",
       "Style          0\n",
       "dtype: int64"
      ]
     },
     "execution_count": 61,
     "metadata": {},
     "output_type": "execute_result"
    }
   ],
   "source": [
    "data_train = data_train.dropna()\n",
    "data_train.isnull().sum()"
   ]
  },
  {
   "cell_type": "code",
   "execution_count": 28,
   "metadata": {},
   "outputs": [],
   "source": [
    "li = lambda q1, ri: q1 - 1.5*ri\n",
    "ls = lambda q3, ri: q3 + 1.5*ri\n",
    "ri = lambda q1, q3: q3-q1"
   ]
  }
 ],
 "metadata": {
  "colab": {
   "collapsed_sections": [
    "mXQHmtMbHJoh",
    "3aVUkwJVHJom",
    "9SfZHh6oHJor",
    "1S_iRK8rHJo0",
    "Ey5Lk8evHJo3",
    "0Y0UV-GVHJo6",
    "he4lxsEUHJpM",
    "h0FKIrJHHJpO",
    "jYPdefrhHJpS",
    "zUundEM6HJpT",
    "2GNrgJzHHJpW",
    "uRwep7LjHJpZ",
    "JCcM4XFbHJpd"
   ],
   "name": "Trabajo_Preparacion_Datos_JoseR_Zapata.ipynb",
   "provenance": []
  },
  "kernelspec": {
   "display_name": "Python 3.10.6 64-bit",
   "language": "python",
   "name": "python3"
  },
  "language_info": {
   "codemirror_mode": {
    "name": "ipython",
    "version": 3
   },
   "file_extension": ".py",
   "mimetype": "text/x-python",
   "name": "python",
   "nbconvert_exporter": "python",
   "pygments_lexer": "ipython3",
   "version": "3.10.6"
  },
  "nbTranslate": {
   "displayLangs": [
    "es",
    "en"
   ],
   "hotkey": "alt-t",
   "langInMainMenu": true,
   "sourceLang": "en",
   "targetLang": "es",
   "useGoogleTranslate": true
  },
  "toc": {
   "base_numbering": 1,
   "nav_menu": {},
   "number_sections": true,
   "sideBar": true,
   "skip_h1_title": false,
   "title_cell": "Contenido",
   "title_sidebar": "Contenido",
   "toc_cell": true,
   "toc_position": {},
   "toc_section_display": true,
   "toc_window_display": false
  },
  "varInspector": {
   "cols": {
    "lenName": 16,
    "lenType": 16,
    "lenVar": 40
   },
   "kernels_config": {
    "python": {
     "delete_cmd_postfix": "",
     "delete_cmd_prefix": "del ",
     "library": "var_list.py",
     "varRefreshCmd": "print(var_dic_list())"
    },
    "r": {
     "delete_cmd_postfix": ") ",
     "delete_cmd_prefix": "rm(",
     "library": "var_list.r",
     "varRefreshCmd": "cat(var_dic_list()) "
    }
   },
   "types_to_exclude": [
    "module",
    "function",
    "builtin_function_or_method",
    "instance",
    "_Feature"
   ],
   "window_display": false
  },
  "vscode": {
   "interpreter": {
    "hash": "110fe3fb9777db4ce1f884af3cc527a40b2c98427ad17781c021ef692bd3d28d"
   }
  }
 },
 "nbformat": 4,
 "nbformat_minor": 4
}
