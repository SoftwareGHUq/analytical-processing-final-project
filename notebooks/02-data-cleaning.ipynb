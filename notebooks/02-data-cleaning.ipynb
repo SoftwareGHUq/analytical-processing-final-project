{
 "cells": [
  {
   "cell_type": "markdown",
   "metadata": {
    "colab_type": "text",
    "id": "MjPWhesSHJoO"
   },
   "source": [
    "# Import Libraries"
   ]
  },
  {
   "cell_type": "code",
   "execution_count": 17,
   "metadata": {
    "colab": {},
    "colab_type": "code",
    "id": "ksQYJRZTHJoP"
   },
   "outputs": [],
   "source": [
    "import pandas as pd \n",
    "pd.options.plotting.backend = \"plotly\"\n",
    "import numpy as np"
   ]
  },
  {
   "cell_type": "markdown",
   "metadata": {
    "colab_type": "text",
    "id": "LM4dC7lBHJoT"
   },
   "source": [
    "# Load Datasets"
   ]
  },
  {
   "cell_type": "code",
   "execution_count": 18,
   "metadata": {
    "colab": {},
    "colab_type": "code",
    "id": "R2C-zrtBHJoT"
   },
   "outputs": [],
   "source": [
    "data_train = pd.read_parquet(\"../data/interim/data_train.parquet\")"
   ]
  },
  {
   "cell_type": "code",
   "execution_count": 19,
   "metadata": {},
   "outputs": [
    {
     "name": "stdout",
     "output_type": "stream",
     "text": [
      "Efficiency = 10.35248380375827\n",
      "BoilTime = 10.310015875594623\n",
      "Color = 10.330822310198288\n",
      "BoilGravity = 13.782980336494202\n",
      "OG = 10.249876729000466\n",
      "Name = 10.321701681330927\n",
      "Size(L) = 10.248166611087834\n",
      "PrimaryTemp = 35.68816569902495\n",
      "BrewMethod = 10.296619951945686\n",
      "SugarScale = 10.327117054720922\n",
      "ABV = 10.307735718377781\n",
      "FG = 10.340512978369858\n",
      "IBU = 10.307450698725678\n",
      "Style = 10.872359649197811\n"
     ]
    }
   ],
   "source": [
    "for column in data_train:\n",
    "    print(f'{column} = {(data_train[column].isnull().sum()/len(data_train))*100}')"
   ]
  },
  {
   "cell_type": "markdown",
   "metadata": {
    "colab_type": "text",
    "id": "5gnmm4vdHJoV"
   },
   "source": [
    "# Description and Data Cleaning"
   ]
  },
  {
   "cell_type": "markdown",
   "metadata": {
    "colab_type": "text",
    "id": "AFSKQY4Amzwv"
   },
   "source": [
    "## Variable definitions\n",
    "- Input/Output variables\n",
    "- Variable Types (Categorical or Numeric)\n",
    "- Data Types (int, float, string, factor, boolean, ...)"
   ]
  },
  {
   "cell_type": "markdown",
   "metadata": {},
   "source": [
    "|Feature Name| Type | Description and values | % Missing\n",
    "|--|--|--|--|\n",
    "| Name | Categorical (nominal) | The beer name | 10.30% \n",
    "| Size(L)| Number | Amount brewed for recipe listed | 10.23% \n",
    "| OG | Number | Specific gravity of wort before fermentation | 10.25% \n",
    "| FG | Number (nominal) | Specific gravity of wort after fermentation | 10.30% \n",
    "| ABV | Number | Alcohol By Volume | 10.29% \n",
    "| IBU | Number | International Bittering Units | 10.28% \n",
    "| Color | Number | Standard Reference Method - light to dark ex. 40 = black-  | 10.32% \n",
    "| BoilTime | Number | Time wort is boiled | 10.38% \n",
    "| BoilGravity | Number | Specific gravity of wort before the boil | 13.76% \n",
    "| Efficiency | Number | Beer mash extraction efficiency - extracting sugars from the grain during mash | 10.36% \n",
    "| SugarScale | Categorical (nominal) | Scale to determine the concentration of dissolved solids in wort | 10.30%\n",
    "| BrewMethod | Categorical (nominal) | Various techniques for brewing | 10.24% \n",
    "| PrimaryTemp | Number | Temperature at the fermenting stage | 35.63% \n",
    "| Style| Categorical (nominal) | The type of brew | 10.87% \n",
    "\n"
   ]
  },
  {
   "cell_type": "code",
   "execution_count": 20,
   "metadata": {},
   "outputs": [
    {
     "data": {
      "text/html": [
       "<div>\n",
       "<style scoped>\n",
       "    .dataframe tbody tr th:only-of-type {\n",
       "        vertical-align: middle;\n",
       "    }\n",
       "\n",
       "    .dataframe tbody tr th {\n",
       "        vertical-align: top;\n",
       "    }\n",
       "\n",
       "    .dataframe thead th {\n",
       "        text-align: right;\n",
       "    }\n",
       "</style>\n",
       "<table border=\"1\" class=\"dataframe\">\n",
       "  <thead>\n",
       "    <tr style=\"text-align: right;\">\n",
       "      <th></th>\n",
       "      <th>Efficiency</th>\n",
       "      <th>BoilTime</th>\n",
       "      <th>Color</th>\n",
       "      <th>BoilGravity</th>\n",
       "      <th>OG</th>\n",
       "      <th>Name</th>\n",
       "      <th>Size(L)</th>\n",
       "      <th>PrimaryTemp</th>\n",
       "      <th>BrewMethod</th>\n",
       "      <th>SugarScale</th>\n",
       "      <th>ABV</th>\n",
       "      <th>FG</th>\n",
       "      <th>IBU</th>\n",
       "      <th>Style</th>\n",
       "    </tr>\n",
       "  </thead>\n",
       "  <tbody>\n",
       "    <tr>\n",
       "      <th>6479</th>\n",
       "      <td>75.0</td>\n",
       "      <td>90.0</td>\n",
       "      <td>-354128741541</td>\n",
       "      <td>1058.0</td>\n",
       "      <td>-354128741541</td>\n",
       "      <td>St�vt</td>\n",
       "      <td>25.0</td>\n",
       "      <td>17.0</td>\n",
       "      <td>All Grain</td>\n",
       "      <td>Specific Gravity</td>\n",
       "      <td>5.72</td>\n",
       "      <td>1014.0</td>\n",
       "      <td>31.31</td>\n",
       "      <td>Sweet Stout</td>\n",
       "    </tr>\n",
       "    <tr>\n",
       "      <th>106795</th>\n",
       "      <td>70.0</td>\n",
       "      <td>60</td>\n",
       "      <td>11.81</td>\n",
       "      <td>None</td>\n",
       "      <td>1039</td>\n",
       "      <td>Scottish 60</td>\n",
       "      <td>None</td>\n",
       "      <td>None</td>\n",
       "      <td>BIAB</td>\n",
       "      <td>Specific Gravity</td>\n",
       "      <td>3.42</td>\n",
       "      <td>1012.0</td>\n",
       "      <td>17.14</td>\n",
       "      <td>Scottish Heavy 70/-</td>\n",
       "    </tr>\n",
       "    <tr>\n",
       "      <th>92401</th>\n",
       "      <td>35.0</td>\n",
       "      <td>None</td>\n",
       "      <td>2.99</td>\n",
       "      <td>1046.0</td>\n",
       "      <td>1053.0</td>\n",
       "      <td>Mosaic Promise Clone</td>\n",
       "      <td>18.93</td>\n",
       "      <td>20.0</td>\n",
       "      <td>extract</td>\n",
       "      <td>None</td>\n",
       "      <td>5.4</td>\n",
       "      <td>None</td>\n",
       "      <td>50.27</td>\n",
       "      <td>American Pale Ale</td>\n",
       "    </tr>\n",
       "    <tr>\n",
       "      <th>200444</th>\n",
       "      <td>35.0</td>\n",
       "      <td>45</td>\n",
       "      <td>6.89</td>\n",
       "      <td>1089</td>\n",
       "      <td>1062</td>\n",
       "      <td>Mosaic IPA</td>\n",
       "      <td>18.93</td>\n",
       "      <td>17.78</td>\n",
       "      <td>extract</td>\n",
       "      <td>Specific Gravity</td>\n",
       "      <td>6.59</td>\n",
       "      <td>1012.0</td>\n",
       "      <td>90.86</td>\n",
       "      <td>American IPA</td>\n",
       "    </tr>\n",
       "    <tr>\n",
       "      <th>158968</th>\n",
       "      <td>69.0</td>\n",
       "      <td>856842215413</td>\n",
       "      <td>856842215413</td>\n",
       "      <td>1057</td>\n",
       "      <td>1065</td>\n",
       "      <td>Dead Clone Guy Ale</td>\n",
       "      <td>40.0</td>\n",
       "      <td>15.5</td>\n",
       "      <td>856842215413</td>\n",
       "      <td>Specific Gravity</td>\n",
       "      <td>7.24</td>\n",
       "      <td>856842215413.0</td>\n",
       "      <td>37.1</td>\n",
       "      <td>Maibock/Helles Bock</td>\n",
       "    </tr>\n",
       "    <tr>\n",
       "      <th>279051</th>\n",
       "      <td>70.0</td>\n",
       "      <td>60</td>\n",
       "      <td>15.67</td>\n",
       "      <td>1072</td>\n",
       "      <td>1099</td>\n",
       "      <td>Titanic Iceberg</td>\n",
       "      <td>20.8</td>\n",
       "      <td>None</td>\n",
       "      <td>All Grain</td>\n",
       "      <td>Specific Gravity</td>\n",
       "      <td>None</td>\n",
       "      <td>None</td>\n",
       "      <td>14.56</td>\n",
       "      <td>Eisbock</td>\n",
       "    </tr>\n",
       "    <tr>\n",
       "      <th>314991</th>\n",
       "      <td>70.0</td>\n",
       "      <td>-354128741541</td>\n",
       "      <td>12.15</td>\n",
       "      <td>1059</td>\n",
       "      <td>1081</td>\n",
       "      <td>Gizmos Golden Galaxy</td>\n",
       "      <td>20.82</td>\n",
       "      <td>20.0</td>\n",
       "      <td>All Grain</td>\n",
       "      <td>Specific Gravity</td>\n",
       "      <td>8.08</td>\n",
       "      <td>1019.0</td>\n",
       "      <td>104.18</td>\n",
       "      <td>-354128741541</td>\n",
       "    </tr>\n",
       "    <tr>\n",
       "      <th>77682</th>\n",
       "      <td>75.0</td>\n",
       "      <td>60</td>\n",
       "      <td>17.1</td>\n",
       "      <td>856842215413</td>\n",
       "      <td>1062</td>\n",
       "      <td>Hoppy LHBS Pale</td>\n",
       "      <td>18.93</td>\n",
       "      <td>None</td>\n",
       "      <td>All Grain</td>\n",
       "      <td>Specific Gravity</td>\n",
       "      <td>5.38</td>\n",
       "      <td>1021.0</td>\n",
       "      <td>27.6</td>\n",
       "      <td>California Common Beer</td>\n",
       "    </tr>\n",
       "    <tr>\n",
       "      <th>107796</th>\n",
       "      <td>65.0</td>\n",
       "      <td>90.0</td>\n",
       "      <td>42.63</td>\n",
       "      <td>1057.0</td>\n",
       "      <td>1074.0</td>\n",
       "      <td>Foreign Extra Stout - Base</td>\n",
       "      <td>18.93</td>\n",
       "      <td>20.0</td>\n",
       "      <td>BIAB</td>\n",
       "      <td>Specific Gravity</td>\n",
       "      <td>None</td>\n",
       "      <td>1021.0</td>\n",
       "      <td>83.27</td>\n",
       "      <td>Foreign Extra Stout</td>\n",
       "    </tr>\n",
       "    <tr>\n",
       "      <th>350268</th>\n",
       "      <td>70.0</td>\n",
       "      <td>60.0</td>\n",
       "      <td>50.0</td>\n",
       "      <td>1078.0</td>\n",
       "      <td>1085.0</td>\n",
       "      <td>Stout La Grande</td>\n",
       "      <td>60.0</td>\n",
       "      <td>20.5</td>\n",
       "      <td>All Grain</td>\n",
       "      <td>Specific Gravity</td>\n",
       "      <td>None</td>\n",
       "      <td>1017.0</td>\n",
       "      <td>53.32</td>\n",
       "      <td>Imperial Stout</td>\n",
       "    </tr>\n",
       "  </tbody>\n",
       "</table>\n",
       "</div>"
      ],
      "text/plain": [
       "       Efficiency       BoilTime          Color   BoilGravity             OG  \\\n",
       "6479         75.0           90.0  -354128741541        1058.0  -354128741541   \n",
       "106795       70.0             60          11.81          None           1039   \n",
       "92401        35.0           None           2.99        1046.0         1053.0   \n",
       "200444       35.0             45           6.89          1089           1062   \n",
       "158968       69.0   856842215413   856842215413          1057           1065   \n",
       "279051       70.0             60          15.67          1072           1099   \n",
       "314991       70.0  -354128741541          12.15          1059           1081   \n",
       "77682        75.0             60           17.1  856842215413           1062   \n",
       "107796       65.0           90.0          42.63        1057.0         1074.0   \n",
       "350268       70.0           60.0           50.0        1078.0         1085.0   \n",
       "\n",
       "                              Name Size(L) PrimaryTemp    BrewMethod  \\\n",
       "6479                         St�vt    25.0        17.0     All Grain   \n",
       "106795                 Scottish 60    None        None          BIAB   \n",
       "92401         Mosaic Promise Clone   18.93        20.0       extract   \n",
       "200444                  Mosaic IPA   18.93       17.78       extract   \n",
       "158968          Dead Clone Guy Ale    40.0        15.5  856842215413   \n",
       "279051             Titanic Iceberg    20.8        None     All Grain   \n",
       "314991        Gizmos Golden Galaxy   20.82        20.0     All Grain   \n",
       "77682              Hoppy LHBS Pale   18.93        None     All Grain   \n",
       "107796  Foreign Extra Stout - Base   18.93        20.0          BIAB   \n",
       "350268             Stout La Grande    60.0        20.5     All Grain   \n",
       "\n",
       "              SugarScale   ABV              FG     IBU                   Style  \n",
       "6479    Specific Gravity  5.72          1014.0   31.31             Sweet Stout  \n",
       "106795  Specific Gravity  3.42          1012.0   17.14     Scottish Heavy 70/-  \n",
       "92401               None   5.4            None   50.27       American Pale Ale  \n",
       "200444  Specific Gravity  6.59          1012.0   90.86            American IPA  \n",
       "158968  Specific Gravity  7.24  856842215413.0    37.1     Maibock/Helles Bock  \n",
       "279051  Specific Gravity  None            None   14.56                 Eisbock  \n",
       "314991  Specific Gravity  8.08          1019.0  104.18           -354128741541  \n",
       "77682   Specific Gravity  5.38          1021.0    27.6  California Common Beer  \n",
       "107796  Specific Gravity  None          1021.0   83.27     Foreign Extra Stout  \n",
       "350268  Specific Gravity  None          1017.0   53.32          Imperial Stout  "
      ]
     },
     "execution_count": 20,
     "metadata": {},
     "output_type": "execute_result"
    }
   ],
   "source": [
    "data_train.sample(10)"
   ]
  },
  {
   "cell_type": "code",
   "execution_count": 21,
   "metadata": {
    "colab": {},
    "colab_type": "code",
    "id": "ZYzna68bHJoW"
   },
   "outputs": [
    {
     "name": "stdout",
     "output_type": "stream",
     "text": [
      "<class 'pandas.core.frame.DataFrame'>\n",
      "RangeIndex: 350853 entries, 0 to 350852\n",
      "Data columns (total 14 columns):\n",
      " #   Column       Non-Null Count   Dtype \n",
      "---  ------       --------------   ----- \n",
      " 0   Efficiency   314531 non-null  object\n",
      " 1   BoilTime     314680 non-null  object\n",
      " 2   Color        314607 non-null  object\n",
      " 3   BoilGravity  302495 non-null  object\n",
      " 4   OG           314891 non-null  object\n",
      " 5   Name         314639 non-null  object\n",
      " 6   Size(L)      314897 non-null  object\n",
      " 7   PrimaryTemp  225640 non-null  object\n",
      " 8   BrewMethod   314727 non-null  object\n",
      " 9   SugarScale   314620 non-null  object\n",
      " 10  ABV          314688 non-null  object\n",
      " 11  FG           314573 non-null  object\n",
      " 12  IBU          314689 non-null  object\n",
      " 13  Style        312707 non-null  object\n",
      "dtypes: object(14)\n",
      "memory usage: 37.5+ MB\n"
     ]
    }
   ],
   "source": [
    "data_train.info()"
   ]
  },
  {
   "cell_type": "markdown",
   "metadata": {},
   "source": [
    "Null Values"
   ]
  },
  {
   "cell_type": "code",
   "execution_count": 22,
   "metadata": {},
   "outputs": [
    {
     "data": {
      "text/plain": [
       "Efficiency      36322\n",
       "BoilTime        36173\n",
       "Color           36246\n",
       "BoilGravity     48358\n",
       "OG              35962\n",
       "Name            36214\n",
       "Size(L)         35956\n",
       "PrimaryTemp    125213\n",
       "BrewMethod      36126\n",
       "SugarScale      36233\n",
       "ABV             36165\n",
       "FG              36280\n",
       "IBU             36164\n",
       "Style           38146\n",
       "dtype: int64"
      ]
     },
     "execution_count": 22,
     "metadata": {},
     "output_type": "execute_result"
    }
   ],
   "source": [
    "data_train.isnull().sum()"
   ]
  },
  {
   "cell_type": "code",
   "execution_count": null,
   "metadata": {},
   "outputs": [],
   "source": []
  }
 ],
 "metadata": {
  "colab": {
   "collapsed_sections": [
    "mXQHmtMbHJoh",
    "3aVUkwJVHJom",
    "9SfZHh6oHJor",
    "1S_iRK8rHJo0",
    "Ey5Lk8evHJo3",
    "0Y0UV-GVHJo6",
    "he4lxsEUHJpM",
    "h0FKIrJHHJpO",
    "jYPdefrhHJpS",
    "zUundEM6HJpT",
    "2GNrgJzHHJpW",
    "uRwep7LjHJpZ",
    "JCcM4XFbHJpd"
   ],
   "name": "Trabajo_Preparacion_Datos_JoseR_Zapata.ipynb",
   "provenance": []
  },
  "kernelspec": {
   "display_name": "Python 3.10.6 64-bit",
   "language": "python",
   "name": "python3"
  },
  "language_info": {
   "codemirror_mode": {
    "name": "ipython",
    "version": 3
   },
   "file_extension": ".py",
   "mimetype": "text/x-python",
   "name": "python",
   "nbconvert_exporter": "python",
   "pygments_lexer": "ipython3",
   "version": "3.10.6"
  },
  "nbTranslate": {
   "displayLangs": [
    "es",
    "en"
   ],
   "hotkey": "alt-t",
   "langInMainMenu": true,
   "sourceLang": "en",
   "targetLang": "es",
   "useGoogleTranslate": true
  },
  "toc": {
   "base_numbering": 1,
   "nav_menu": {},
   "number_sections": true,
   "sideBar": true,
   "skip_h1_title": false,
   "title_cell": "Contenido",
   "title_sidebar": "Contenido",
   "toc_cell": true,
   "toc_position": {},
   "toc_section_display": true,
   "toc_window_display": false
  },
  "varInspector": {
   "cols": {
    "lenName": 16,
    "lenType": 16,
    "lenVar": 40
   },
   "kernels_config": {
    "python": {
     "delete_cmd_postfix": "",
     "delete_cmd_prefix": "del ",
     "library": "var_list.py",
     "varRefreshCmd": "print(var_dic_list())"
    },
    "r": {
     "delete_cmd_postfix": ") ",
     "delete_cmd_prefix": "rm(",
     "library": "var_list.r",
     "varRefreshCmd": "cat(var_dic_list()) "
    }
   },
   "types_to_exclude": [
    "module",
    "function",
    "builtin_function_or_method",
    "instance",
    "_Feature"
   ],
   "window_display": false
  },
  "vscode": {
   "interpreter": {
    "hash": "110fe3fb9777db4ce1f884af3cc527a40b2c98427ad17781c021ef692bd3d28d"
   }
  }
 },
 "nbformat": 4,
 "nbformat_minor": 4
}
