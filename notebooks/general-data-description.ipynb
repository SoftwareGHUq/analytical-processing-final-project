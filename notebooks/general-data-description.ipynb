{
 "cells": [
  {
   "cell_type": "markdown",
   "metadata": {
    "colab_type": "text",
    "id": "XE2q_0ARHJoM"
   },
   "source": [
    "# Problem to solve"
   ]
  },
  {
   "cell_type": "markdown",
   "metadata": {
    "colab_type": "text",
    "id": "0fWGXusiHJoO"
   },
   "source": [
    "## Describe input/output data\n",
    "- Variables\n",
    "- Variable types\n",
    "- Variable Meaning\n"
   ]
  },
  {
   "cell_type": "markdown",
   "metadata": {
    "colab_type": "text",
    "id": "MjPWhesSHJoO"
   },
   "source": [
    "# Import Libraries"
   ]
  },
  {
   "cell_type": "code",
   "execution_count": 67,
   "metadata": {
    "colab": {},
    "colab_type": "code",
    "id": "ksQYJRZTHJoP"
   },
   "outputs": [],
   "source": [
    "import pandas as pd \n",
    "pd.options.plotting.backend = \"plotly\"\n"
   ]
  },
  {
   "cell_type": "markdown",
   "metadata": {
    "colab_type": "text",
    "id": "LM4dC7lBHJoT"
   },
   "source": [
    "# Load dataset"
   ]
  },
  {
   "cell_type": "code",
   "execution_count": 4,
   "metadata": {
    "colab": {},
    "colab_type": "code",
    "id": "R2C-zrtBHJoT"
   },
   "outputs": [],
   "source": [
    "data_raw = pd.read_csv(\"../data/raw/cervezaDS.csv\")"
   ]
  },
  {
   "cell_type": "markdown",
   "metadata": {},
   "source": [
    "# Dataset Description\n",
    "- Columns and rows \n",
    "- Data type and quality"
   ]
  },
  {
   "cell_type": "markdown",
   "metadata": {},
   "source": [
    "The dataset original is modified by the theacher, but for the exercise"
   ]
  },
  {
   "cell_type": "markdown",
   "metadata": {},
   "source": [
    "|Feature Name| Type | Description and values | % Missing\n",
    "|--|--|--|--|\n",
    "| BeerID | Number | The Record Id |  0\n",
    "| Name | Categorical (nominal) | The beer name | ? \n",
    "| StyleID | Number | The Numeric ID for type of brew | ? \n",
    "| Size(L)| Number | Amount brewed for recipe listed | ? \n",
    "| OG | Number | Specific gravity of wort before fermentation | ? \n",
    "| FG | Number (nominal) | Specific gravity of wort after fermentation | ? \n",
    "| ABV | Number | Alcohol By Volume | ? \n",
    "| IBU | Number | International Bittering Units | ? \n",
    "| Color | Number | Standard Reference Method - light to dark ex. 40 = black-  | ? \n",
    "| Boil | Number | Size Fluid at beginning of boil | ? \n",
    "| BoilTime | Number | Time wort is boiled | ? \n",
    "| BoilGravity | Number | Specific gravity of wort before the boil | ? \n",
    "| Efficiency | Number | Beer mash extraction efficiency - extracting sugars from the grain during mash | ? \n",
    "| MashThinckness | Number | Amount of water per pound of grain | ? \n",
    "| SugarScale | Categorical (nominal) | Scale to determine the concentration of dissolved solids in wort | ? \n",
    "| BrewMethod | Categorical (nominal) | Various techniques for brewing | ? \n",
    "| PitchRate | Number | Yeast added to the fermentor per gravity unit - M cells/ml/deg P | ? \n",
    "| PrimaryTemp | Number | Temperature at the fermenting stage | ? \n",
    "| PrimingMethod | Categorical (nominal) | N | ? \n",
    "| PrimingAmount | Categorical (nominal) | Amount of priming sugar used **(Analyzing tha dataset, the data type for this column contains number and categorical variables)** | ? \n",
    "| UserId | Number | The beer name | ? \n",
    "| Style| Categorical (nominal) | The type of brew | ? \n",
    "\n"
   ]
  },
  {
   "cell_type": "code",
   "execution_count": 5,
   "metadata": {},
   "outputs": [
    {
     "name": "stdout",
     "output_type": "stream",
     "text": [
      "<class 'pandas.core.frame.DataFrame'>\n",
      "RangeIndex: 443166 entries, 0 to 443165\n",
      "Data columns (total 28 columns):\n",
      " #   Column         Non-Null Count   Dtype \n",
      "---  ------         --------------   ----- \n",
      " 0   Unnamed: 0     443166 non-null  int64 \n",
      " 1   index          443166 non-null  int64 \n",
      " 2   nhbhgv         443166 non-null  int64 \n",
      " 3   OG             427703 non-null  object\n",
      " 4   PrimingAmount  82937 non-null   object\n",
      " 5   PrimingMethod  92764 non-null   object\n",
      " 6   Efficiency     427220 non-null  object\n",
      " 7   SugarScale     427481 non-null  object\n",
      " 8   StyleID        427590 non-null  object\n",
      " 9   PitchRate      231875 non-null  object\n",
      " 10  Unnamed: 23    59104 non-null   object\n",
      " 11  Size(L)        427809 non-null  object\n",
      " 12  UserId         175751 non-null  object\n",
      " 13  BoilGravity    412040 non-null  object\n",
      " 14  BoilTime       427442 non-null  object\n",
      " 15  ugtft          59104 non-null   object\n",
      " 16  BoilSize       427451 non-null  object\n",
      " 17  FG             427447 non-null  object\n",
      " 18  PrimaryTemp    314826 non-null  object\n",
      " 19  Style          424927 non-null  object\n",
      " 20  Color          427391 non-null  object\n",
      " 21  Name           427530 non-null  object\n",
      " 22  Unnamed: 22    59134 non-null   object\n",
      " 23  IBU            427574 non-null  object\n",
      " 24  BrewMethod     427766 non-null  object\n",
      " 25  BeerID         427823 non-null  object\n",
      " 26  ABV            427540 non-null  object\n",
      " 27  MashThickness  278195 non-null  object\n",
      "dtypes: int64(3), object(25)\n",
      "memory usage: 94.7+ MB\n"
     ]
    }
   ],
   "source": [
    "data_raw.info()"
   ]
  },
  {
   "cell_type": "code",
   "execution_count": 33,
   "metadata": {},
   "outputs": [
    {
     "data": {
      "text/plain": [
       "22"
      ]
     },
     "execution_count": 33,
     "metadata": {},
     "output_type": "execute_result"
    }
   ],
   "source": [
    "keys = ['BeerID', 'Name', 'StyleID', 'Size(L)', 'OG', 'FG', 'ABV', 'IBU', 'Color', 'Boil', 'BoilTime', 'BoilGravity', 'Efficiency', 'MashThickness', 'SugarScale', 'BrewMethod', 'PitchRate', 'PrimaryTemp', 'PrimingMethod', 'PrimingAmount', 'UserId', 'Style']\n",
    "len(keys)"
   ]
  },
  {
   "cell_type": "markdown",
   "metadata": {},
   "source": [
    "# General data cleaning \n",
    "- Filas con valores exactamente iguales (duplicados)\n",
    "- Columnas duplicadas\n",
    "- Columnas con valores constantes o sin informacion"
   ]
  },
  {
   "cell_type": "code",
   "execution_count": 34,
   "metadata": {},
   "outputs": [],
   "source": [
    "columns_raw = set(data_raw.T.index)\n",
    "keys_set = set(keys)"
   ]
  },
  {
   "cell_type": "code",
   "execution_count": 38,
   "metadata": {},
   "outputs": [],
   "source": [
    "columns_not_in_info_set = columns_raw - keys_set"
   ]
  },
  {
   "cell_type": "markdown",
   "metadata": {},
   "source": [
    "Some columns are not specified in the original dataset and the metadata, some of this are the next ones"
   ]
  },
  {
   "cell_type": "code",
   "execution_count": 39,
   "metadata": {},
   "outputs": [
    {
     "data": {
      "text/plain": [
       "{'BoilSize',\n",
       " 'Unnamed: 0',\n",
       " 'Unnamed: 22',\n",
       " 'Unnamed: 23',\n",
       " 'index',\n",
       " 'nhbhgv',\n",
       " 'ugtft'}"
      ]
     },
     "execution_count": 39,
     "metadata": {},
     "output_type": "execute_result"
    }
   ],
   "source": [
    "columns_not_in_info_set"
   ]
  },
  {
   "cell_type": "code",
   "execution_count": 41,
   "metadata": {},
   "outputs": [
    {
     "data": {
      "text/html": [
       "<div>\n",
       "<style scoped>\n",
       "    .dataframe tbody tr th:only-of-type {\n",
       "        vertical-align: middle;\n",
       "    }\n",
       "\n",
       "    .dataframe tbody tr th {\n",
       "        vertical-align: top;\n",
       "    }\n",
       "\n",
       "    .dataframe thead th {\n",
       "        text-align: right;\n",
       "    }\n",
       "</style>\n",
       "<table border=\"1\" class=\"dataframe\">\n",
       "  <thead>\n",
       "    <tr style=\"text-align: right;\">\n",
       "      <th></th>\n",
       "      <th>Unnamed: 22</th>\n",
       "      <th>Unnamed: 23</th>\n",
       "      <th>index</th>\n",
       "      <th>BoilSize</th>\n",
       "      <th>Unnamed: 0</th>\n",
       "      <th>nhbhgv</th>\n",
       "      <th>ugtft</th>\n",
       "    </tr>\n",
       "  </thead>\n",
       "  <tbody>\n",
       "    <tr>\n",
       "      <th>0</th>\n",
       "      <td>-354128741541</td>\n",
       "      <td>NaN</td>\n",
       "      <td>23250</td>\n",
       "      <td>23.66</td>\n",
       "      <td>0</td>\n",
       "      <td>9156615</td>\n",
       "      <td>NaN</td>\n",
       "    </tr>\n",
       "    <tr>\n",
       "      <th>1</th>\n",
       "      <td>NaN</td>\n",
       "      <td>NaN</td>\n",
       "      <td>41758</td>\n",
       "      <td>-354128741541</td>\n",
       "      <td>1</td>\n",
       "      <td>9156615</td>\n",
       "      <td>NaN</td>\n",
       "    </tr>\n",
       "    <tr>\n",
       "      <th>2</th>\n",
       "      <td>NaN</td>\n",
       "      <td>-354128741541.0</td>\n",
       "      <td>42392</td>\n",
       "      <td>-354128741541</td>\n",
       "      <td>2</td>\n",
       "      <td>9156615</td>\n",
       "      <td>-354128741541.0</td>\n",
       "    </tr>\n",
       "    <tr>\n",
       "      <th>3</th>\n",
       "      <td>856842215413</td>\n",
       "      <td>856842215413.0</td>\n",
       "      <td>33602</td>\n",
       "      <td>25.0</td>\n",
       "      <td>3</td>\n",
       "      <td>9156615</td>\n",
       "      <td>856842215413.0</td>\n",
       "    </tr>\n",
       "    <tr>\n",
       "      <th>4</th>\n",
       "      <td>NaN</td>\n",
       "      <td>NaN</td>\n",
       "      <td>49734</td>\n",
       "      <td>28.5</td>\n",
       "      <td>4</td>\n",
       "      <td>9156615</td>\n",
       "      <td>NaN</td>\n",
       "    </tr>\n",
       "    <tr>\n",
       "      <th>...</th>\n",
       "      <td>...</td>\n",
       "      <td>...</td>\n",
       "      <td>...</td>\n",
       "      <td>...</td>\n",
       "      <td>...</td>\n",
       "      <td>...</td>\n",
       "      <td>...</td>\n",
       "    </tr>\n",
       "    <tr>\n",
       "      <th>443161</th>\n",
       "      <td>856842215413</td>\n",
       "      <td>856842215413.0</td>\n",
       "      <td>1327</td>\n",
       "      <td>12.62</td>\n",
       "      <td>443161</td>\n",
       "      <td>9156615</td>\n",
       "      <td>856842215413.0</td>\n",
       "    </tr>\n",
       "    <tr>\n",
       "      <th>443162</th>\n",
       "      <td>NaN</td>\n",
       "      <td>856842215413.0</td>\n",
       "      <td>60639</td>\n",
       "      <td>28.5</td>\n",
       "      <td>443162</td>\n",
       "      <td>9156615</td>\n",
       "      <td>856842215413.0</td>\n",
       "    </tr>\n",
       "    <tr>\n",
       "      <th>443163</th>\n",
       "      <td>NaN</td>\n",
       "      <td>NaN</td>\n",
       "      <td>71174</td>\n",
       "      <td>53.0</td>\n",
       "      <td>443163</td>\n",
       "      <td>9156615</td>\n",
       "      <td>NaN</td>\n",
       "    </tr>\n",
       "    <tr>\n",
       "      <th>443164</th>\n",
       "      <td>NaN</td>\n",
       "      <td>-354128741541.0</td>\n",
       "      <td>55059</td>\n",
       "      <td>11.36</td>\n",
       "      <td>443164</td>\n",
       "      <td>9156615</td>\n",
       "      <td>-354128741541.0</td>\n",
       "    </tr>\n",
       "    <tr>\n",
       "      <th>443165</th>\n",
       "      <td>NaN</td>\n",
       "      <td>NaN</td>\n",
       "      <td>45053</td>\n",
       "      <td>26.5</td>\n",
       "      <td>443165</td>\n",
       "      <td>9156615</td>\n",
       "      <td>NaN</td>\n",
       "    </tr>\n",
       "  </tbody>\n",
       "</table>\n",
       "<p>443166 rows × 7 columns</p>\n",
       "</div>"
      ],
      "text/plain": [
       "          Unnamed: 22      Unnamed: 23  index       BoilSize  Unnamed: 0  \\\n",
       "0       -354128741541              NaN  23250          23.66           0   \n",
       "1                 NaN              NaN  41758  -354128741541           1   \n",
       "2                 NaN  -354128741541.0  42392  -354128741541           2   \n",
       "3        856842215413   856842215413.0  33602           25.0           3   \n",
       "4                 NaN              NaN  49734           28.5           4   \n",
       "...               ...              ...    ...            ...         ...   \n",
       "443161   856842215413   856842215413.0   1327          12.62      443161   \n",
       "443162            NaN   856842215413.0  60639           28.5      443162   \n",
       "443163            NaN              NaN  71174           53.0      443163   \n",
       "443164            NaN  -354128741541.0  55059          11.36      443164   \n",
       "443165            NaN              NaN  45053           26.5      443165   \n",
       "\n",
       "         nhbhgv            ugtft  \n",
       "0       9156615              NaN  \n",
       "1       9156615              NaN  \n",
       "2       9156615  -354128741541.0  \n",
       "3       9156615   856842215413.0  \n",
       "4       9156615              NaN  \n",
       "...         ...              ...  \n",
       "443161  9156615   856842215413.0  \n",
       "443162  9156615   856842215413.0  \n",
       "443163  9156615              NaN  \n",
       "443164  9156615  -354128741541.0  \n",
       "443165  9156615              NaN  \n",
       "\n",
       "[443166 rows x 7 columns]"
      ]
     },
     "execution_count": 41,
     "metadata": {},
     "output_type": "execute_result"
    }
   ],
   "source": [
    "data_raw[list(columns_not_in_info_set)]"
   ]
  },
  {
   "cell_type": "code",
   "execution_count": 70,
   "metadata": {},
   "outputs": [
    {
     "name": "stdout",
     "output_type": "stream",
     "text": [
      "Null percentage from variable: \n",
      "  Unnamed: 22 = 86.65646732826977\n",
      "  Unnamed: 23 = 86.66323680065709\n",
      "  index = 0.0\n",
      "  BoilSize = 3.5460752855589104\n",
      "  Unnamed: 0 = 0.0\n",
      "  nhbhgv = 0.0\n",
      "  ugtft = 86.66323680065709\n"
     ]
    }
   ],
   "source": [
    "null_percentage_garbage_columns = {}\n",
    "print(\"Null percentage from variable: \")\n",
    "for variable_name in list(columns_not_in_info_set):\n",
    "    print(f\"  {variable_name} = {(data_raw[variable_name].isnull().sum()/len(data_raw))*100}\")\n",
    "    null_percentage_garbage_columns[variable_name] = data_raw[variable_name].isnull().sum()"
   ]
  },
  {
   "cell_type": "code",
   "execution_count": 65,
   "metadata": {},
   "outputs": [
    {
     "name": "stdout",
     "output_type": "stream",
     "text": [
      "Duplicated percentage from variable: \n",
      "  Unnamed: 22 = 99.99751786012465\n",
      "  Unnamed: 23 = 99.99864610552254\n",
      "  index = 83.33333333333334\n",
      "  BoilSize = 99.51056714639661\n",
      "  Unnamed: 0 = 0.0\n",
      "  nhbhgv = 99.99977435092042\n",
      "  ugtft = 99.99864610552254\n"
     ]
    }
   ],
   "source": [
    "duplicated_percentage_garbage_columns = {}\n",
    "print(\"Duplicated percentage from variable: \")\n",
    "for variable_name in list(columns_not_in_info_set):\n",
    "    print(f\"  {variable_name} = {(data_raw[variable_name].duplicated().sum()/len(data_raw))*100}\")\n",
    "    duplicated_percentage_garbage_columns[variable_name] = data_raw[variable_name].duplicated().sum()\n"
   ]
  },
  {
   "cell_type": "markdown",
   "metadata": {},
   "source": [
    "## Visualization----"
   ]
  },
  {
   "cell_type": "code",
   "execution_count": 68,
   "metadata": {},
   "outputs": [
    {
     "ename": "ValueError",
     "evalue": "If using all scalar values, you must pass an index",
     "output_type": "error",
     "traceback": [
      "\u001b[1;31m---------------------------------------------------------------------------\u001b[0m",
      "\u001b[1;31mValueError\u001b[0m                                Traceback (most recent call last)",
      "\u001b[1;32mc:\\Users\\cristian.sanchezp\\Documents\\uniquindio\\maestria\\procesamiento_analitico\\final_project\\analytical-processing-final-project\\notebooks\\general-data-description.ipynb Cell 19\u001b[0m in \u001b[0;36m<cell line: 1>\u001b[1;34m()\u001b[0m\n\u001b[1;32m----> <a href='vscode-notebook-cell:/c%3A/Users/cristian.sanchezp/Documents/uniquindio/maestria/procesamiento_analitico/final_project/analytical-processing-final-project/notebooks/general-data-description.ipynb#Y212sZmlsZQ%3D%3D?line=0'>1</a>\u001b[0m df_null \u001b[39m=\u001b[39m pd\u001b[39m.\u001b[39;49mDataFrame(null_percentage_garbage_columns)\n",
      "File \u001b[1;32mc:\\Users\\cristian.sanchezp\\AppData\\Local\\Programs\\Python\\Python310\\lib\\site-packages\\pandas\\core\\frame.py:636\u001b[0m, in \u001b[0;36mDataFrame.__init__\u001b[1;34m(self, data, index, columns, dtype, copy)\u001b[0m\n\u001b[0;32m    630\u001b[0m     mgr \u001b[39m=\u001b[39m \u001b[39mself\u001b[39m\u001b[39m.\u001b[39m_init_mgr(\n\u001b[0;32m    631\u001b[0m         data, axes\u001b[39m=\u001b[39m{\u001b[39m\"\u001b[39m\u001b[39mindex\u001b[39m\u001b[39m\"\u001b[39m: index, \u001b[39m\"\u001b[39m\u001b[39mcolumns\u001b[39m\u001b[39m\"\u001b[39m: columns}, dtype\u001b[39m=\u001b[39mdtype, copy\u001b[39m=\u001b[39mcopy\n\u001b[0;32m    632\u001b[0m     )\n\u001b[0;32m    634\u001b[0m \u001b[39melif\u001b[39;00m \u001b[39misinstance\u001b[39m(data, \u001b[39mdict\u001b[39m):\n\u001b[0;32m    635\u001b[0m     \u001b[39m# GH#38939 de facto copy defaults to False only in non-dict cases\u001b[39;00m\n\u001b[1;32m--> 636\u001b[0m     mgr \u001b[39m=\u001b[39m dict_to_mgr(data, index, columns, dtype\u001b[39m=\u001b[39;49mdtype, copy\u001b[39m=\u001b[39;49mcopy, typ\u001b[39m=\u001b[39;49mmanager)\n\u001b[0;32m    637\u001b[0m \u001b[39melif\u001b[39;00m \u001b[39misinstance\u001b[39m(data, ma\u001b[39m.\u001b[39mMaskedArray):\n\u001b[0;32m    638\u001b[0m     \u001b[39mimport\u001b[39;00m \u001b[39mnumpy\u001b[39;00m\u001b[39m.\u001b[39;00m\u001b[39mma\u001b[39;00m\u001b[39m.\u001b[39;00m\u001b[39mmrecords\u001b[39;00m \u001b[39mas\u001b[39;00m \u001b[39mmrecords\u001b[39;00m\n",
      "File \u001b[1;32mc:\\Users\\cristian.sanchezp\\AppData\\Local\\Programs\\Python\\Python310\\lib\\site-packages\\pandas\\core\\internals\\construction.py:502\u001b[0m, in \u001b[0;36mdict_to_mgr\u001b[1;34m(data, index, columns, dtype, typ, copy)\u001b[0m\n\u001b[0;32m    494\u001b[0m     arrays \u001b[39m=\u001b[39m [\n\u001b[0;32m    495\u001b[0m         x\n\u001b[0;32m    496\u001b[0m         \u001b[39mif\u001b[39;00m \u001b[39mnot\u001b[39;00m \u001b[39mhasattr\u001b[39m(x, \u001b[39m\"\u001b[39m\u001b[39mdtype\u001b[39m\u001b[39m\"\u001b[39m) \u001b[39mor\u001b[39;00m \u001b[39mnot\u001b[39;00m \u001b[39misinstance\u001b[39m(x\u001b[39m.\u001b[39mdtype, ExtensionDtype)\n\u001b[0;32m    497\u001b[0m         \u001b[39melse\u001b[39;00m x\u001b[39m.\u001b[39mcopy()\n\u001b[0;32m    498\u001b[0m         \u001b[39mfor\u001b[39;00m x \u001b[39min\u001b[39;00m arrays\n\u001b[0;32m    499\u001b[0m     ]\n\u001b[0;32m    500\u001b[0m     \u001b[39m# TODO: can we get rid of the dt64tz special case above?\u001b[39;00m\n\u001b[1;32m--> 502\u001b[0m \u001b[39mreturn\u001b[39;00m arrays_to_mgr(arrays, columns, index, dtype\u001b[39m=\u001b[39;49mdtype, typ\u001b[39m=\u001b[39;49mtyp, consolidate\u001b[39m=\u001b[39;49mcopy)\n",
      "File \u001b[1;32mc:\\Users\\cristian.sanchezp\\AppData\\Local\\Programs\\Python\\Python310\\lib\\site-packages\\pandas\\core\\internals\\construction.py:120\u001b[0m, in \u001b[0;36marrays_to_mgr\u001b[1;34m(arrays, columns, index, dtype, verify_integrity, typ, consolidate)\u001b[0m\n\u001b[0;32m    117\u001b[0m \u001b[39mif\u001b[39;00m verify_integrity:\n\u001b[0;32m    118\u001b[0m     \u001b[39m# figure out the index, if necessary\u001b[39;00m\n\u001b[0;32m    119\u001b[0m     \u001b[39mif\u001b[39;00m index \u001b[39mis\u001b[39;00m \u001b[39mNone\u001b[39;00m:\n\u001b[1;32m--> 120\u001b[0m         index \u001b[39m=\u001b[39m _extract_index(arrays)\n\u001b[0;32m    121\u001b[0m     \u001b[39melse\u001b[39;00m:\n\u001b[0;32m    122\u001b[0m         index \u001b[39m=\u001b[39m ensure_index(index)\n",
      "File \u001b[1;32mc:\\Users\\cristian.sanchezp\\AppData\\Local\\Programs\\Python\\Python310\\lib\\site-packages\\pandas\\core\\internals\\construction.py:664\u001b[0m, in \u001b[0;36m_extract_index\u001b[1;34m(data)\u001b[0m\n\u001b[0;32m    661\u001b[0m         \u001b[39mraise\u001b[39;00m \u001b[39mValueError\u001b[39;00m(\u001b[39m\"\u001b[39m\u001b[39mPer-column arrays must each be 1-dimensional\u001b[39m\u001b[39m\"\u001b[39m)\n\u001b[0;32m    663\u001b[0m \u001b[39mif\u001b[39;00m \u001b[39mnot\u001b[39;00m indexes \u001b[39mand\u001b[39;00m \u001b[39mnot\u001b[39;00m raw_lengths:\n\u001b[1;32m--> 664\u001b[0m     \u001b[39mraise\u001b[39;00m \u001b[39mValueError\u001b[39;00m(\u001b[39m\"\u001b[39m\u001b[39mIf using all scalar values, you must pass an index\u001b[39m\u001b[39m\"\u001b[39m)\n\u001b[0;32m    666\u001b[0m \u001b[39melif\u001b[39;00m have_series:\n\u001b[0;32m    667\u001b[0m     index \u001b[39m=\u001b[39m union_indexes(indexes)\n",
      "\u001b[1;31mValueError\u001b[0m: If using all scalar values, you must pass an index"
     ]
    }
   ],
   "source": []
  },
  {
   "cell_type": "markdown",
   "metadata": {},
   "source": [
    "## Dividir el dataset en Training set y Test set\n",
    "\n",
    "Este paso debe ser al inicio de los proyectos,  Se deben realizar todas las transformaciones, preparación de datos y limpieza de los datos, en el train set y en la evaluacion se deben aplicarl al test set y a los datos nuevos que lleguen al sistema. Esta division inicial se hace para evitar data leakage de los datos de test a los datos de train, por ejemplo en las imputaciones.\n",
    "\n",
    "Por este motivo se realizara en esta parte.\n",
    "\n",
    "Division de los datos de entrenamiento (Train set) y de Evaluacion (test - set), las divisiones utilizadas son\n",
    "\n",
    "- 80% (train) , 20%(test)\n",
    "- 70% (train) , 30%(test)\n",
    "\n",
    "El **Train set** se hace para seleccion de Modelos y el **Test-set** solamente para la evaluacion Final"
   ]
  },
  {
   "cell_type": "markdown",
   "metadata": {},
   "source": []
  }
 ],
 "metadata": {
  "colab": {
   "collapsed_sections": [
    "mXQHmtMbHJoh",
    "3aVUkwJVHJom",
    "9SfZHh6oHJor",
    "1S_iRK8rHJo0",
    "Ey5Lk8evHJo3",
    "0Y0UV-GVHJo6",
    "he4lxsEUHJpM",
    "h0FKIrJHHJpO",
    "jYPdefrhHJpS",
    "zUundEM6HJpT",
    "2GNrgJzHHJpW",
    "uRwep7LjHJpZ",
    "JCcM4XFbHJpd"
   ],
   "name": "Trabajo_Preparacion_Datos_JoseR_Zapata.ipynb",
   "provenance": []
  },
  "kernelspec": {
   "display_name": "Python 3.10.7 64-bit (microsoft store)",
   "language": "python",
   "name": "python3"
  },
  "language_info": {
   "codemirror_mode": {
    "name": "ipython",
    "version": 3
   },
   "file_extension": ".py",
   "mimetype": "text/x-python",
   "name": "python",
   "nbconvert_exporter": "python",
   "pygments_lexer": "ipython3",
   "version": "3.10.7"
  },
  "nbTranslate": {
   "displayLangs": [
    "es",
    "en"
   ],
   "hotkey": "alt-t",
   "langInMainMenu": true,
   "sourceLang": "en",
   "targetLang": "es",
   "useGoogleTranslate": true
  },
  "toc": {
   "base_numbering": 1,
   "nav_menu": {},
   "number_sections": true,
   "sideBar": true,
   "skip_h1_title": false,
   "title_cell": "Contenido",
   "title_sidebar": "Contenido",
   "toc_cell": true,
   "toc_position": {},
   "toc_section_display": true,
   "toc_window_display": false
  },
  "varInspector": {
   "cols": {
    "lenName": 16,
    "lenType": 16,
    "lenVar": 40
   },
   "kernels_config": {
    "python": {
     "delete_cmd_postfix": "",
     "delete_cmd_prefix": "del ",
     "library": "var_list.py",
     "varRefreshCmd": "print(var_dic_list())"
    },
    "r": {
     "delete_cmd_postfix": ") ",
     "delete_cmd_prefix": "rm(",
     "library": "var_list.r",
     "varRefreshCmd": "cat(var_dic_list()) "
    }
   },
   "types_to_exclude": [
    "module",
    "function",
    "builtin_function_or_method",
    "instance",
    "_Feature"
   ],
   "window_display": false
  },
  "vscode": {
   "interpreter": {
    "hash": "3d0f526a75e70fa7259b5e36ab5fdbb650e38bac3f52c949b957a12e00162b0e"
   }
  }
 },
 "nbformat": 4,
 "nbformat_minor": 4
}
